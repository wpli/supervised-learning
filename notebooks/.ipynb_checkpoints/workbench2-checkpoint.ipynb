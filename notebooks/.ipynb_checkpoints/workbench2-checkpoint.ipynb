{
 "metadata": {
  "name": ""
 },
 "nbformat": 3,
 "nbformat_minor": 0,
 "worksheets": [
  {
   "cells": [
    {
     "cell_type": "code",
     "collapsed": false,
     "input": [
      "import sys\n",
      "sys.path.append( '../src' )\n",
      "import utils_raw"
     ],
     "language": "python",
     "metadata": {},
     "outputs": [],
     "prompt_number": 3
    },
    {
     "cell_type": "code",
     "collapsed": false,
     "input": [
      "reload( utils_raw )\n",
      "test_times_locations = utils_raw.get_times_locations( '../data/test2.txt' )\n",
      "lon_lat_name_dict = utils_raw.get_lon_lat_name_dict()"
     ],
     "language": "python",
     "metadata": {},
     "outputs": [],
     "prompt_number": 6
    },
    {
     "cell_type": "code",
     "collapsed": false,
     "input": [
      "print test_times_locations[0]"
     ],
     "language": "python",
     "metadata": {},
     "outputs": [
      {
       "output_type": "stream",
       "stream": "stdout",
       "text": [
        "['0', datetime.datetime(2012, 5, 8, 7, 0), datetime.datetime(2012, 5, 8, 9, 0), -71.057114, 42.343365]\n"
       ]
      }
     ],
     "prompt_number": 8
    },
    {
     "cell_type": "code",
     "collapsed": false,
     "input": [
      "dt_by_landmark = {}\n",
      "for lon_lat, name in lon_lat_name_dict.items():\n",
      "    dt_by_landmark[name] = []\n",
      "    \n",
      "for i in test_times_locations:\n",
      "    landmark_name = lon_lat_name_dict[( i[3], i[4] )]\n",
      "    "
     ],
     "language": "python",
     "metadata": {},
     "outputs": []
    }
   ],
   "metadata": {}
  }
 ]
}