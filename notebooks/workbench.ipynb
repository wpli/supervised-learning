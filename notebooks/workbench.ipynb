{
 "metadata": {
  "name": ""
 },
 "nbformat": 3,
 "nbformat_minor": 0,
 "worksheets": [
  {
   "cells": [
    {
     "cell_type": "markdown",
     "metadata": {},
     "source": [
      "Run this first cell in order to pre-load the data."
     ]
    },
    {
     "cell_type": "code",
     "collapsed": false,
     "input": [
      "sys.path.append( '../src' )\n",
      "import utils_raw\n",
      "reload( utils_raw )\n",
      "import utils_general\n",
      "reload( utils_general )\n",
      "import utils_preprocess\n",
      "reload( utils_preprocess )\n",
      "import utils_features\n",
      "reload( utils_features )\n",
      "\n",
      "import time\n",
      "import ipdb\n",
      "import sys\n",
      "import collections\n",
      "import numpy\n",
      "from sklearn import linear_model"
     ],
     "language": "python",
     "metadata": {},
     "outputs": [],
     "prompt_number": 2
    },
    {
     "cell_type": "code",
     "collapsed": false,
     "input": [
      "sys.path.append( '../src' )\n",
      "import utils_raw\n",
      "reload( utils_raw )\n",
      "import utils_general\n",
      "reload( utils_general )\n",
      "import utils_preprocess\n",
      "reload( utils_preprocess )\n",
      "import utils_features\n",
      "reload( utils_features )\n",
      "\n",
      "import time\n",
      "import ipdb\n",
      "import sys\n",
      "import collections\n",
      "import numpy\n",
      "from sklearn import linear_model\n",
      "DIST_THRESHOLD = 0.00224946357\n",
      "SQ_DIST_THRESHOLD = DIST_THRESHOLD**2\n",
      "\n",
      "TRAIN_TEST_SPLIT = 0.8\n",
      "\n",
      "if 1:\n",
      "    # ---\n",
      "    # get raw data\n",
      "    sys.stderr.write( \"Getting raw data...\" )\n",
      "\n",
      "    # raw data: pickups\n",
      "    # pickups schema: [ datetime, lon, lat ]\n",
      "\n",
      "\n",
      "    pickups = utils_raw.get_pickups( '../data/pickups_train.csv' )\n",
      "    \n",
      "    # raw data: times/locations that need to be predicted\n",
      "    # times_locations schema: [ prediction_index, start_datetime, end_datetime, lon, lat ] \n",
      "    times_locations = utils_raw.get_times_locations( '../data/test1.txt' )\n",
      "\n",
      "    # set of lon/lats and times that we want pickups for\n",
      "    landmarks = set( [ (i[3], i[4]) for i in times_locations ] )\n",
      "    times = set( i[1].hour for i in times_locations )\n",
      "    sys.stderr.write( \"done.\\n\" )\n",
      "\n",
      "\n",
      "    # ---\n",
      "    # get pre-processed data\n",
      "    sys.stderr.write( \"Pre-processing data...\" )\n",
      "    sys.stderr.write( \"counting pickups by landmarks...\" )\n",
      "    landmark_pickup_dict = utils_preprocess.get_landmark_pickup_dict( landmarks, pickups, SQ_DIST_THRESHOLD )\n",
      "\n",
      "    landmark_time_location_dict = collections.defaultdict( list )\n",
      "    sys.stderr.write( \"counting times by landmarks...\" )\n",
      "    for idx, i in enumerate( times_locations ):\n",
      "        landmark_time_location_dict[(i[3],i[4])].append( idx )\n",
      "        \n",
      "    sys.stderr.write( \"done.\\n\" )\n",
      "\n",
      "    possible_days = list( set( [ i[1].date() for i in times_locations ] ) )\n",
      "    test_days_dict = dict( zip( possible_days, range(len(possible_days) ) ) )\n",
      "\n",
      "    # ---\n",
      "    # create \"raw\" training set and validation set\n",
      "    #landmark_{train|val}_dict[(lon,lat)] = [ ( window_start_datetime0, count0 ), ( window_start_datetime1, count1 ) ... ]\n",
      "    ( landmark_train_dict, landmark_val_dict ) = utils_preprocess.get_train_validation_landmark_dicts( landmark_pickup_dict, pickups, train_test_split = TRAIN_TEST_SPLIT )\n",
      "\n",
      "    "
     ],
     "language": "python",
     "metadata": {},
     "outputs": [
      {
       "output_type": "stream",
       "stream": "stderr",
       "text": [
        "Getting raw data...done.\n"
       ]
      },
      {
       "output_type": "stream",
       "stream": "stderr",
       "text": [
        "Pre-processing data...counting pickups by landmarks...counting times by landmarks..."
       ]
      },
      {
       "output_type": "stream",
       "stream": "stderr",
       "text": [
        "done.\n"
       ]
      }
     ],
     "prompt_number": 3
    },
    {
     "cell_type": "code",
     "collapsed": false,
     "input": [
      "landmark_pickup_indices = utils_preprocess.get_background_taxi_activity( landmark_pickup_dict )\n",
      "all_excluded_pickups = []\n",
      "for idx, i in enumerate( pickups ):\n",
      "    if idx not in landmark_pickup_indices:\n",
      "        all_excluded_pickups.append( ( i[0].date(), i[0].hour ) )\n",
      "\n",
      "background_pickups_counter = collections.Counter( all_excluded_pickups )"
     ],
     "language": "python",
     "metadata": {},
     "outputs": [],
     "prompt_number": 4
    },
    {
     "cell_type": "code",
     "collapsed": false,
     "input": [
      "background_pickups_counter.iteritems().next()"
     ],
     "language": "python",
     "metadata": {},
     "outputs": [
      {
       "metadata": {},
       "output_type": "pyout",
       "prompt_number": 5,
       "text": [
        "((datetime.date(2012, 7, 1), 20), 473)"
       ]
      }
     ],
     "prompt_number": 5
    },
    {
     "cell_type": "code",
     "collapsed": false,
     "input": [
      "pickups[0]"
     ],
     "language": "python",
     "metadata": {},
     "outputs": []
    },
    {
     "cell_type": "code",
     "collapsed": false,
     "input": [
      "multiplier_landmark_dict = {}\n",
      "for multiplier in ( 2, 4 ):\n",
      "    multiplier_landmark_dict[multiplier] = {}\n",
      "    dist = DIST_THRESHOLD * 2\n",
      "    sq_dist = dist**2\n",
      "    #landmark_other_trips_dict = {}\n",
      "    landmark_other_trips_counter = {}\n",
      "    for landmark in list( landmarks ):\n",
      "        other_trips = []\n",
      "        for idx, i in enumerate( pickups ):\n",
      "            if idx not in landmark_pickup_indices:\n",
      "                if utils_general.calculate_square_dist( landmark[0], landmark[1], pickups[idx][1], pickups[idx][2] ) < sq_dist:\n",
      "                    other_trips.append( ( i[0].date(), i[0].hour ) )\n",
      "                \n",
      "\n",
      "        #landmark_other_trips_dict[landmark] = other_trips\n",
      "        landmark_other_trips_counter[landmark] = collections.Counter( other_trips )\n",
      "        \n",
      "    multiplier_landmark_dict[multiplier] = landmark_other_trips_counter"
     ],
     "language": "python",
     "metadata": {},
     "outputs": [],
     "prompt_number": 7
    },
    {
     "cell_type": "code",
     "collapsed": false,
     "input": [
      "x = list(landmarks)[1]\n",
      "len( landmark_other_trips_counter[x] )"
     ],
     "language": "python",
     "metadata": {},
     "outputs": [
      {
       "metadata": {},
       "output_type": "pyout",
       "prompt_number": 185,
       "text": [
        "5034"
       ]
      }
     ],
     "prompt_number": 185
    },
    {
     "cell_type": "code",
     "collapsed": false,
     "input": [],
     "language": "python",
     "metadata": {},
     "outputs": [],
     "prompt_number": 91
    },
    {
     "cell_type": "code",
     "collapsed": true,
     "input": [
      "for key, val in landmark_pickup_dict.items():\n",
      "    print key, len(val)"
     ],
     "language": "python",
     "metadata": {},
     "outputs": [
      {
       "output_type": "stream",
       "stream": "stdout",
       "text": [
        "(-71.049767, 42.351658) 25696 1\n",
        "(-71.065109, 42.35154) 138465 1\n",
        "(-71.084206, 42.347626) 200596 1\n",
        "(-71.066193, 42.349987) 94532 1\n",
        "(-71.097244, 42.346439) 90162 1\n",
        "(-71.04493, 42.346577) 60259 1\n",
        "(-71.053635, 42.359726) 110269 1\n",
        "(-71.051659, 42.345394) 4294 1\n",
        "(-71.064461, 42.350315) 114957 1\n",
        "(-71.060493, 42.355457) 68424 1\n",
        "(-71.04924, 42.359219) 35743 1\n",
        "(-71.075111, 42.347534) 111896 1\n",
        "(-71.056396, 42.357574) 119977 1\n",
        "(-71.042946, 42.352856) 20636 1\n",
        "(-71.062569, 42.354008) 102806 1\n",
        "(-71.059608, 42.3592) 98167 1\n",
        "(-71.065567, 42.315872) 0 1\n",
        "(-71.04525, 42.353764) 8335 1\n",
        "(-71.036064, 42.348522) 14132 1\n",
        "(-71.08567, 42.342808) 32463 1\n",
        "(-71.083717, 42.329704) 0 1\n",
        "(-71.040306, 42.351776) 7381 1\n",
        "(-71.057114, 42.343365) 9300 1\n",
        "(-71.114105, 42.300732) 47483 1\n",
        "(-71.127762, 42.358086) 0 1\n",
        "(-71.016518, 42.366631) 66322 1\n",
        "(-71.073502, 42.347263) 37438 1\n",
        "(-71.040916, 42.346043) 8608 1\n",
        "(-71.064713, 42.350712) 128566 1\n",
        "(-71.02861, 42.344254) 3424 1\n",
        "(-71.055511, 42.365353) 36808 1\n",
        "(-71.062103, 42.366261) 67824 1\n",
        "(-71.056213, 42.360039) 130321 1\n",
        "(-71.055138, 42.351818) 184578 1\n",
        "(-71.06559, 42.350483) 119138 1\n"
       ]
      }
     ],
     "prompt_number": 60
    },
    {
     "cell_type": "code",
     "collapsed": false,
     "input": [
      "if 1:\n",
      "    # ---\n",
      "    # sample the training set and validation set (possibly to be more reflective of the test set)\n",
      "    sampled_landmark_train_dict = {}\n",
      "    sampled_landmark_val_dict = {}\n",
      "    \n",
      "    for landmark, entries in landmark_train_dict.items():\n",
      "        test_start_hours = [ ( times_locations[idx][1].weekday(), times_locations[idx][1].hour / 2 * 2 ) \\\n",
      "                            for idx in landmark_time_location_dict[landmark] ]\n",
      "        #start_time_counts = collections.Counter( test_start_dts )\n",
      "        #start_time_counts = start_time_counts.keys()\n",
      "        #start_time_counts = start_time_counts + [ i+2 for i in start_time_counts ]\n",
      "        temp_list = list( set( test_start_hours ) )\n",
      "        start_times = temp_list + [ ( i[0], i[1]+2) for i in temp_list ]\n",
      "        start_times_set = set( start_times )\n",
      "        #train_data = [ i for i in landmark_train_dict[landmark] if i[0].hour in start_time_counts ]\n",
      "        sampled_landmark_train_dict[landmark] = [ i for i in landmark_train_dict[landmark] if ( i[0].weekday(), i[0].hour ) \\\n",
      "                                                in start_times_set ]\n",
      "        sampled_landmark_val_dict[landmark] = [ i for i in landmark_val_dict[landmark] if ( i[0].weekday(), i[0].hour ) \\\n",
      "                                                in start_times_set ]\n",
      "        \n",
      "        \n",
      "        \n",
      "        start_time_hours = set( [ i[1] for i in list(start_times_set) ] )\n",
      "        \n",
      "        \n",
      "        sampled_landmark_train_dict[landmark] = [ i for i in landmark_train_dict[landmark] if i[0].hour \\\n",
      "                                                in start_time_hours ]\n",
      "        sampled_landmark_val_dict[landmark] = [ i for i in landmark_val_dict[landmark] if i[0].hour \\\n",
      "                                                in start_time_hours ]\n",
      "\n"
     ],
     "language": "python",
     "metadata": {},
     "outputs": [],
     "prompt_number": 8
    },
    {
     "cell_type": "code",
     "collapsed": false,
     "input": [
      "for landmark, item in sampled_landmark_train_dict.items():\n",
      "    print landmark, len( item )\n",
      "print sum( [ len(i) for i in sampled_landmark_train_dict.values() ] )"
     ],
     "language": "python",
     "metadata": {},
     "outputs": [
      {
       "output_type": "stream",
       "stream": "stdout",
       "text": [
        "(-71.049767, 42.351658) 1386\n",
        "(-71.065109, 42.35154) 1775\n",
        "(-71.084206, 42.347626) 1785\n",
        "(-71.066193, 42.349987) 1760\n",
        "(-71.097244, 42.346439) 1730\n",
        "(-71.04493, 42.346577) 1637\n",
        "(-71.053635, 42.359726) 1744\n",
        "(-71.051659, 42.345394) 811\n",
        "(-71.064461, 42.350315) 1772\n",
        "(-71.060493, 42.355457) 1718\n",
        "(-71.04924, 42.359219) 1598\n",
        "(-71.075111, 42.347534) 1765\n",
        "(-71.056396, 42.357574) 1738\n",
        "(-71.042946, 42.352856) 918\n",
        "(-71.062569, 42.354008) 1751\n",
        "(-71.059608, 42.3592) 1746\n",
        "(-71.065567, 42.315872) 0\n",
        "(-71.04525, 42.353764) 891\n",
        "(-71.036064, 42.348522) 767\n",
        "(-71.08567, 42.342808) 1707\n",
        "(-71.083717, 42.329704) 0\n",
        "(-71.040306, 42.351776) 904\n",
        "(-71.057114, 42.343365) 1347\n",
        "(-71.114105, 42.300732) 1633\n",
        "(-71.127762, 42.358086) 0\n",
        "(-71.016518, 42.366631) 1626\n",
        "(-71.073502, 42.347263) 1636\n",
        "(-71.040916, 42.346043) 1185\n",
        "(-71.064713, 42.350712) 1766\n",
        "(-71.02861, 42.344254) 383\n",
        "(-71.055511, 42.365353) 1495\n",
        "(-71.062103, 42.366261) 1656\n",
        "(-71.056213, 42.360039) 1730\n",
        "(-71.055138, 42.351818) 1779\n",
        "(-71.06559, 42.350483) 1768\n",
        "47907\n"
       ]
      }
     ],
     "prompt_number": 63
    },
    {
     "cell_type": "markdown",
     "metadata": {},
     "source": [
      "Run this cell to add/play around with different functions and write submission files."
     ]
    },
    {
     "cell_type": "code",
     "collapsed": false,
     "input": [
      "from sklearn import ensemble"
     ],
     "language": "python",
     "metadata": {},
     "outputs": [],
     "prompt_number": 10
    },
    {
     "cell_type": "code",
     "collapsed": false,
     "input": [
      "runs_rms_vals = []"
     ],
     "language": "python",
     "metadata": {},
     "outputs": [],
     "prompt_number": 11
    },
    {
     "cell_type": "code",
     "collapsed": false,
     "input": [
      "def get_nearest_landmarks( target_landmark, landmarks, radius_km ):\n",
      "    nearby_landmarks = []\n",
      "    for landm in landmarks:\n",
      "        if utils_general.calculate_square_dist( target_landmark[0], target_landmark[1], landm[0], landm[1] ) < radius_km**2:\n",
      "            nearby_landmarks.append( landm )\n",
      "            \n",
      "    return nearby_landmarks"
     ],
     "language": "python",
     "metadata": {},
     "outputs": [],
     "prompt_number": 12
    },
    {
     "cell_type": "code",
     "collapsed": false,
     "input": [
      "with open( '../data/interestpoints.csv' ) as f:\n",
      "    x = f.read().split('\\n')\n",
      "    if x[-1] == '':\n",
      "        del x[-1]\n",
      "        \n",
      "    del x[0]\n",
      "    \n",
      "interest_points_list = [ i.split(',') for i in x ]\n",
      "name_lon_lat = [ ( i[0], float( i[3] ), float( i[2] ) ) for i in interest_points_list ]\n",
      "lon_lat_name_dict = {}\n",
      "for i in name_lon_lat:\n",
      "    lon_lat_name_dict[ ( i[1], i[2] ) ] = i[0]\n",
      "    \n",
      "for landm in list( landmarks ):\n",
      "    print lon_lat_name_dict[ landm ]\n",
      "\n",
      "    "
     ],
     "language": "python",
     "metadata": {},
     "outputs": [
      {
       "output_type": "stream",
       "stream": "stdout",
       "text": [
        "Children's Museum\n",
        "Majestic Theater\n",
        "Hynes Convention Center\n",
        "Charles Playhouse\n",
        "Fenway Park\n",
        "Boston Convention and Exhibition Center\n",
        "Bank of America Pavilion\n",
        "Channel Center\n",
        "Wang Theater\n",
        "Washington & Winter/Summer\n",
        "New England Aquarium\n",
        "Back Bay T Stop\n",
        "Post Office Sq\n",
        "Institute Of Contemporary Art\n",
        "Opera House\n",
        "Scollay Sq\n",
        "Strand Theater\n",
        "Faneuil Hall Sq\n",
        "Fan pier\n",
        "TD Garden/North Station\n",
        "Symphony Hall\n",
        "Dudley Square T Stop\n",
        "World Trade Center\n",
        "Broadway T Stop\n",
        "Forest Hills T Stop\n",
        "Allston\n",
        "Logan International Airport\n",
        "Clarendon Sq\n",
        "Waterside Place\n",
        "Wilbur Theater\n",
        "27 Drydock\n",
        "North End\n",
        "Faneuil Hall\n",
        "South Station\n",
        "Shubert Theater\n"
       ]
      }
     ],
     "prompt_number": 22
    },
    {
     "cell_type": "code",
     "collapsed": false,
     "input": [],
     "language": "python",
     "metadata": {},
     "outputs": [
      {
       "output_type": "stream",
       "stream": "stdout",
       "text": [
        "set([2, 3]) set([2, 3])\n"
       ]
      }
     ],
     "prompt_number": 58
    },
    {
     "cell_type": "code",
     "collapsed": false,
     "input": [
      "def jaccard_index( name1, name2 ):\n",
      "    name1_words = set( name1.lower().split() )\n",
      "    name2_words = set( name2.lower().split() )\n",
      "    for s in (name1_words, name2_words):\n",
      "        if \"of\" in s:    \n",
      "            s.remove( \"of\" )\n",
      "        if \"the\"  in s:\n",
      "            s.remove( \"the\" )\n",
      "    \n",
      "    intersect = len( set.intersection( name1_words, name2_words ) )\n",
      "    union = len( set.union( name1_words, name2_words ) )\n",
      "    \n",
      "    jaccard = float( intersect ) / union\n",
      "    return jaccard\n",
      "\n",
      "print jaccard_index( \"hello woRld\", \"starbucks World\" )\n",
      "print jaccard_index( \"logan airport\", \"27 drydock\" )\n",
      "print jaccard_index( \"inst of art\", \"logan of\" )"
     ],
     "language": "python",
     "metadata": {},
     "outputs": [
      {
       "output_type": "stream",
       "stream": "stdout",
       "text": [
        "0.333333333333\n",
        "0.0\n",
        "0.0\n"
       ]
      }
     ],
     "prompt_number": 63
    },
    {
     "cell_type": "code",
     "collapsed": false,
     "input": [
      "import utils_features\n",
      "reload( utils_features )\n",
      "feature_function_list = [ \\\n",
      "                              utils_features.feature_day_of_week_binary , \\\n",
      "                              utils_features.feature_time_quadrant_binary, \\\n",
      "                              utils_features.feature_day_time_product_binary, \\\n",
      "                              utils_features.feature_day_month_product_binary, \\\n",
      "                              utils_features.feature_corrected_hour, \\\n",
      "                              utils_features.feature_day, \\\n",
      "                              utils_features.feature_week_number, \\\n",
      "                              utils_features.feature_landmark_taxi_popularity, \\\n",
      "                              utils_features.feature_even_hour_binary, \\\n",
      "                              utils_features.feature_other_pickups, \\\n",
      "                              utils_features.feature_nearby_pickups, \\\n",
      "                              utils_features.feature_lon_lat_rounded ]\n",
      "    \n",
      "\n",
      "    \n",
      "#regression_model = linear_model.Ridge()\n",
      "regression_model = ensemble.RandomForestRegressor( n_estimators=30  )\n",
      "    \n",
      "if 1:\n",
      "    \n",
      "    all_train_prediction_rms_errors = []\n",
      "    all_val_predictions_rms_errors = []\n",
      "    final_predictions = []\n",
      "\n",
      "    val_prediction_actual_tuples = []\n",
      "    \n",
      "    # compute the features on the training set, validation set, and test set\n",
      "    # train model on training set and evaluate performance on training and validation set\n",
      "    # train model on training+validation set and compute predictions on test set                                \n",
      "    \n",
      "    train_val_performance = []\n",
      "    for landm in list( landmarks ):\n",
      "        \n",
      "        train_data = []\n",
      "        train_features = []\n",
      "        train_y = []\n",
      "        nearest_landmarks = get_nearest_landmarks( landm, list( landmarks ), radius_km = 2*DIST_THRESHOLD )\n",
      "        \n",
      "        similarly_named_landmarks = []\n",
      "        for l2 in list(landmarks):\n",
      "            if jaccard_index( lon_lat_name_dict[l2], lon_lat_name_dict[landm] ) > 0.0:\n",
      "                similarly_named_landmarks.append( l2 )\n",
      "        \n",
      "        landmarks_to_include = list( set( similarly_named_landmarks + nearest_landmarks ) )\n",
      "        print lon_lat_name_dict[landm], [ lon_lat_name_dict[i] for i in landmarks_to_include ]\n",
      "        \n",
      "        #print len( nearest_landmarks )\n",
      "        for landmark in landmarks_to_include:\n",
      "            total_pickups = len( landmark_pickup_dict[landmark] )\n",
      "            train_data = [ i for i in sampled_landmark_train_dict[landmark] ]\n",
      "            additional_train_features = [ utils_features.featurize( \\\n",
      "                                                                 i[0], feature_function_list, \\\n",
      "                                                                 lon_lat = landmark, \\\n",
      "                                                                 possible_days=possible_days, \\\n",
      "                                                                 test_days_dict=test_days_dict, \\\n",
      "                                                                 all_pickups=total_pickups, \\\n",
      "                                                                 background_pickups_counter=background_pickups_counter, \\\n",
      "                                                                 nearby_pickups_counter=multiplier_landmark_dict[2][landmark], \\\n",
      "                                                                 km_nearby_pickups_counter=multiplier_landmark_dict[4][landmark], \\\n",
      "                                                                 ) for i in \\\n",
      "                                                                train_data ]\n",
      "            \n",
      "            \n",
      "            train_features += additional_train_features\n",
      "            train_y += [i[1] for i in train_data ]\n",
      "            #if landmark == landm:\n",
      "            #    train_features += additional_train_features\n",
      "            #    train_y += [i[1] for i in train_data ]\n",
      "                \n",
      "            \n",
      "            \n",
      "            \n",
      "            \n",
      "            \n",
      "\n",
      "        val_data = []\n",
      "        landmark = landm\n",
      "        val_data = sampled_landmark_val_dict[landmark]\n",
      "        total_pickups = len( landmark_pickup_dict[landmark] )\n",
      "        \n",
      "        \n",
      "        #total_pickups = 0\n",
      "\n",
      "        val_features = [ utils_features.featurize( \\\n",
      "                                                                 i[0], feature_function_list, \\\n",
      "                                                                 lon_lat = landmark, \\\n",
      "                                                                 possible_days=possible_days, \\\n",
      "                                                                 test_days_dict=test_days_dict, \\\n",
      "                                                                 all_pickups=total_pickups, \\\n",
      "                                                                 background_pickups_counter=background_pickups_counter, \\\n",
      "                                                                 nearby_pickups_counter=multiplier_landmark_dict[2][landmark], \\\n",
      "                                                                 km_nearby_pickups_counter=multiplier_landmark_dict[4][landmark], \\\n",
      "                                                                 ) for i in \\\n",
      "                                                                 val_data ]\n",
      "        \n",
      "        \n",
      "        assert len( val_data ) == len( val_features )\n",
      "        \n",
      "        test_data = [ times_locations[idx][1] for idx in landmark_time_location_dict[landmark] ]\n",
      "        test_data_indices = [ times_locations[idx][0] for idx in landmark_time_location_dict[landmark] ]\n",
      "        \n",
      "        # note that test_data is in a slightly different format than train_data and val_data because it does not have predictions\n",
      "        test_features = [ utils_features.featurize( i, \\\n",
      "                                                                 feature_function_list, \\\n",
      "                                                                 lon_lat = landmark, \\\n",
      "                                                                 possible_days=possible_days, \\\n",
      "                                                                 test_days_dict=test_days_dict, \\\n",
      "                                                                 all_pickups=total_pickups, \\\n",
      "                                                                 background_pickups_counter=background_pickups_counter, \\\n",
      "                                                                 nearby_pickups_counter=multiplier_landmark_dict[2][landmark], \\\n",
      "                                                                 km_nearby_pickups_counter=multiplier_landmark_dict[4][landmark], \\\n",
      "                                                                 ) for i in \\\n",
      "                                                                test_data ]\n",
      "        \n",
      "        \n",
      "        \n",
      "        val_y = numpy.array( [i[1] for i in val_data ] )                                                    \n",
      "                                                                \n",
      "        if len( val_features ) == 0: # or landm != (-71.059608, 42.3592):\n",
      "            test_predictions = [ 0 for i in test_features ]    \n",
      "        else:\n",
      "            sys.stderr.write( \"Fitting regression model on training data...\" )\n",
      "            #print [ len(i) for i in val_features ]\n",
      "        \n",
      "            clf = regression_model\n",
      "            clf.fit( train_features, train_y )\n",
      "            # compute performance on training data\n",
      "            predictions = clf.predict( train_features )\n",
      "            predictions = [ max( i,0) for i in predictions ]\n",
      "            landmark_train_prediction_rms_errors = [ numpy.sqrt((predictions[idx] - train_y[idx])**2) for idx in range(len(predictions)) ]\n",
      "            all_train_prediction_rms_errors += landmark_train_prediction_rms_errors\n",
      "            assert len( val_features ) > 0\n",
      "            # compute performance on validation data\n",
      "            for i in val_features:\n",
      "                assert len( i ) == len( train_features[0] )\n",
      "            \n",
      "            predictions = clf.predict( val_features )\n",
      "            predictions = [ max( round(i,0), 0 ) for i in predictions ]\n",
      "            landmark_val_prediction_rms_errors = \\\n",
      "                [ numpy.sqrt((predictions[idx] - val_y[idx])**2) for idx in range(len(predictions)) ]\n",
      "                \n",
      "            val_prediction_actual_tuples += [ ( predictions[idx], val_y[idx] ) for idx in range(len(predictions))]\n",
      "                \n",
      "            all_val_predictions_rms_errors += landmark_val_prediction_rms_errors\n",
      "\n",
      "            sys.stderr.write( \"\\n\" )\n",
      "            train_val_performance.append( ( landmark, numpy.average( landmark_train_prediction_rms_errors ), \\\n",
      "                numpy.average( landmark_val_prediction_rms_errors ) ) )\n",
      "            sys.stderr.write( \"%s, %s, %s, %s, %s\\n\" % ( \\\n",
      "                landmark, lon_lat_name_dict[landmark], numpy.average( landmark_train_prediction_rms_errors ), \\\n",
      "                numpy.average( landmark_val_prediction_rms_errors ), \\\n",
      "                len( test_features ) ) )\n",
      "            \n",
      "            test_hours = [ i.hour for i in test_data ]\n",
      "            train_hours = [ i[0].hour for i in train_data ]\n",
      "            #plt.subplot(2, 1, 1)\n",
      "            #plt.hist( test_hours )\n",
      "\n",
      "            #plt.subplot(2, 1, 2)\n",
      "            #plt.hist( train_hours )\n",
      "            #plt.show()\n",
      "            \n",
      "            \n",
      "            #plt.hist( train_hours )\n",
      "            #print test_data\n",
      "            \n",
      "            # train on all of the data\n",
      "            \n",
      "            sys.stderr.write( \"done.\\n\" )\n",
      "                             \n",
      "                    \n",
      "            \n",
      "            full_train_features = numpy.vstack( ( train_features, val_features ) )\n",
      "            full_train_y = numpy.hstack( ( train_y, val_y ) )          \n",
      "            clf = regression_model\n",
      "            \n",
      "            clf.fit( full_train_features, full_train_y )\n",
      "            test_predictions = clf.predict( test_features )\n",
      "            \n",
      "            test_predictions = [ max( int( round(i,0) ), 0 ) for i in test_predictions ]\n",
      "            \n",
      "        final_predictions += zip( test_data_indices, test_predictions )\n",
      "        #print clf.coef_[-1], \n",
      "    \n",
      "    sys.stderr.write( \"Average Train RMS Error: \" ) \n",
      "    train_rms = numpy.average( all_train_prediction_rms_errors )\n",
      "    sys.stderr.write( \"%s\\n\" % train_rms )\n",
      "\n",
      "    sys.stderr.write( \"Average Validation RMS Error: \" )\n",
      "    val_rms = numpy.average( all_val_predictions_rms_errors )\n",
      "    sys.stderr.write( \"%s\\n\" % val_rms )\n",
      "    pickups_guess = dict( final_predictions )\n",
      "\n",
      "    # write to file\n",
      "    extension = str( int( time.time() ) )\n",
      "    final_predictions = pickups_guess.items()\n",
      "    final_predictions.sort( key=lambda x:int(x[0]) )\n",
      "    output_filename = '../submissions/submission.%s.txt' % extension\n",
      "    with open( output_filename, 'w' ) as f:\n",
      "        for i in final_predictions:\n",
      "            f.write( \"%s %s\\n\" %( i[0], str( i[1] ) ) )\n",
      "    \n",
      "    sys.stderr.write( \"Wrote %s\\n\" % output_filename )\n",
      "    runs_rms_vals.append( ( output_filename, train_rms, val_rms ) )\n",
      "\n"
     ],
     "language": "python",
     "metadata": {},
     "outputs": [
      {
       "output_type": "stream",
       "stream": "stderr",
       "text": [
        "Fitting regression model on training data...\n"
       ]
      },
      {
       "output_type": "stream",
       "stream": "stdout",
       "text": [
        "Children's Museum [\"Children's Museum\"]\n",
        "Majestic Theater"
       ]
      },
      {
       "output_type": "stream",
       "stream": "stderr",
       "text": [
        "(-71.049767, 42.351658), Children's Museum, 1.25393022278, 3.31472081218, 20\n",
        "done.\n",
        "Fitting regression model on training data..."
       ]
      },
      {
       "output_type": "stream",
       "stream": "stdout",
       "text": [
        " ['Strand Theater', 'Wilbur Theater', 'Wang Theater', 'Majestic Theater', 'Charles Playhouse', 'Opera House', 'Shubert Theater']\n",
        "Hynes Convention Center"
       ]
      },
      {
       "output_type": "stream",
       "stream": "stderr",
       "text": [
        "\n",
        "(-71.065109, 42.35154), Majestic Theater, 2.35168050244, 6.925, 20\n",
        "done.\n",
        "Fitting regression model on training data..."
       ]
      },
      {
       "output_type": "stream",
       "stream": "stdout",
       "text": [
        " ['World Trade Center', 'Hynes Convention Center', 'Channel Center', 'Boston Convention and Exhibition Center']\n",
        "Charles Playhouse"
       ]
      },
      {
       "output_type": "stream",
       "stream": "stderr",
       "text": [
        "\n",
        "(-71.084206, 42.347626), Hynes Convention Center, 3.374679327, 14.16367713, 19\n",
        "done.\n",
        "Fitting regression model on training data..."
       ]
      },
      {
       "output_type": "stream",
       "stream": "stdout",
       "text": [
        " ['Wilbur Theater', 'Charles Playhouse', 'Majestic Theater', 'Wang Theater', 'Shubert Theater']\n",
        "Fenway Park"
       ]
      },
      {
       "output_type": "stream",
       "stream": "stderr",
       "text": [
        "\n",
        "(-71.066193, 42.349987), Charles Playhouse, 2.19680835198, 6.16079295154, 19\n",
        "done.\n",
        "Fitting regression model on training data..."
       ]
      },
      {
       "output_type": "stream",
       "stream": "stdout",
       "text": [
        " ['Fenway Park']\n",
        "Boston Convention and Exhibition Center"
       ]
      },
      {
       "output_type": "stream",
       "stream": "stderr",
       "text": [
        "\n",
        "(-71.097244, 42.346439), Fenway Park, 3.51792417417, 10.8804597701, 20\n",
        "done.\n",
        "Fitting regression model on training data..."
       ]
      },
      {
       "output_type": "stream",
       "stream": "stdout",
       "text": [
        " ['World Trade Center', 'Hynes Convention Center', 'Channel Center', 'Boston Convention and Exhibition Center', 'Waterside Place']\n",
        "Bank of America Pavilion"
       ]
      },
      {
       "output_type": "stream",
       "stream": "stderr",
       "text": [
        "\n",
        "(-71.04493, 42.346577), Boston Convention and Exhibition Center, 2.90842942701, 13.1375291375, 21\n",
        "done.\n",
        "Fitting regression model on training data..."
       ]
      },
      {
       "output_type": "stream",
       "stream": "stdout",
       "text": [
        " ['Bank of America Pavilion']\n",
        "Channel Center"
       ]
      },
      {
       "output_type": "stream",
       "stream": "stderr",
       "text": [
        "\n",
        "(-71.036064, 42.348522), Bank of America Pavilion, 1.51255284553, 4.55223880597, 20\n",
        "done.\n",
        "Fitting regression model on training data..."
       ]
      },
      {
       "output_type": "stream",
       "stream": "stdout",
       "text": [
        " ['World Trade Center', 'Hynes Convention Center', 'Channel Center', 'Boston Convention and Exhibition Center']\n",
        "Wang Theater"
       ]
      },
      {
       "output_type": "stream",
       "stream": "stderr",
       "text": [
        "\n",
        "(-71.051659, 42.345394), Channel Center, 3.32131711922, 1.203125, 19\n",
        "done.\n",
        "Fitting regression model on training data..."
       ]
      },
      {
       "output_type": "stream",
       "stream": "stdout",
       "text": [
        " ['Strand Theater', 'Wilbur Theater', 'Wang Theater', 'Majestic Theater', 'Charles Playhouse', 'Opera House', 'Shubert Theater']\n",
        "Washington & Winter/Summer"
       ]
      },
      {
       "output_type": "stream",
       "stream": "stderr",
       "text": [
        "\n",
        "(-71.064461, 42.350315), Wang Theater, 2.37232223362, 4.79481641469, 19\n",
        "done.\n",
        "Fitting regression model on training data..."
       ]
      },
      {
       "output_type": "stream",
       "stream": "stdout",
       "text": [
        " ['Opera House', 'Washington & Winter/Summer', 'Scollay Sq']\n",
        "New England Aquarium"
       ]
      },
      {
       "output_type": "stream",
       "stream": "stderr",
       "text": [
        "\n",
        "(-71.060493, 42.355457), Washington & Winter/Summer, 2.68343025073, 6.12244897959, 19\n",
        "done.\n",
        "Fitting regression model on training data..."
       ]
      },
      {
       "output_type": "stream",
       "stream": "stdout",
       "text": [
        " ['New England Aquarium', 'Faneuil Hall Sq']\n",
        "Back Bay T Stop"
       ]
      },
      {
       "output_type": "stream",
       "stream": "stderr",
       "text": [
        "\n",
        "(-71.04924, 42.359219), New England Aquarium, 2.30812114198, 5.09557109557, 19\n",
        "done.\n",
        "Fitting regression model on training data..."
       ]
      },
      {
       "output_type": "stream",
       "stream": "stdout",
       "text": [
        " ['Clarendon Sq', 'Dudley Square T Stop', 'Broadway T Stop', 'Forest Hills T Stop', 'Back Bay T Stop']\n",
        "Post Office Sq"
       ]
      },
      {
       "output_type": "stream",
       "stream": "stderr",
       "text": [
        "\n",
        "(-71.075111, 42.347534), Back Bay T Stop, 1.60482667837, 7.20842572062, 19\n",
        "done.\n",
        "Fitting regression model on training data..."
       ]
      },
      {
       "output_type": "stream",
       "stream": "stdout",
       "text": [
        " ['Post Office Sq', 'Faneuil Hall Sq', 'Faneuil Hall', 'Clarendon Sq', 'Scollay Sq']\n",
        "Institute Of Contemporary Art"
       ]
      },
      {
       "output_type": "stream",
       "stream": "stderr",
       "text": [
        "\n",
        "(-71.056396, 42.357574), Post Office Sq, 2.65729190207, 8.37837837838, 19\n",
        "done.\n",
        "Fitting regression model on training data..."
       ]
      },
      {
       "output_type": "stream",
       "stream": "stdout",
       "text": [
        " ['Fan pier', 'Institute Of Contemporary Art', 'World Trade Center']\n",
        "Opera House"
       ]
      },
      {
       "output_type": "stream",
       "stream": "stderr",
       "text": [
        "\n",
        "(-71.042946, 42.352856), Institute Of Contemporary Art, 1.0654738424, 3.81481481481, 20\n",
        "done.\n",
        "Fitting regression model on training data..."
       ]
      },
      {
       "output_type": "stream",
       "stream": "stdout",
       "text": [
        " ['Wilbur Theater', 'Opera House', 'Washington & Winter/Summer', 'Majestic Theater', 'Wang Theater']\n",
        "Scollay Sq"
       ]
      },
      {
       "output_type": "stream",
       "stream": "stderr",
       "text": [
        "\n",
        "(-71.062569, 42.354008), Opera House, 2.52853512706, 7.66071428571, 19\n",
        "done.\n",
        "Fitting regression model on training data..."
       ]
      },
      {
       "output_type": "stream",
       "stream": "stdout",
       "text": [
        " ['Faneuil Hall Sq', 'Clarendon Sq', 'Washington & Winter/Summer', 'Post Office Sq', 'Faneuil Hall', 'Scollay Sq']\n",
        "Strand Theater"
       ]
      },
      {
       "output_type": "stream",
       "stream": "stdout",
       "text": [
        " ['Wilbur Theater', 'Shubert Theater', 'Wang Theater', 'Majestic Theater', 'Strand Theater']\n",
        "Faneuil Hall Sq"
       ]
      },
      {
       "output_type": "stream",
       "stream": "stderr",
       "text": [
        "\n",
        "(-71.059608, 42.3592), Scollay Sq, 2.58534174355, 7.96188340807, 19\n",
        "done.\n",
        "Fitting regression model on training data..."
       ]
      },
      {
       "output_type": "stream",
       "stream": "stdout",
       "text": [
        " ['Faneuil Hall Sq', 'Clarendon Sq', 'New England Aquarium', 'Post Office Sq', 'Symphony Hall', 'Faneuil Hall', 'Scollay Sq']\n",
        "Fan pier"
       ]
      },
      {
       "output_type": "stream",
       "stream": "stderr",
       "text": [
        "\n",
        "(-71.053635, 42.359726), Faneuil Hall Sq, 2.34455931835, 8.59375, 19\n",
        "done.\n",
        "Fitting regression model on training data..."
       ]
      },
      {
       "output_type": "stream",
       "stream": "stdout",
       "text": [
        " ['Fan pier', 'Institute Of Contemporary Art']\n",
        "TD Garden/North Station"
       ]
      },
      {
       "output_type": "stream",
       "stream": "stderr",
       "text": [
        "\n",
        "(-71.04525, 42.353764), Fan pier, 1.19452822059, 2.01060070671, 19\n",
        "done.\n",
        "Fitting regression model on training data..."
       ]
      },
      {
       "output_type": "stream",
       "stream": "stdout",
       "text": [
        " ['South Station', 'TD Garden/North Station']\n",
        "Symphony Hall"
       ]
      },
      {
       "output_type": "stream",
       "stream": "stderr",
       "text": [
        "\n",
        "(-71.062103, 42.366261), TD Garden/North Station, 3.68350777935, 6.65675057208, 20\n",
        "done.\n",
        "Fitting regression model on training data..."
       ]
      },
      {
       "output_type": "stream",
       "stream": "stdout",
       "text": [
        " ['Faneuil Hall Sq', 'Faneuil Hall', 'Symphony Hall']\n",
        "Dudley Square T Stop"
       ]
      },
      {
       "output_type": "stream",
       "stream": "stdout",
       "text": [
        " ['Dudley Square T Stop', 'Broadway T Stop', 'Forest Hills T Stop', 'Back Bay T Stop']\n",
        "World Trade Center"
       ]
      },
      {
       "output_type": "stream",
       "stream": "stderr",
       "text": [
        "\n",
        "(-71.08567, 42.342808), Symphony Hall, 2.45621899918, 3.69266055046, 19\n",
        "done.\n",
        "Fitting regression model on training data..."
       ]
      },
      {
       "output_type": "stream",
       "stream": "stdout",
       "text": [
        " ['World Trade Center', 'Hynes Convention Center', 'Institute Of Contemporary Art', 'Channel Center', 'Boston Convention and Exhibition Center']\n",
        "Broadway T Stop"
       ]
      },
      {
       "output_type": "stream",
       "stream": "stderr",
       "text": [
        "\n",
        "(-71.040306, 42.351776), World Trade Center, 3.10388625151, 2.06840390879, 21\n",
        "done.\n",
        "Fitting regression model on training data..."
       ]
      },
      {
       "output_type": "stream",
       "stream": "stdout",
       "text": [
        " ['Dudley Square T Stop', 'Broadway T Stop', 'Forest Hills T Stop', 'Back Bay T Stop']\n",
        "Forest Hills T Stop"
       ]
      },
      {
       "output_type": "stream",
       "stream": "stderr",
       "text": [
        "\n",
        "(-71.057114, 42.343365), Broadway T Stop, 1.72114632238, 1.67245657568, 20\n",
        "done.\n",
        "Fitting regression model on training data..."
       ]
      },
      {
       "output_type": "stream",
       "stream": "stdout",
       "text": [
        " ['Dudley Square T Stop', 'Broadway T Stop', 'Forest Hills T Stop', 'Back Bay T Stop']\n",
        "Allston"
       ]
      },
      {
       "output_type": "stream",
       "stream": "stderr",
       "text": [
        "\n",
        "(-71.114105, 42.300732), Forest Hills T Stop, 1.6997391758, 3.91395348837, 19\n",
        "done.\n",
        "Fitting regression model on training data..."
       ]
      },
      {
       "output_type": "stream",
       "stream": "stdout",
       "text": [
        " ['Allston']\n",
        "Logan International Airport ['Logan International Airport']\n",
        "Clarendon Sq"
       ]
      },
      {
       "output_type": "stream",
       "stream": "stderr",
       "text": [
        "\n",
        "(-71.016518, 42.366631), Logan International Airport, 3.1223200313, 8.12887828162, 19\n",
        "done.\n",
        "Fitting regression model on training data..."
       ]
      },
      {
       "output_type": "stream",
       "stream": "stdout",
       "text": [
        " ['Post Office Sq', 'Faneuil Hall Sq', 'Clarendon Sq', 'Scollay Sq', 'Back Bay T Stop']\n",
        "Waterside Place"
       ]
      },
      {
       "output_type": "stream",
       "stream": "stderr",
       "text": [
        "\n",
        "(-71.073502, 42.347263), Clarendon Sq, 2.63253206937, 3.33867276888, 19\n",
        "done.\n",
        "Fitting regression model on training data..."
       ]
      },
      {
       "output_type": "stream",
       "stream": "stdout",
       "text": [
        " ['Boston Convention and Exhibition Center', 'Waterside Place']\n",
        "Wilbur Theater"
       ]
      },
      {
       "output_type": "stream",
       "stream": "stderr",
       "text": [
        "\n",
        "(-71.040916, 42.346043), Waterside Place, 3.34934383202, 2.0563002681, 20\n",
        "done.\n",
        "Fitting regression model on training data..."
       ]
      },
      {
       "output_type": "stream",
       "stream": "stdout",
       "text": [
        " ['Strand Theater', 'Wilbur Theater', 'Wang Theater', 'Majestic Theater', 'Charles Playhouse', 'Opera House', 'Shubert Theater']\n",
        "27 Drydock"
       ]
      },
      {
       "output_type": "stream",
       "stream": "stderr",
       "text": [
        "\n",
        "(-71.064713, 42.350712), Wilbur Theater, 2.35501974318, 5.75909090909, 20\n",
        "done.\n",
        "Fitting regression model on training data..."
       ]
      },
      {
       "output_type": "stream",
       "stream": "stdout",
       "text": [
        " ['27 Drydock']\n",
        "North End"
       ]
      },
      {
       "output_type": "stream",
       "stream": "stderr",
       "text": [
        "\n",
        "(-71.02861, 42.344254), 27 Drydock, 1.3849378882, 2.66049382716, 19\n",
        "done.\n",
        "Fitting regression model on training data..."
       ]
      },
      {
       "output_type": "stream",
       "stream": "stdout",
       "text": [
        " ['North End']\n",
        "Faneuil Hall"
       ]
      },
      {
       "output_type": "stream",
       "stream": "stderr",
       "text": [
        "\n",
        "(-71.055511, 42.365353), North End, 1.4850381067, 4.01179245283, 19\n",
        "done.\n",
        "Fitting regression model on training data..."
       ]
      },
      {
       "output_type": "stream",
       "stream": "stdout",
       "text": [
        " ['Post Office Sq', 'Faneuil Hall Sq', 'Faneuil Hall', 'Scollay Sq', 'Symphony Hall']\n",
        "South Station"
       ]
      },
      {
       "output_type": "stream",
       "stream": "stderr",
       "text": [
        "\n",
        "(-71.056213, 42.360039), Faneuil Hall, 2.67929002964, 9.16556291391, 19\n",
        "done.\n",
        "Fitting regression model on training data..."
       ]
      },
      {
       "output_type": "stream",
       "stream": "stdout",
       "text": [
        " ['South Station', 'TD Garden/North Station']\n",
        "Shubert Theater"
       ]
      },
      {
       "output_type": "stream",
       "stream": "stderr",
       "text": [
        "\n",
        "(-71.055138, 42.351818), South Station, 3.66636492221, 11.2749445676, 19\n",
        "done.\n",
        "Fitting regression model on training data..."
       ]
      },
      {
       "output_type": "stream",
       "stream": "stderr",
       "text": [
        "\n",
        "(-71.06559, 42.350483), Shubert Theater, 2.17396718867, 4.88864142539, 19\n",
        "done.\n",
        "Average Train RMS Error: "
       ]
      },
      {
       "output_type": "stream",
       "stream": "stdout",
       "text": [
        " ['Strand Theater', 'Wilbur Theater', 'Wang Theater', 'Majestic Theater', 'Charles Playhouse', 'Shubert Theater']\n"
       ]
      },
      {
       "output_type": "stream",
       "stream": "stderr",
       "text": [
        "2.48464564177\n",
        "Average Validation RMS Error: 6.27413753184\n",
        "Wrote ../submissions/submission.1388253180.txt\n"
       ]
      }
     ],
     "prompt_number": 139
    },
    {
     "cell_type": "code",
     "collapsed": false,
     "input": [
      "for idx, landmark in enumerate( list( landmarks ) ):\n",
      "    if idx == 9:\n",
      "        counts = sampled_landmark_train_dict[landmark]\n",
      "        #dts = [ i[0][0] + datetime.timedelta( hours=i[0][1] ) for i in counts ]\n",
      "        dts = [ i[0] for i in counts ]\n",
      "        taxis = [ i[1] for i in counts ] \n",
      "        scatter( dts, taxis, s=1 )"
     ],
     "language": "python",
     "metadata": {},
     "outputs": [
      {
       "metadata": {},
       "output_type": "display_data",
       "png": "[encoded data removed]",
       "text": [
        "<matplotlib.figure.Figure at 0x14c6fc9d0>"
       ]
      }
     ],
     "prompt_number": 134
    },
    {
     "cell_type": "code",
     "collapsed": false,
     "input": [
      "dts[0]"
     ],
     "language": "python",
     "metadata": {},
     "outputs": [
      {
       "metadata": {},
       "output_type": "pyout",
       "prompt_number": 138,
       "text": [
        "datetime.datetime(2012, 10, 10, 12, 0)"
       ]
      }
     ],
     "prompt_number": 138
    },
    {
     "cell_type": "code",
     "collapsed": false,
     "input": [
      "print times_locations"
     ],
     "language": "python",
     "metadata": {},
     "outputs": [
      {
       "output_type": "stream",
       "stream": "stdout",
       "text": [
        "[['0', datetime.datetime(2012, 5, 11, 20, 0), datetime.datetime(2012, 5, 11, 22, 0), -71.057114, 42.343365], ['1', datetime.datetime(2012, 5, 11, 20, 0), datetime.datetime(2012, 5, 11, 22, 0), -71.02861, 42.344254], ['2', datetime.datetime(2012, 5, 11, 20, 0), datetime.datetime(2012, 5, 11, 22, 0), -71.064461, 42.350315], ['3', datetime.datetime(2012, 5, 11, 20, 0), datetime.datetime(2012, 5, 11, 22, 0), -71.114105, 42.300732], ['4', datetime.datetime(2012, 5, 11, 20, 0), datetime.datetime(2012, 5, 11, 22, 0), -71.062103, 42.366261], ['5', datetime.datetime(2012, 5, 11, 20, 0), datetime.datetime(2012, 5, 11, 22, 0), -71.016518, 42.366631], ['6', datetime.datetime(2012, 5, 11, 20, 0), datetime.datetime(2012, 5, 11, 22, 0), -71.055138, 42.351818], ['7', datetime.datetime(2012, 5, 11, 20, 0), datetime.datetime(2012, 5, 11, 22, 0), -71.056213, 42.360039], ['8', datetime.datetime(2012, 5, 11, 20, 0), datetime.datetime(2012, 5, 11, 22, 0), -71.127762, 42.358086], ['9', datetime.datetime(2012, 5, 11, 20, 0), datetime.datetime(2012, 5, 11, 22, 0), -71.06559, 42.350483], ['10', datetime.datetime(2012, 5, 11, 20, 0), datetime.datetime(2012, 5, 11, 22, 0), -71.040916, 42.346043], ['11', datetime.datetime(2012, 5, 11, 20, 0), datetime.datetime(2012, 5, 11, 22, 0), -71.040306, 42.351776], ['12', datetime.datetime(2012, 5, 11, 20, 0), datetime.datetime(2012, 5, 11, 22, 0), -71.04924, 42.359219], ['13', datetime.datetime(2012, 5, 11, 20, 0), datetime.datetime(2012, 5, 11, 22, 0), -71.060493, 42.355457], ['14', datetime.datetime(2012, 5, 11, 20, 0), datetime.datetime(2012, 5, 11, 22, 0), -71.073502, 42.347263], ['15', datetime.datetime(2012, 5, 11, 20, 0), datetime.datetime(2012, 5, 11, 22, 0), -71.056396, 42.357574], ['16', datetime.datetime(2012, 5, 11, 20, 0), datetime.datetime(2012, 5, 11, 22, 0), -71.051659, 42.345394], ['17', datetime.datetime(2012, 5, 11, 20, 0), datetime.datetime(2012, 5, 11, 22, 0), -71.083717, 42.329704], ['18', datetime.datetime(2012, 5, 11, 20, 0), datetime.datetime(2012, 5, 11, 22, 0), -71.075111, 42.347534], ['19', datetime.datetime(2012, 5, 11, 20, 0), datetime.datetime(2012, 5, 11, 22, 0), -71.065109, 42.35154], ['20', datetime.datetime(2012, 5, 11, 20, 0), datetime.datetime(2012, 5, 11, 22, 0), -71.059608, 42.3592], ['21', datetime.datetime(2012, 5, 11, 20, 0), datetime.datetime(2012, 5, 11, 22, 0), -71.062569, 42.354008], ['22', datetime.datetime(2012, 5, 11, 20, 0), datetime.datetime(2012, 5, 11, 22, 0), -71.036064, 42.348522], ['23', datetime.datetime(2012, 5, 11, 20, 0), datetime.datetime(2012, 5, 11, 22, 0), -71.064713, 42.350712], ['24', datetime.datetime(2012, 5, 11, 20, 0), datetime.datetime(2012, 5, 11, 22, 0), -71.049767, 42.351658], ['25', datetime.datetime(2012, 5, 11, 20, 0), datetime.datetime(2012, 5, 11, 22, 0), -71.066193, 42.349987], ['26', datetime.datetime(2012, 5, 11, 20, 0), datetime.datetime(2012, 5, 11, 22, 0), -71.053635, 42.359726], ['27', datetime.datetime(2012, 5, 11, 20, 0), datetime.datetime(2012, 5, 11, 22, 0), -71.097244, 42.346439], ['28', datetime.datetime(2012, 5, 11, 20, 0), datetime.datetime(2012, 5, 11, 22, 0), -71.04493, 42.346577], ['29', datetime.datetime(2012, 5, 11, 20, 0), datetime.datetime(2012, 5, 11, 22, 0), -71.065567, 42.315872], ['30', datetime.datetime(2012, 5, 11, 20, 0), datetime.datetime(2012, 5, 11, 22, 0), -71.084206, 42.347626], ['31', datetime.datetime(2012, 5, 11, 20, 0), datetime.datetime(2012, 5, 11, 22, 0), -71.055511, 42.365353], ['32', datetime.datetime(2012, 5, 11, 20, 0), datetime.datetime(2012, 5, 11, 22, 0), -71.08567, 42.342808], ['33', datetime.datetime(2012, 5, 11, 20, 0), datetime.datetime(2012, 5, 11, 22, 0), -71.04525, 42.353764], ['34', datetime.datetime(2012, 5, 11, 20, 0), datetime.datetime(2012, 5, 11, 22, 0), -71.042946, 42.352856], ['35', datetime.datetime(2012, 5, 14, 13, 0), datetime.datetime(2012, 5, 14, 15, 0), -71.057114, 42.343365], ['36', datetime.datetime(2012, 5, 14, 13, 0), datetime.datetime(2012, 5, 14, 15, 0), -71.02861, 42.344254], ['37', datetime.datetime(2012, 5, 14, 13, 0), datetime.datetime(2012, 5, 14, 15, 0), -71.064461, 42.350315], ['38', datetime.datetime(2012, 5, 14, 13, 0), datetime.datetime(2012, 5, 14, 15, 0), -71.114105, 42.300732], ['39', datetime.datetime(2012, 5, 14, 13, 0), datetime.datetime(2012, 5, 14, 15, 0), -71.062103, 42.366261], ['40', datetime.datetime(2012, 5, 14, 13, 0), datetime.datetime(2012, 5, 14, 15, 0), -71.016518, 42.366631], ['41', datetime.datetime(2012, 5, 14, 13, 0), datetime.datetime(2012, 5, 14, 15, 0), -71.055138, 42.351818], ['42', datetime.datetime(2012, 5, 14, 13, 0), datetime.datetime(2012, 5, 14, 15, 0), -71.056213, 42.360039], ['43', datetime.datetime(2012, 5, 14, 13, 0), datetime.datetime(2012, 5, 14, 15, 0), -71.127762, 42.358086], ['44', datetime.datetime(2012, 5, 14, 13, 0), datetime.datetime(2012, 5, 14, 15, 0), -71.06559, 42.350483], ['45', datetime.datetime(2012, 5, 14, 13, 0), datetime.datetime(2012, 5, 14, 15, 0), -71.040916, 42.346043], ['46', datetime.datetime(2012, 5, 14, 13, 0), datetime.datetime(2012, 5, 14, 15, 0), -71.040306, 42.351776], ['47', datetime.datetime(2012, 5, 14, 13, 0), datetime.datetime(2012, 5, 14, 15, 0), -71.04924, 42.359219], ['48', datetime.datetime(2012, 5, 14, 13, 0), datetime.datetime(2012, 5, 14, 15, 0), -71.060493, 42.355457], ['49', datetime.datetime(2012, 5, 14, 13, 0), datetime.datetime(2012, 5, 14, 15, 0), -71.073502, 42.347263], ['50', datetime.datetime(2012, 5, 14, 13, 0), datetime.datetime(2012, 5, 14, 15, 0), -71.056396, 42.357574], ['51', datetime.datetime(2012, 5, 14, 13, 0), datetime.datetime(2012, 5, 14, 15, 0), -71.051659, 42.345394], ['52', datetime.datetime(2012, 5, 14, 13, 0), datetime.datetime(2012, 5, 14, 15, 0), -71.083717, 42.329704], ['53', datetime.datetime(2012, 5, 14, 13, 0), datetime.datetime(2012, 5, 14, 15, 0), -71.075111, 42.347534], ['54', datetime.datetime(2012, 5, 14, 13, 0), datetime.datetime(2012, 5, 14, 15, 0), -71.065109, 42.35154], ['55', datetime.datetime(2012, 5, 14, 13, 0), datetime.datetime(2012, 5, 14, 15, 0), -71.059608, 42.3592], ['56', datetime.datetime(2012, 5, 14, 13, 0), datetime.datetime(2012, 5, 14, 15, 0), -71.062569, 42.354008], ['57', datetime.datetime(2012, 5, 14, 13, 0), datetime.datetime(2012, 5, 14, 15, 0), -71.036064, 42.348522], ['58', datetime.datetime(2012, 5, 14, 13, 0), datetime.datetime(2012, 5, 14, 15, 0), -71.064713, 42.350712], ['59', datetime.datetime(2012, 5, 14, 13, 0), datetime.datetime(2012, 5, 14, 15, 0), -71.049767, 42.351658], ['60', datetime.datetime(2012, 5, 14, 13, 0), datetime.datetime(2012, 5, 14, 15, 0), -71.066193, 42.349987], ['61', datetime.datetime(2012, 5, 14, 13, 0), datetime.datetime(2012, 5, 14, 15, 0), -71.053635, 42.359726], ['62', datetime.datetime(2012, 5, 14, 13, 0), datetime.datetime(2012, 5, 14, 15, 0), -71.097244, 42.346439], ['63', datetime.datetime(2012, 5, 14, 13, 0), datetime.datetime(2012, 5, 14, 15, 0), -71.04493, 42.346577], ['64', datetime.datetime(2012, 5, 14, 13, 0), datetime.datetime(2012, 5, 14, 15, 0), -71.065567, 42.315872], ['65', datetime.datetime(2012, 5, 14, 13, 0), datetime.datetime(2012, 5, 14, 15, 0), -71.084206, 42.347626], ['66', datetime.datetime(2012, 5, 14, 13, 0), datetime.datetime(2012, 5, 14, 15, 0), -71.055511, 42.365353], ['67', datetime.datetime(2012, 5, 14, 13, 0), datetime.datetime(2012, 5, 14, 15, 0), -71.08567, 42.342808], ['68', datetime.datetime(2012, 5, 14, 13, 0), datetime.datetime(2012, 5, 14, 15, 0), -71.04525, 42.353764], ['69', datetime.datetime(2012, 5, 14, 13, 0), datetime.datetime(2012, 5, 14, 15, 0), -71.042946, 42.352856], ['70', datetime.datetime(2012, 5, 24, 19, 0), datetime.datetime(2012, 5, 24, 21, 0), -71.057114, 42.343365], ['71', datetime.datetime(2012, 5, 24, 19, 0), datetime.datetime(2012, 5, 24, 21, 0), -71.02861, 42.344254], ['72', datetime.datetime(2012, 5, 24, 19, 0), datetime.datetime(2012, 5, 24, 21, 0), -71.064461, 42.350315], ['73', datetime.datetime(2012, 5, 24, 19, 0), datetime.datetime(2012, 5, 24, 21, 0), -71.114105, 42.300732], ['74', datetime.datetime(2012, 5, 24, 19, 0), datetime.datetime(2012, 5, 24, 21, 0), -71.062103, 42.366261], ['75', datetime.datetime(2012, 5, 24, 19, 0), datetime.datetime(2012, 5, 24, 21, 0), -71.016518, 42.366631], ['76', datetime.datetime(2012, 5, 24, 19, 0), datetime.datetime(2012, 5, 24, 21, 0), -71.055138, 42.351818], ['77', datetime.datetime(2012, 5, 24, 19, 0), datetime.datetime(2012, 5, 24, 21, 0), -71.056213, 42.360039], ['78', datetime.datetime(2012, 5, 24, 19, 0), datetime.datetime(2012, 5, 24, 21, 0), -71.127762, 42.358086], ['79', datetime.datetime(2012, 5, 24, 19, 0), datetime.datetime(2012, 5, 24, 21, 0), -71.06559, 42.350483], ['80', datetime.datetime(2012, 5, 24, 19, 0), datetime.datetime(2012, 5, 24, 21, 0), -71.040916, 42.346043], ['81', datetime.datetime(2012, 5, 24, 19, 0), datetime.datetime(2012, 5, 24, 21, 0), -71.040306, 42.351776], ['82', datetime.datetime(2012, 5, 24, 19, 0), datetime.datetime(2012, 5, 24, 21, 0), -71.04924, 42.359219], ['83', datetime.datetime(2012, 5, 24, 19, 0), datetime.datetime(2012, 5, 24, 21, 0), -71.060493, 42.355457], ['84', datetime.datetime(2012, 5, 24, 19, 0), datetime.datetime(2012, 5, 24, 21, 0), -71.073502, 42.347263], ['85', datetime.datetime(2012, 5, 24, 19, 0), datetime.datetime(2012, 5, 24, 21, 0), -71.056396, 42.357574], ['86', datetime.datetime(2012, 5, 24, 19, 0), datetime.datetime(2012, 5, 24, 21, 0), -71.051659, 42.345394], ['87', datetime.datetime(2012, 5, 24, 19, 0), datetime.datetime(2012, 5, 24, 21, 0), -71.083717, 42.329704], ['88', datetime.datetime(2012, 5, 24, 19, 0), datetime.datetime(2012, 5, 24, 21, 0), -71.075111, 42.347534], ['89', datetime.datetime(2012, 5, 24, 19, 0), datetime.datetime(2012, 5, 24, 21, 0), -71.065109, 42.35154], ['90', datetime.datetime(2012, 5, 24, 19, 0), datetime.datetime(2012, 5, 24, 21, 0), -71.059608, 42.3592], ['91', datetime.datetime(2012, 5, 24, 19, 0), datetime.datetime(2012, 5, 24, 21, 0), -71.062569, 42.354008], ['92', datetime.datetime(2012, 5, 24, 19, 0), datetime.datetime(2012, 5, 24, 21, 0), -71.036064, 42.348522], ['93', datetime.datetime(2012, 5, 24, 19, 0), datetime.datetime(2012, 5, 24, 21, 0), -71.064713, 42.350712], ['94', datetime.datetime(2012, 5, 24, 19, 0), datetime.datetime(2012, 5, 24, 21, 0), -71.049767, 42.351658], ['95', datetime.datetime(2012, 5, 24, 19, 0), datetime.datetime(2012, 5, 24, 21, 0), -71.066193, 42.349987], ['96', datetime.datetime(2012, 5, 24, 19, 0), datetime.datetime(2012, 5, 24, 21, 0), -71.053635, 42.359726], ['97', datetime.datetime(2012, 5, 24, 19, 0), datetime.datetime(2012, 5, 24, 21, 0), -71.097244, 42.346439], ['98', datetime.datetime(2012, 5, 24, 19, 0), datetime.datetime(2012, 5, 24, 21, 0), -71.04493, 42.346577], ['99', datetime.datetime(2012, 5, 24, 19, 0), datetime.datetime(2012, 5, 24, 21, 0), -71.065567, 42.315872], ['100', datetime.datetime(2012, 5, 24, 19, 0), datetime.datetime(2012, 5, 24, 21, 0), -71.084206, 42.347626], ['101', datetime.datetime(2012, 5, 24, 19, 0), datetime.datetime(2012, 5, 24, 21, 0), -71.055511, 42.365353], ['102', datetime.datetime(2012, 5, 24, 19, 0), datetime.datetime(2012, 5, 24, 21, 0), -71.08567, 42.342808], ['103', datetime.datetime(2012, 5, 24, 19, 0), datetime.datetime(2012, 5, 24, 21, 0), -71.04525, 42.353764], ['104', datetime.datetime(2012, 5, 24, 19, 0), datetime.datetime(2012, 5, 24, 21, 0), -71.042946, 42.352856], ['105', datetime.datetime(2012, 6, 7, 7, 0), datetime.datetime(2012, 6, 7, 9, 0), -71.057114, 42.343365], ['106', datetime.datetime(2012, 6, 7, 7, 0), datetime.datetime(2012, 6, 7, 9, 0), -71.02861, 42.344254], ['107', datetime.datetime(2012, 6, 7, 7, 0), datetime.datetime(2012, 6, 7, 9, 0), -71.064461, 42.350315], ['108', datetime.datetime(2012, 6, 7, 7, 0), datetime.datetime(2012, 6, 7, 9, 0), -71.114105, 42.300732], ['109', datetime.datetime(2012, 6, 7, 7, 0), datetime.datetime(2012, 6, 7, 9, 0), -71.062103, 42.366261], ['110', datetime.datetime(2012, 6, 7, 7, 0), datetime.datetime(2012, 6, 7, 9, 0), -71.016518, 42.366631], ['111', datetime.datetime(2012, 6, 7, 7, 0), datetime.datetime(2012, 6, 7, 9, 0), -71.055138, 42.351818], ['112', datetime.datetime(2012, 6, 7, 7, 0), datetime.datetime(2012, 6, 7, 9, 0), -71.056213, 42.360039], ['113', datetime.datetime(2012, 6, 7, 7, 0), datetime.datetime(2012, 6, 7, 9, 0), -71.127762, 42.358086], ['114', datetime.datetime(2012, 6, 7, 7, 0), datetime.datetime(2012, 6, 7, 9, 0), -71.06559, 42.350483], ['115', datetime.datetime(2012, 6, 7, 7, 0), datetime.datetime(2012, 6, 7, 9, 0), -71.040916, 42.346043], ['116', datetime.datetime(2012, 6, 7, 7, 0), datetime.datetime(2012, 6, 7, 9, 0), -71.040306, 42.351776], ['117', datetime.datetime(2012, 6, 7, 7, 0), datetime.datetime(2012, 6, 7, 9, 0), -71.04924, 42.359219], ['118', datetime.datetime(2012, 6, 7, 7, 0), datetime.datetime(2012, 6, 7, 9, 0), -71.060493, 42.355457], ['119', datetime.datetime(2012, 6, 7, 7, 0), datetime.datetime(2012, 6, 7, 9, 0), -71.073502, 42.347263], ['120', datetime.datetime(2012, 6, 7, 7, 0), datetime.datetime(2012, 6, 7, 9, 0), -71.056396, 42.357574], ['121', datetime.datetime(2012, 6, 7, 7, 0), datetime.datetime(2012, 6, 7, 9, 0), -71.051659, 42.345394], ['122', datetime.datetime(2012, 6, 7, 7, 0), datetime.datetime(2012, 6, 7, 9, 0), -71.083717, 42.329704], ['123', datetime.datetime(2012, 6, 7, 7, 0), datetime.datetime(2012, 6, 7, 9, 0), -71.075111, 42.347534], ['124', datetime.datetime(2012, 6, 7, 7, 0), datetime.datetime(2012, 6, 7, 9, 0), -71.065109, 42.35154], ['125', datetime.datetime(2012, 6, 7, 7, 0), datetime.datetime(2012, 6, 7, 9, 0), -71.059608, 42.3592], ['126', datetime.datetime(2012, 6, 7, 7, 0), datetime.datetime(2012, 6, 7, 9, 0), -71.062569, 42.354008], ['127', datetime.datetime(2012, 6, 7, 7, 0), datetime.datetime(2012, 6, 7, 9, 0), -71.036064, 42.348522], ['128', datetime.datetime(2012, 6, 7, 7, 0), datetime.datetime(2012, 6, 7, 9, 0), -71.064713, 42.350712], ['129', datetime.datetime(2012, 6, 7, 7, 0), datetime.datetime(2012, 6, 7, 9, 0), -71.049767, 42.351658], ['130', datetime.datetime(2012, 6, 7, 7, 0), datetime.datetime(2012, 6, 7, 9, 0), -71.066193, 42.349987], ['131', datetime.datetime(2012, 6, 7, 7, 0), datetime.datetime(2012, 6, 7, 9, 0), -71.053635, 42.359726], ['132', datetime.datetime(2012, 6, 7, 7, 0), datetime.datetime(2012, 6, 7, 9, 0), -71.097244, 42.346439], ['133', datetime.datetime(2012, 6, 7, 7, 0), datetime.datetime(2012, 6, 7, 9, 0), -71.04493, 42.346577], ['134', datetime.datetime(2012, 6, 7, 7, 0), datetime.datetime(2012, 6, 7, 9, 0), -71.065567, 42.315872], ['135', datetime.datetime(2012, 6, 7, 7, 0), datetime.datetime(2012, 6, 7, 9, 0), -71.084206, 42.347626], ['136', datetime.datetime(2012, 6, 7, 7, 0), datetime.datetime(2012, 6, 7, 9, 0), -71.055511, 42.365353], ['137', datetime.datetime(2012, 6, 7, 7, 0), datetime.datetime(2012, 6, 7, 9, 0), -71.08567, 42.342808], ['138', datetime.datetime(2012, 6, 7, 7, 0), datetime.datetime(2012, 6, 7, 9, 0), -71.04525, 42.353764], ['139', datetime.datetime(2012, 6, 7, 7, 0), datetime.datetime(2012, 6, 7, 9, 0), -71.042946, 42.352856], ['140', datetime.datetime(2012, 6, 18, 23, 0), datetime.datetime(2012, 6, 19, 1, 0), -71.036064, 42.348522], ['141', datetime.datetime(2012, 6, 20, 13, 0), datetime.datetime(2012, 6, 20, 15, 0), -71.04493, 42.346577], ['142', datetime.datetime(2012, 6, 20, 18, 0), datetime.datetime(2012, 6, 20, 20, 0), -71.040306, 42.351776], ['143', datetime.datetime(2012, 6, 21, 19, 0), datetime.datetime(2012, 6, 21, 21, 0), -71.040306, 42.351776], ['144', datetime.datetime(2012, 6, 27, 2, 0), datetime.datetime(2012, 6, 27, 4, 0), -71.057114, 42.343365], ['145', datetime.datetime(2012, 6, 27, 2, 0), datetime.datetime(2012, 6, 27, 4, 0), -71.02861, 42.344254], ['146', datetime.datetime(2012, 6, 27, 2, 0), datetime.datetime(2012, 6, 27, 4, 0), -71.064461, 42.350315], ['147', datetime.datetime(2012, 6, 27, 2, 0), datetime.datetime(2012, 6, 27, 4, 0), -71.114105, 42.300732], ['148', datetime.datetime(2012, 6, 27, 2, 0), datetime.datetime(2012, 6, 27, 4, 0), -71.062103, 42.366261], ['149', datetime.datetime(2012, 6, 27, 2, 0), datetime.datetime(2012, 6, 27, 4, 0), -71.016518, 42.366631], ['150', datetime.datetime(2012, 6, 27, 2, 0), datetime.datetime(2012, 6, 27, 4, 0), -71.055138, 42.351818], ['151', datetime.datetime(2012, 6, 27, 2, 0), datetime.datetime(2012, 6, 27, 4, 0), -71.056213, 42.360039], ['152', datetime.datetime(2012, 6, 27, 2, 0), datetime.datetime(2012, 6, 27, 4, 0), -71.127762, 42.358086], ['153', datetime.datetime(2012, 6, 27, 2, 0), datetime.datetime(2012, 6, 27, 4, 0), -71.06559, 42.350483], ['154', datetime.datetime(2012, 6, 27, 2, 0), datetime.datetime(2012, 6, 27, 4, 0), -71.040916, 42.346043], ['155', datetime.datetime(2012, 6, 27, 2, 0), datetime.datetime(2012, 6, 27, 4, 0), -71.040306, 42.351776], ['156', datetime.datetime(2012, 6, 27, 2, 0), datetime.datetime(2012, 6, 27, 4, 0), -71.04924, 42.359219], ['157', datetime.datetime(2012, 6, 27, 2, 0), datetime.datetime(2012, 6, 27, 4, 0), -71.060493, 42.355457], ['158', datetime.datetime(2012, 6, 27, 2, 0), datetime.datetime(2012, 6, 27, 4, 0), -71.073502, 42.347263], ['159', datetime.datetime(2012, 6, 27, 2, 0), datetime.datetime(2012, 6, 27, 4, 0), -71.056396, 42.357574], ['160', datetime.datetime(2012, 6, 27, 2, 0), datetime.datetime(2012, 6, 27, 4, 0), -71.051659, 42.345394], ['161', datetime.datetime(2012, 6, 27, 2, 0), datetime.datetime(2012, 6, 27, 4, 0), -71.083717, 42.329704], ['162', datetime.datetime(2012, 6, 27, 2, 0), datetime.datetime(2012, 6, 27, 4, 0), -71.075111, 42.347534], ['163', datetime.datetime(2012, 6, 27, 2, 0), datetime.datetime(2012, 6, 27, 4, 0), -71.065109, 42.35154], ['164', datetime.datetime(2012, 6, 27, 2, 0), datetime.datetime(2012, 6, 27, 4, 0), -71.059608, 42.3592], ['165', datetime.datetime(2012, 6, 27, 2, 0), datetime.datetime(2012, 6, 27, 4, 0), -71.062569, 42.354008], ['166', datetime.datetime(2012, 6, 27, 2, 0), datetime.datetime(2012, 6, 27, 4, 0), -71.036064, 42.348522], ['167', datetime.datetime(2012, 6, 27, 2, 0), datetime.datetime(2012, 6, 27, 4, 0), -71.064713, 42.350712], ['168', datetime.datetime(2012, 6, 27, 2, 0), datetime.datetime(2012, 6, 27, 4, 0), -71.049767, 42.351658], ['169', datetime.datetime(2012, 6, 27, 2, 0), datetime.datetime(2012, 6, 27, 4, 0), -71.066193, 42.349987], ['170', datetime.datetime(2012, 6, 27, 2, 0), datetime.datetime(2012, 6, 27, 4, 0), -71.053635, 42.359726], ['171', datetime.datetime(2012, 6, 27, 2, 0), datetime.datetime(2012, 6, 27, 4, 0), -71.097244, 42.346439], ['172', datetime.datetime(2012, 6, 27, 2, 0), datetime.datetime(2012, 6, 27, 4, 0), -71.04493, 42.346577], ['173', datetime.datetime(2012, 6, 27, 2, 0), datetime.datetime(2012, 6, 27, 4, 0), -71.065567, 42.315872], ['174', datetime.datetime(2012, 6, 27, 2, 0), datetime.datetime(2012, 6, 27, 4, 0), -71.084206, 42.347626], ['175', datetime.datetime(2012, 6, 27, 2, 0), datetime.datetime(2012, 6, 27, 4, 0), -71.055511, 42.365353], ['176', datetime.datetime(2012, 6, 27, 2, 0), datetime.datetime(2012, 6, 27, 4, 0), -71.08567, 42.342808], ['177', datetime.datetime(2012, 6, 27, 2, 0), datetime.datetime(2012, 6, 27, 4, 0), -71.04525, 42.353764], ['178', datetime.datetime(2012, 6, 27, 2, 0), datetime.datetime(2012, 6, 27, 4, 0), -71.042946, 42.352856], ['179', datetime.datetime(2012, 7, 17, 17, 0), datetime.datetime(2012, 7, 17, 19, 0), -71.040916, 42.346043], ['180', datetime.datetime(2012, 7, 20, 19, 0), datetime.datetime(2012, 7, 20, 21, 0), -71.057114, 42.343365], ['181', datetime.datetime(2012, 7, 20, 19, 0), datetime.datetime(2012, 7, 20, 21, 0), -71.02861, 42.344254], ['182', datetime.datetime(2012, 7, 20, 19, 0), datetime.datetime(2012, 7, 20, 21, 0), -71.064461, 42.350315], ['183', datetime.datetime(2012, 7, 20, 19, 0), datetime.datetime(2012, 7, 20, 21, 0), -71.114105, 42.300732], ['184', datetime.datetime(2012, 7, 20, 19, 0), datetime.datetime(2012, 7, 20, 21, 0), -71.062103, 42.366261], ['185', datetime.datetime(2012, 7, 20, 19, 0), datetime.datetime(2012, 7, 20, 21, 0), -71.016518, 42.366631], ['186', datetime.datetime(2012, 7, 20, 19, 0), datetime.datetime(2012, 7, 20, 21, 0), -71.055138, 42.351818], ['187', datetime.datetime(2012, 7, 20, 19, 0), datetime.datetime(2012, 7, 20, 21, 0), -71.056213, 42.360039], ['188', datetime.datetime(2012, 7, 20, 19, 0), datetime.datetime(2012, 7, 20, 21, 0), -71.127762, 42.358086], ['189', datetime.datetime(2012, 7, 20, 19, 0), datetime.datetime(2012, 7, 20, 21, 0), -71.06559, 42.350483], ['190', datetime.datetime(2012, 7, 20, 19, 0), datetime.datetime(2012, 7, 20, 21, 0), -71.040916, 42.346043], ['191', datetime.datetime(2012, 7, 20, 19, 0), datetime.datetime(2012, 7, 20, 21, 0), -71.040306, 42.351776], ['192', datetime.datetime(2012, 7, 20, 19, 0), datetime.datetime(2012, 7, 20, 21, 0), -71.04924, 42.359219], ['193', datetime.datetime(2012, 7, 20, 19, 0), datetime.datetime(2012, 7, 20, 21, 0), -71.060493, 42.355457], ['194', datetime.datetime(2012, 7, 20, 19, 0), datetime.datetime(2012, 7, 20, 21, 0), -71.073502, 42.347263], ['195', datetime.datetime(2012, 7, 20, 19, 0), datetime.datetime(2012, 7, 20, 21, 0), -71.056396, 42.357574], ['196', datetime.datetime(2012, 7, 20, 19, 0), datetime.datetime(2012, 7, 20, 21, 0), -71.051659, 42.345394], ['197', datetime.datetime(2012, 7, 20, 19, 0), datetime.datetime(2012, 7, 20, 21, 0), -71.083717, 42.329704], ['198', datetime.datetime(2012, 7, 20, 19, 0), datetime.datetime(2012, 7, 20, 21, 0), -71.075111, 42.347534], ['199', datetime.datetime(2012, 7, 20, 19, 0), datetime.datetime(2012, 7, 20, 21, 0), -71.065109, 42.35154], ['200', datetime.datetime(2012, 7, 20, 19, 0), datetime.datetime(2012, 7, 20, 21, 0), -71.059608, 42.3592], ['201', datetime.datetime(2012, 7, 20, 19, 0), datetime.datetime(2012, 7, 20, 21, 0), -71.062569, 42.354008], ['202', datetime.datetime(2012, 7, 20, 19, 0), datetime.datetime(2012, 7, 20, 21, 0), -71.036064, 42.348522], ['203', datetime.datetime(2012, 7, 20, 19, 0), datetime.datetime(2012, 7, 20, 21, 0), -71.064713, 42.350712], ['204', datetime.datetime(2012, 7, 20, 19, 0), datetime.datetime(2012, 7, 20, 21, 0), -71.049767, 42.351658], ['205', datetime.datetime(2012, 7, 20, 19, 0), datetime.datetime(2012, 7, 20, 21, 0), -71.066193, 42.349987], ['206', datetime.datetime(2012, 7, 20, 19, 0), datetime.datetime(2012, 7, 20, 21, 0), -71.053635, 42.359726], ['207', datetime.datetime(2012, 7, 20, 19, 0), datetime.datetime(2012, 7, 20, 21, 0), -71.097244, 42.346439], ['208', datetime.datetime(2012, 7, 20, 19, 0), datetime.datetime(2012, 7, 20, 21, 0), -71.04493, 42.346577], ['209', datetime.datetime(2012, 7, 20, 19, 0), datetime.datetime(2012, 7, 20, 21, 0), -71.065567, 42.315872], ['210', datetime.datetime(2012, 7, 20, 19, 0), datetime.datetime(2012, 7, 20, 21, 0), -71.084206, 42.347626], ['211', datetime.datetime(2012, 7, 20, 19, 0), datetime.datetime(2012, 7, 20, 21, 0), -71.055511, 42.365353], ['212', datetime.datetime(2012, 7, 20, 19, 0), datetime.datetime(2012, 7, 20, 21, 0), -71.08567, 42.342808], ['213', datetime.datetime(2012, 7, 20, 19, 0), datetime.datetime(2012, 7, 20, 21, 0), -71.04525, 42.353764], ['214', datetime.datetime(2012, 7, 20, 19, 0), datetime.datetime(2012, 7, 20, 21, 0), -71.042946, 42.352856], ['215', datetime.datetime(2012, 7, 23, 19, 0), datetime.datetime(2012, 7, 23, 21, 0), -71.057114, 42.343365], ['216', datetime.datetime(2012, 7, 23, 19, 0), datetime.datetime(2012, 7, 23, 21, 0), -71.02861, 42.344254], ['217', datetime.datetime(2012, 7, 23, 19, 0), datetime.datetime(2012, 7, 23, 21, 0), -71.064461, 42.350315], ['218', datetime.datetime(2012, 7, 23, 19, 0), datetime.datetime(2012, 7, 23, 21, 0), -71.114105, 42.300732], ['219', datetime.datetime(2012, 7, 23, 19, 0), datetime.datetime(2012, 7, 23, 21, 0), -71.062103, 42.366261], ['220', datetime.datetime(2012, 7, 23, 19, 0), datetime.datetime(2012, 7, 23, 21, 0), -71.016518, 42.366631], ['221', datetime.datetime(2012, 7, 23, 19, 0), datetime.datetime(2012, 7, 23, 21, 0), -71.055138, 42.351818], ['222', datetime.datetime(2012, 7, 23, 19, 0), datetime.datetime(2012, 7, 23, 21, 0), -71.056213, 42.360039], ['223', datetime.datetime(2012, 7, 23, 19, 0), datetime.datetime(2012, 7, 23, 21, 0), -71.127762, 42.358086], ['224', datetime.datetime(2012, 7, 23, 19, 0), datetime.datetime(2012, 7, 23, 21, 0), -71.06559, 42.350483], ['225', datetime.datetime(2012, 7, 23, 19, 0), datetime.datetime(2012, 7, 23, 21, 0), -71.040916, 42.346043], ['226', datetime.datetime(2012, 7, 23, 19, 0), datetime.datetime(2012, 7, 23, 21, 0), -71.040306, 42.351776], ['227', datetime.datetime(2012, 7, 23, 19, 0), datetime.datetime(2012, 7, 23, 21, 0), -71.04924, 42.359219], ['228', datetime.datetime(2012, 7, 23, 19, 0), datetime.datetime(2012, 7, 23, 21, 0), -71.060493, 42.355457], ['229', datetime.datetime(2012, 7, 23, 19, 0), datetime.datetime(2012, 7, 23, 21, 0), -71.073502, 42.347263], ['230', datetime.datetime(2012, 7, 23, 19, 0), datetime.datetime(2012, 7, 23, 21, 0), -71.056396, 42.357574], ['231', datetime.datetime(2012, 7, 23, 19, 0), datetime.datetime(2012, 7, 23, 21, 0), -71.051659, 42.345394], ['232', datetime.datetime(2012, 7, 23, 19, 0), datetime.datetime(2012, 7, 23, 21, 0), -71.083717, 42.329704], ['233', datetime.datetime(2012, 7, 23, 19, 0), datetime.datetime(2012, 7, 23, 21, 0), -71.075111, 42.347534], ['234', datetime.datetime(2012, 7, 23, 19, 0), datetime.datetime(2012, 7, 23, 21, 0), -71.065109, 42.35154], ['235', datetime.datetime(2012, 7, 23, 19, 0), datetime.datetime(2012, 7, 23, 21, 0), -71.059608, 42.3592], ['236', datetime.datetime(2012, 7, 23, 19, 0), datetime.datetime(2012, 7, 23, 21, 0), -71.062569, 42.354008], ['237', datetime.datetime(2012, 7, 23, 19, 0), datetime.datetime(2012, 7, 23, 21, 0), -71.036064, 42.348522], ['238', datetime.datetime(2012, 7, 23, 19, 0), datetime.datetime(2012, 7, 23, 21, 0), -71.064713, 42.350712], ['239', datetime.datetime(2012, 7, 23, 19, 0), datetime.datetime(2012, 7, 23, 21, 0), -71.049767, 42.351658], ['240', datetime.datetime(2012, 7, 23, 19, 0), datetime.datetime(2012, 7, 23, 21, 0), -71.066193, 42.349987], ['241', datetime.datetime(2012, 7, 23, 19, 0), datetime.datetime(2012, 7, 23, 21, 0), -71.053635, 42.359726], ['242', datetime.datetime(2012, 7, 23, 19, 0), datetime.datetime(2012, 7, 23, 21, 0), -71.097244, 42.346439], ['243', datetime.datetime(2012, 7, 23, 19, 0), datetime.datetime(2012, 7, 23, 21, 0), -71.04493, 42.346577], ['244', datetime.datetime(2012, 7, 23, 19, 0), datetime.datetime(2012, 7, 23, 21, 0), -71.065567, 42.315872], ['245', datetime.datetime(2012, 7, 23, 19, 0), datetime.datetime(2012, 7, 23, 21, 0), -71.084206, 42.347626], ['246', datetime.datetime(2012, 7, 23, 19, 0), datetime.datetime(2012, 7, 23, 21, 0), -71.055511, 42.365353], ['247', datetime.datetime(2012, 7, 23, 19, 0), datetime.datetime(2012, 7, 23, 21, 0), -71.08567, 42.342808], ['248', datetime.datetime(2012, 7, 23, 19, 0), datetime.datetime(2012, 7, 23, 21, 0), -71.04525, 42.353764], ['249', datetime.datetime(2012, 7, 23, 19, 0), datetime.datetime(2012, 7, 23, 21, 0), -71.042946, 42.352856], ['250', datetime.datetime(2012, 7, 28, 14, 0), datetime.datetime(2012, 7, 28, 16, 0), -71.057114, 42.343365], ['251', datetime.datetime(2012, 7, 28, 14, 0), datetime.datetime(2012, 7, 28, 16, 0), -71.02861, 42.344254], ['252', datetime.datetime(2012, 7, 28, 14, 0), datetime.datetime(2012, 7, 28, 16, 0), -71.064461, 42.350315], ['253', datetime.datetime(2012, 7, 28, 14, 0), datetime.datetime(2012, 7, 28, 16, 0), -71.114105, 42.300732], ['254', datetime.datetime(2012, 7, 28, 14, 0), datetime.datetime(2012, 7, 28, 16, 0), -71.062103, 42.366261], ['255', datetime.datetime(2012, 7, 28, 14, 0), datetime.datetime(2012, 7, 28, 16, 0), -71.016518, 42.366631], ['256', datetime.datetime(2012, 7, 28, 14, 0), datetime.datetime(2012, 7, 28, 16, 0), -71.055138, 42.351818], ['257', datetime.datetime(2012, 7, 28, 14, 0), datetime.datetime(2012, 7, 28, 16, 0), -71.056213, 42.360039], ['258', datetime.datetime(2012, 7, 28, 14, 0), datetime.datetime(2012, 7, 28, 16, 0), -71.127762, 42.358086], ['259', datetime.datetime(2012, 7, 28, 14, 0), datetime.datetime(2012, 7, 28, 16, 0), -71.06559, 42.350483], ['260', datetime.datetime(2012, 7, 28, 14, 0), datetime.datetime(2012, 7, 28, 16, 0), -71.040916, 42.346043], ['261', datetime.datetime(2012, 7, 28, 14, 0), datetime.datetime(2012, 7, 28, 16, 0), -71.040306, 42.351776], ['262', datetime.datetime(2012, 7, 28, 14, 0), datetime.datetime(2012, 7, 28, 16, 0), -71.04924, 42.359219], ['263', datetime.datetime(2012, 7, 28, 14, 0), datetime.datetime(2012, 7, 28, 16, 0), -71.060493, 42.355457], ['264', datetime.datetime(2012, 7, 28, 14, 0), datetime.datetime(2012, 7, 28, 16, 0), -71.073502, 42.347263], ['265', datetime.datetime(2012, 7, 28, 14, 0), datetime.datetime(2012, 7, 28, 16, 0), -71.056396, 42.357574], ['266', datetime.datetime(2012, 7, 28, 14, 0), datetime.datetime(2012, 7, 28, 16, 0), -71.051659, 42.345394], ['267', datetime.datetime(2012, 7, 28, 14, 0), datetime.datetime(2012, 7, 28, 16, 0), -71.083717, 42.329704], ['268', datetime.datetime(2012, 7, 28, 14, 0), datetime.datetime(2012, 7, 28, 16, 0), -71.075111, 42.347534], ['269', datetime.datetime(2012, 7, 28, 14, 0), datetime.datetime(2012, 7, 28, 16, 0), -71.065109, 42.35154], ['270', datetime.datetime(2012, 7, 28, 14, 0), datetime.datetime(2012, 7, 28, 16, 0), -71.059608, 42.3592], ['271', datetime.datetime(2012, 7, 28, 14, 0), datetime.datetime(2012, 7, 28, 16, 0), -71.062569, 42.354008], ['272', datetime.datetime(2012, 7, 28, 14, 0), datetime.datetime(2012, 7, 28, 16, 0), -71.036064, 42.348522], ['273', datetime.datetime(2012, 7, 28, 14, 0), datetime.datetime(2012, 7, 28, 16, 0), -71.064713, 42.350712], ['274', datetime.datetime(2012, 7, 28, 14, 0), datetime.datetime(2012, 7, 28, 16, 0), -71.049767, 42.351658], ['275', datetime.datetime(2012, 7, 28, 14, 0), datetime.datetime(2012, 7, 28, 16, 0), -71.066193, 42.349987], ['276', datetime.datetime(2012, 7, 28, 14, 0), datetime.datetime(2012, 7, 28, 16, 0), -71.053635, 42.359726], ['277', datetime.datetime(2012, 7, 28, 14, 0), datetime.datetime(2012, 7, 28, 16, 0), -71.097244, 42.346439], ['278', datetime.datetime(2012, 7, 28, 14, 0), datetime.datetime(2012, 7, 28, 16, 0), -71.04493, 42.346577], ['279', datetime.datetime(2012, 7, 28, 14, 0), datetime.datetime(2012, 7, 28, 16, 0), -71.065567, 42.315872], ['280', datetime.datetime(2012, 7, 28, 14, 0), datetime.datetime(2012, 7, 28, 16, 0), -71.084206, 42.347626], ['281', datetime.datetime(2012, 7, 28, 14, 0), datetime.datetime(2012, 7, 28, 16, 0), -71.055511, 42.365353], ['282', datetime.datetime(2012, 7, 28, 14, 0), datetime.datetime(2012, 7, 28, 16, 0), -71.08567, 42.342808], ['283', datetime.datetime(2012, 7, 28, 14, 0), datetime.datetime(2012, 7, 28, 16, 0), -71.04525, 42.353764], ['284', datetime.datetime(2012, 7, 28, 14, 0), datetime.datetime(2012, 7, 28, 16, 0), -71.042946, 42.352856], ['285', datetime.datetime(2012, 8, 7, 17, 0), datetime.datetime(2012, 8, 7, 19, 0), -71.042946, 42.352856], ['286', datetime.datetime(2012, 8, 27, 19, 0), datetime.datetime(2012, 8, 27, 21, 0), -71.057114, 42.343365], ['287', datetime.datetime(2012, 8, 27, 19, 0), datetime.datetime(2012, 8, 27, 21, 0), -71.02861, 42.344254], ['288', datetime.datetime(2012, 8, 27, 19, 0), datetime.datetime(2012, 8, 27, 21, 0), -71.064461, 42.350315], ['289', datetime.datetime(2012, 8, 27, 19, 0), datetime.datetime(2012, 8, 27, 21, 0), -71.114105, 42.300732], ['290', datetime.datetime(2012, 8, 27, 19, 0), datetime.datetime(2012, 8, 27, 21, 0), -71.062103, 42.366261], ['291', datetime.datetime(2012, 8, 27, 19, 0), datetime.datetime(2012, 8, 27, 21, 0), -71.016518, 42.366631], ['292', datetime.datetime(2012, 8, 27, 19, 0), datetime.datetime(2012, 8, 27, 21, 0), -71.055138, 42.351818], ['293', datetime.datetime(2012, 8, 27, 19, 0), datetime.datetime(2012, 8, 27, 21, 0), -71.056213, 42.360039], ['294', datetime.datetime(2012, 8, 27, 19, 0), datetime.datetime(2012, 8, 27, 21, 0), -71.127762, 42.358086], ['295', datetime.datetime(2012, 8, 27, 19, 0), datetime.datetime(2012, 8, 27, 21, 0), -71.06559, 42.350483], ['296', datetime.datetime(2012, 8, 27, 19, 0), datetime.datetime(2012, 8, 27, 21, 0), -71.040916, 42.346043], ['297', datetime.datetime(2012, 8, 27, 19, 0), datetime.datetime(2012, 8, 27, 21, 0), -71.040306, 42.351776], ['298', datetime.datetime(2012, 8, 27, 19, 0), datetime.datetime(2012, 8, 27, 21, 0), -71.04924, 42.359219], ['299', datetime.datetime(2012, 8, 27, 19, 0), datetime.datetime(2012, 8, 27, 21, 0), -71.060493, 42.355457], ['300', datetime.datetime(2012, 8, 27, 19, 0), datetime.datetime(2012, 8, 27, 21, 0), -71.073502, 42.347263], ['301', datetime.datetime(2012, 8, 27, 19, 0), datetime.datetime(2012, 8, 27, 21, 0), -71.056396, 42.357574], ['302', datetime.datetime(2012, 8, 27, 19, 0), datetime.datetime(2012, 8, 27, 21, 0), -71.051659, 42.345394], ['303', datetime.datetime(2012, 8, 27, 19, 0), datetime.datetime(2012, 8, 27, 21, 0), -71.083717, 42.329704], ['304', datetime.datetime(2012, 8, 27, 19, 0), datetime.datetime(2012, 8, 27, 21, 0), -71.075111, 42.347534], ['305', datetime.datetime(2012, 8, 27, 19, 0), datetime.datetime(2012, 8, 27, 21, 0), -71.065109, 42.35154], ['306', datetime.datetime(2012, 8, 27, 19, 0), datetime.datetime(2012, 8, 27, 21, 0), -71.059608, 42.3592], ['307', datetime.datetime(2012, 8, 27, 19, 0), datetime.datetime(2012, 8, 27, 21, 0), -71.062569, 42.354008], ['308', datetime.datetime(2012, 8, 27, 19, 0), datetime.datetime(2012, 8, 27, 21, 0), -71.036064, 42.348522], ['309', datetime.datetime(2012, 8, 27, 19, 0), datetime.datetime(2012, 8, 27, 21, 0), -71.064713, 42.350712], ['310', datetime.datetime(2012, 8, 27, 19, 0), datetime.datetime(2012, 8, 27, 21, 0), -71.049767, 42.351658], ['311', datetime.datetime(2012, 8, 27, 19, 0), datetime.datetime(2012, 8, 27, 21, 0), -71.066193, 42.349987], ['312', datetime.datetime(2012, 8, 27, 19, 0), datetime.datetime(2012, 8, 27, 21, 0), -71.053635, 42.359726], ['313', datetime.datetime(2012, 8, 27, 19, 0), datetime.datetime(2012, 8, 27, 21, 0), -71.097244, 42.346439], ['314', datetime.datetime(2012, 8, 27, 19, 0), datetime.datetime(2012, 8, 27, 21, 0), -71.04493, 42.346577], ['315', datetime.datetime(2012, 8, 27, 19, 0), datetime.datetime(2012, 8, 27, 21, 0), -71.065567, 42.315872], ['316', datetime.datetime(2012, 8, 27, 19, 0), datetime.datetime(2012, 8, 27, 21, 0), -71.084206, 42.347626], ['317', datetime.datetime(2012, 8, 27, 19, 0), datetime.datetime(2012, 8, 27, 21, 0), -71.055511, 42.365353], ['318', datetime.datetime(2012, 8, 27, 19, 0), datetime.datetime(2012, 8, 27, 21, 0), -71.08567, 42.342808], ['319', datetime.datetime(2012, 8, 27, 19, 0), datetime.datetime(2012, 8, 27, 21, 0), -71.04525, 42.353764], ['320', datetime.datetime(2012, 8, 27, 19, 0), datetime.datetime(2012, 8, 27, 21, 0), -71.042946, 42.352856], ['321', datetime.datetime(2012, 9, 2, 11, 0), datetime.datetime(2012, 9, 2, 13, 0), -71.057114, 42.343365], ['322', datetime.datetime(2012, 9, 2, 11, 0), datetime.datetime(2012, 9, 2, 13, 0), -71.02861, 42.344254], ['323', datetime.datetime(2012, 9, 2, 11, 0), datetime.datetime(2012, 9, 2, 13, 0), -71.064461, 42.350315], ['324', datetime.datetime(2012, 9, 2, 11, 0), datetime.datetime(2012, 9, 2, 13, 0), -71.114105, 42.300732], ['325', datetime.datetime(2012, 9, 2, 11, 0), datetime.datetime(2012, 9, 2, 13, 0), -71.062103, 42.366261], ['326', datetime.datetime(2012, 9, 2, 11, 0), datetime.datetime(2012, 9, 2, 13, 0), -71.016518, 42.366631], ['327', datetime.datetime(2012, 9, 2, 11, 0), datetime.datetime(2012, 9, 2, 13, 0), -71.055138, 42.351818], ['328', datetime.datetime(2012, 9, 2, 11, 0), datetime.datetime(2012, 9, 2, 13, 0), -71.056213, 42.360039], ['329', datetime.datetime(2012, 9, 2, 11, 0), datetime.datetime(2012, 9, 2, 13, 0), -71.127762, 42.358086], ['330', datetime.datetime(2012, 9, 2, 11, 0), datetime.datetime(2012, 9, 2, 13, 0), -71.06559, 42.350483], ['331', datetime.datetime(2012, 9, 2, 11, 0), datetime.datetime(2012, 9, 2, 13, 0), -71.040916, 42.346043], ['332', datetime.datetime(2012, 9, 2, 11, 0), datetime.datetime(2012, 9, 2, 13, 0), -71.040306, 42.351776], ['333', datetime.datetime(2012, 9, 2, 11, 0), datetime.datetime(2012, 9, 2, 13, 0), -71.04924, 42.359219], ['334', datetime.datetime(2012, 9, 2, 11, 0), datetime.datetime(2012, 9, 2, 13, 0), -71.060493, 42.355457], ['335', datetime.datetime(2012, 9, 2, 11, 0), datetime.datetime(2012, 9, 2, 13, 0), -71.073502, 42.347263], ['336', datetime.datetime(2012, 9, 2, 11, 0), datetime.datetime(2012, 9, 2, 13, 0), -71.056396, 42.357574], ['337', datetime.datetime(2012, 9, 2, 11, 0), datetime.datetime(2012, 9, 2, 13, 0), -71.051659, 42.345394], ['338', datetime.datetime(2012, 9, 2, 11, 0), datetime.datetime(2012, 9, 2, 13, 0), -71.083717, 42.329704], ['339', datetime.datetime(2012, 9, 2, 11, 0), datetime.datetime(2012, 9, 2, 13, 0), -71.075111, 42.347534], ['340', datetime.datetime(2012, 9, 2, 11, 0), datetime.datetime(2012, 9, 2, 13, 0), -71.065109, 42.35154], ['341', datetime.datetime(2012, 9, 2, 11, 0), datetime.datetime(2012, 9, 2, 13, 0), -71.059608, 42.3592], ['342', datetime.datetime(2012, 9, 2, 11, 0), datetime.datetime(2012, 9, 2, 13, 0), -71.062569, 42.354008], ['343', datetime.datetime(2012, 9, 2, 11, 0), datetime.datetime(2012, 9, 2, 13, 0), -71.036064, 42.348522], ['344', datetime.datetime(2012, 9, 2, 11, 0), datetime.datetime(2012, 9, 2, 13, 0), -71.064713, 42.350712], ['345', datetime.datetime(2012, 9, 2, 11, 0), datetime.datetime(2012, 9, 2, 13, 0), -71.049767, 42.351658], ['346', datetime.datetime(2012, 9, 2, 11, 0), datetime.datetime(2012, 9, 2, 13, 0), -71.066193, 42.349987], ['347', datetime.datetime(2012, 9, 2, 11, 0), datetime.datetime(2012, 9, 2, 13, 0), -71.053635, 42.359726], ['348', datetime.datetime(2012, 9, 2, 11, 0), datetime.datetime(2012, 9, 2, 13, 0), -71.097244, 42.346439], ['349', datetime.datetime(2012, 9, 2, 11, 0), datetime.datetime(2012, 9, 2, 13, 0), -71.04493, 42.346577], ['350', datetime.datetime(2012, 9, 2, 11, 0), datetime.datetime(2012, 9, 2, 13, 0), -71.065567, 42.315872], ['351', datetime.datetime(2012, 9, 2, 11, 0), datetime.datetime(2012, 9, 2, 13, 0), -71.084206, 42.347626], ['352', datetime.datetime(2012, 9, 2, 11, 0), datetime.datetime(2012, 9, 2, 13, 0), -71.055511, 42.365353], ['353', datetime.datetime(2012, 9, 2, 11, 0), datetime.datetime(2012, 9, 2, 13, 0), -71.08567, 42.342808], ['354', datetime.datetime(2012, 9, 2, 11, 0), datetime.datetime(2012, 9, 2, 13, 0), -71.04525, 42.353764], ['355', datetime.datetime(2012, 9, 2, 11, 0), datetime.datetime(2012, 9, 2, 13, 0), -71.042946, 42.352856], ['356', datetime.datetime(2012, 9, 2, 16, 0), datetime.datetime(2012, 9, 2, 18, 0), -71.057114, 42.343365], ['357', datetime.datetime(2012, 9, 2, 16, 0), datetime.datetime(2012, 9, 2, 18, 0), -71.02861, 42.344254], ['358', datetime.datetime(2012, 9, 2, 16, 0), datetime.datetime(2012, 9, 2, 18, 0), -71.064461, 42.350315], ['359', datetime.datetime(2012, 9, 2, 16, 0), datetime.datetime(2012, 9, 2, 18, 0), -71.114105, 42.300732], ['360', datetime.datetime(2012, 9, 2, 16, 0), datetime.datetime(2012, 9, 2, 18, 0), -71.062103, 42.366261], ['361', datetime.datetime(2012, 9, 2, 16, 0), datetime.datetime(2012, 9, 2, 18, 0), -71.016518, 42.366631], ['362', datetime.datetime(2012, 9, 2, 16, 0), datetime.datetime(2012, 9, 2, 18, 0), -71.055138, 42.351818], ['363', datetime.datetime(2012, 9, 2, 16, 0), datetime.datetime(2012, 9, 2, 18, 0), -71.056213, 42.360039], ['364', datetime.datetime(2012, 9, 2, 16, 0), datetime.datetime(2012, 9, 2, 18, 0), -71.127762, 42.358086], ['365', datetime.datetime(2012, 9, 2, 16, 0), datetime.datetime(2012, 9, 2, 18, 0), -71.06559, 42.350483], ['366', datetime.datetime(2012, 9, 2, 16, 0), datetime.datetime(2012, 9, 2, 18, 0), -71.040916, 42.346043], ['367', datetime.datetime(2012, 9, 2, 16, 0), datetime.datetime(2012, 9, 2, 18, 0), -71.040306, 42.351776], ['368', datetime.datetime(2012, 9, 2, 16, 0), datetime.datetime(2012, 9, 2, 18, 0), -71.04924, 42.359219], ['369', datetime.datetime(2012, 9, 2, 16, 0), datetime.datetime(2012, 9, 2, 18, 0), -71.060493, 42.355457], ['370', datetime.datetime(2012, 9, 2, 16, 0), datetime.datetime(2012, 9, 2, 18, 0), -71.073502, 42.347263], ['371', datetime.datetime(2012, 9, 2, 16, 0), datetime.datetime(2012, 9, 2, 18, 0), -71.056396, 42.357574], ['372', datetime.datetime(2012, 9, 2, 16, 0), datetime.datetime(2012, 9, 2, 18, 0), -71.051659, 42.345394], ['373', datetime.datetime(2012, 9, 2, 16, 0), datetime.datetime(2012, 9, 2, 18, 0), -71.083717, 42.329704], ['374', datetime.datetime(2012, 9, 2, 16, 0), datetime.datetime(2012, 9, 2, 18, 0), -71.075111, 42.347534], ['375', datetime.datetime(2012, 9, 2, 16, 0), datetime.datetime(2012, 9, 2, 18, 0), -71.065109, 42.35154], ['376', datetime.datetime(2012, 9, 2, 16, 0), datetime.datetime(2012, 9, 2, 18, 0), -71.059608, 42.3592], ['377', datetime.datetime(2012, 9, 2, 16, 0), datetime.datetime(2012, 9, 2, 18, 0), -71.062569, 42.354008], ['378', datetime.datetime(2012, 9, 2, 16, 0), datetime.datetime(2012, 9, 2, 18, 0), -71.036064, 42.348522], ['379', datetime.datetime(2012, 9, 2, 16, 0), datetime.datetime(2012, 9, 2, 18, 0), -71.064713, 42.350712], ['380', datetime.datetime(2012, 9, 2, 16, 0), datetime.datetime(2012, 9, 2, 18, 0), -71.049767, 42.351658], ['381', datetime.datetime(2012, 9, 2, 16, 0), datetime.datetime(2012, 9, 2, 18, 0), -71.066193, 42.349987], ['382', datetime.datetime(2012, 9, 2, 16, 0), datetime.datetime(2012, 9, 2, 18, 0), -71.053635, 42.359726], ['383', datetime.datetime(2012, 9, 2, 16, 0), datetime.datetime(2012, 9, 2, 18, 0), -71.097244, 42.346439], ['384', datetime.datetime(2012, 9, 2, 16, 0), datetime.datetime(2012, 9, 2, 18, 0), -71.04493, 42.346577], ['385', datetime.datetime(2012, 9, 2, 16, 0), datetime.datetime(2012, 9, 2, 18, 0), -71.065567, 42.315872], ['386', datetime.datetime(2012, 9, 2, 16, 0), datetime.datetime(2012, 9, 2, 18, 0), -71.084206, 42.347626], ['387', datetime.datetime(2012, 9, 2, 16, 0), datetime.datetime(2012, 9, 2, 18, 0), -71.055511, 42.365353], ['388', datetime.datetime(2012, 9, 2, 16, 0), datetime.datetime(2012, 9, 2, 18, 0), -71.08567, 42.342808], ['389', datetime.datetime(2012, 9, 2, 16, 0), datetime.datetime(2012, 9, 2, 18, 0), -71.04525, 42.353764], ['390', datetime.datetime(2012, 9, 2, 16, 0), datetime.datetime(2012, 9, 2, 18, 0), -71.042946, 42.352856], ['391', datetime.datetime(2012, 9, 8, 3, 0), datetime.datetime(2012, 9, 8, 5, 0), -71.049767, 42.351658], ['392', datetime.datetime(2012, 9, 8, 17, 0), datetime.datetime(2012, 9, 8, 19, 0), -71.065109, 42.35154], ['393', datetime.datetime(2012, 9, 12, 21, 0), datetime.datetime(2012, 9, 12, 23, 0), -71.057114, 42.343365], ['394', datetime.datetime(2012, 9, 26, 12, 0), datetime.datetime(2012, 9, 26, 14, 0), -71.064713, 42.350712], ['395', datetime.datetime(2012, 10, 2, 5, 0), datetime.datetime(2012, 10, 2, 7, 0), -71.057114, 42.343365], ['396', datetime.datetime(2012, 10, 2, 5, 0), datetime.datetime(2012, 10, 2, 7, 0), -71.02861, 42.344254], ['397', datetime.datetime(2012, 10, 2, 5, 0), datetime.datetime(2012, 10, 2, 7, 0), -71.064461, 42.350315], ['398', datetime.datetime(2012, 10, 2, 5, 0), datetime.datetime(2012, 10, 2, 7, 0), -71.114105, 42.300732], ['399', datetime.datetime(2012, 10, 2, 5, 0), datetime.datetime(2012, 10, 2, 7, 0), -71.062103, 42.366261], ['400', datetime.datetime(2012, 10, 2, 5, 0), datetime.datetime(2012, 10, 2, 7, 0), -71.016518, 42.366631], ['401', datetime.datetime(2012, 10, 2, 5, 0), datetime.datetime(2012, 10, 2, 7, 0), -71.055138, 42.351818], ['402', datetime.datetime(2012, 10, 2, 5, 0), datetime.datetime(2012, 10, 2, 7, 0), -71.056213, 42.360039], ['403', datetime.datetime(2012, 10, 2, 5, 0), datetime.datetime(2012, 10, 2, 7, 0), -71.127762, 42.358086], ['404', datetime.datetime(2012, 10, 2, 5, 0), datetime.datetime(2012, 10, 2, 7, 0), -71.06559, 42.350483], ['405', datetime.datetime(2012, 10, 2, 5, 0), datetime.datetime(2012, 10, 2, 7, 0), -71.040916, 42.346043], ['406', datetime.datetime(2012, 10, 2, 5, 0), datetime.datetime(2012, 10, 2, 7, 0), -71.040306, 42.351776], ['407', datetime.datetime(2012, 10, 2, 5, 0), datetime.datetime(2012, 10, 2, 7, 0), -71.04924, 42.359219], ['408', datetime.datetime(2012, 10, 2, 5, 0), datetime.datetime(2012, 10, 2, 7, 0), -71.060493, 42.355457], ['409', datetime.datetime(2012, 10, 2, 5, 0), datetime.datetime(2012, 10, 2, 7, 0), -71.073502, 42.347263], ['410', datetime.datetime(2012, 10, 2, 5, 0), datetime.datetime(2012, 10, 2, 7, 0), -71.056396, 42.357574], ['411', datetime.datetime(2012, 10, 2, 5, 0), datetime.datetime(2012, 10, 2, 7, 0), -71.051659, 42.345394], ['412', datetime.datetime(2012, 10, 2, 5, 0), datetime.datetime(2012, 10, 2, 7, 0), -71.083717, 42.329704], ['413', datetime.datetime(2012, 10, 2, 5, 0), datetime.datetime(2012, 10, 2, 7, 0), -71.075111, 42.347534], ['414', datetime.datetime(2012, 10, 2, 5, 0), datetime.datetime(2012, 10, 2, 7, 0), -71.065109, 42.35154], ['415', datetime.datetime(2012, 10, 2, 5, 0), datetime.datetime(2012, 10, 2, 7, 0), -71.059608, 42.3592], ['416', datetime.datetime(2012, 10, 2, 5, 0), datetime.datetime(2012, 10, 2, 7, 0), -71.062569, 42.354008], ['417', datetime.datetime(2012, 10, 2, 5, 0), datetime.datetime(2012, 10, 2, 7, 0), -71.036064, 42.348522], ['418', datetime.datetime(2012, 10, 2, 5, 0), datetime.datetime(2012, 10, 2, 7, 0), -71.064713, 42.350712], ['419', datetime.datetime(2012, 10, 2, 5, 0), datetime.datetime(2012, 10, 2, 7, 0), -71.049767, 42.351658], ['420', datetime.datetime(2012, 10, 2, 5, 0), datetime.datetime(2012, 10, 2, 7, 0), -71.066193, 42.349987], ['421', datetime.datetime(2012, 10, 2, 5, 0), datetime.datetime(2012, 10, 2, 7, 0), -71.053635, 42.359726], ['422', datetime.datetime(2012, 10, 2, 5, 0), datetime.datetime(2012, 10, 2, 7, 0), -71.097244, 42.346439], ['423', datetime.datetime(2012, 10, 2, 5, 0), datetime.datetime(2012, 10, 2, 7, 0), -71.04493, 42.346577], ['424', datetime.datetime(2012, 10, 2, 5, 0), datetime.datetime(2012, 10, 2, 7, 0), -71.065567, 42.315872], ['425', datetime.datetime(2012, 10, 2, 5, 0), datetime.datetime(2012, 10, 2, 7, 0), -71.084206, 42.347626], ['426', datetime.datetime(2012, 10, 2, 5, 0), datetime.datetime(2012, 10, 2, 7, 0), -71.055511, 42.365353], ['427', datetime.datetime(2012, 10, 2, 5, 0), datetime.datetime(2012, 10, 2, 7, 0), -71.08567, 42.342808], ['428', datetime.datetime(2012, 10, 2, 5, 0), datetime.datetime(2012, 10, 2, 7, 0), -71.04525, 42.353764], ['429', datetime.datetime(2012, 10, 2, 5, 0), datetime.datetime(2012, 10, 2, 7, 0), -71.042946, 42.352856], ['430', datetime.datetime(2012, 10, 5, 4, 0), datetime.datetime(2012, 10, 5, 6, 0), -71.057114, 42.343365], ['431', datetime.datetime(2012, 10, 5, 4, 0), datetime.datetime(2012, 10, 5, 6, 0), -71.02861, 42.344254], ['432', datetime.datetime(2012, 10, 5, 4, 0), datetime.datetime(2012, 10, 5, 6, 0), -71.064461, 42.350315], ['433', datetime.datetime(2012, 10, 5, 4, 0), datetime.datetime(2012, 10, 5, 6, 0), -71.114105, 42.300732], ['434', datetime.datetime(2012, 10, 5, 4, 0), datetime.datetime(2012, 10, 5, 6, 0), -71.062103, 42.366261], ['435', datetime.datetime(2012, 10, 5, 4, 0), datetime.datetime(2012, 10, 5, 6, 0), -71.016518, 42.366631], ['436', datetime.datetime(2012, 10, 5, 4, 0), datetime.datetime(2012, 10, 5, 6, 0), -71.055138, 42.351818], ['437', datetime.datetime(2012, 10, 5, 4, 0), datetime.datetime(2012, 10, 5, 6, 0), -71.056213, 42.360039], ['438', datetime.datetime(2012, 10, 5, 4, 0), datetime.datetime(2012, 10, 5, 6, 0), -71.127762, 42.358086], ['439', datetime.datetime(2012, 10, 5, 4, 0), datetime.datetime(2012, 10, 5, 6, 0), -71.06559, 42.350483], ['440', datetime.datetime(2012, 10, 5, 4, 0), datetime.datetime(2012, 10, 5, 6, 0), -71.040916, 42.346043], ['441', datetime.datetime(2012, 10, 5, 4, 0), datetime.datetime(2012, 10, 5, 6, 0), -71.040306, 42.351776], ['442', datetime.datetime(2012, 10, 5, 4, 0), datetime.datetime(2012, 10, 5, 6, 0), -71.04924, 42.359219], ['443', datetime.datetime(2012, 10, 5, 4, 0), datetime.datetime(2012, 10, 5, 6, 0), -71.060493, 42.355457], ['444', datetime.datetime(2012, 10, 5, 4, 0), datetime.datetime(2012, 10, 5, 6, 0), -71.073502, 42.347263], ['445', datetime.datetime(2012, 10, 5, 4, 0), datetime.datetime(2012, 10, 5, 6, 0), -71.056396, 42.357574], ['446', datetime.datetime(2012, 10, 5, 4, 0), datetime.datetime(2012, 10, 5, 6, 0), -71.051659, 42.345394], ['447', datetime.datetime(2012, 10, 5, 4, 0), datetime.datetime(2012, 10, 5, 6, 0), -71.083717, 42.329704], ['448', datetime.datetime(2012, 10, 5, 4, 0), datetime.datetime(2012, 10, 5, 6, 0), -71.075111, 42.347534], ['449', datetime.datetime(2012, 10, 5, 4, 0), datetime.datetime(2012, 10, 5, 6, 0), -71.065109, 42.35154], ['450', datetime.datetime(2012, 10, 5, 4, 0), datetime.datetime(2012, 10, 5, 6, 0), -71.059608, 42.3592], ['451', datetime.datetime(2012, 10, 5, 4, 0), datetime.datetime(2012, 10, 5, 6, 0), -71.062569, 42.354008], ['452', datetime.datetime(2012, 10, 5, 4, 0), datetime.datetime(2012, 10, 5, 6, 0), -71.036064, 42.348522], ['453', datetime.datetime(2012, 10, 5, 4, 0), datetime.datetime(2012, 10, 5, 6, 0), -71.064713, 42.350712], ['454', datetime.datetime(2012, 10, 5, 4, 0), datetime.datetime(2012, 10, 5, 6, 0), -71.049767, 42.351658], ['455', datetime.datetime(2012, 10, 5, 4, 0), datetime.datetime(2012, 10, 5, 6, 0), -71.066193, 42.349987], ['456', datetime.datetime(2012, 10, 5, 4, 0), datetime.datetime(2012, 10, 5, 6, 0), -71.053635, 42.359726], ['457', datetime.datetime(2012, 10, 5, 4, 0), datetime.datetime(2012, 10, 5, 6, 0), -71.097244, 42.346439], ['458', datetime.datetime(2012, 10, 5, 4, 0), datetime.datetime(2012, 10, 5, 6, 0), -71.04493, 42.346577], ['459', datetime.datetime(2012, 10, 5, 4, 0), datetime.datetime(2012, 10, 5, 6, 0), -71.065567, 42.315872], ['460', datetime.datetime(2012, 10, 5, 4, 0), datetime.datetime(2012, 10, 5, 6, 0), -71.084206, 42.347626], ['461', datetime.datetime(2012, 10, 5, 4, 0), datetime.datetime(2012, 10, 5, 6, 0), -71.055511, 42.365353], ['462', datetime.datetime(2012, 10, 5, 4, 0), datetime.datetime(2012, 10, 5, 6, 0), -71.08567, 42.342808], ['463', datetime.datetime(2012, 10, 5, 4, 0), datetime.datetime(2012, 10, 5, 6, 0), -71.04525, 42.353764], ['464', datetime.datetime(2012, 10, 5, 4, 0), datetime.datetime(2012, 10, 5, 6, 0), -71.042946, 42.352856], ['465', datetime.datetime(2012, 10, 8, 6, 0), datetime.datetime(2012, 10, 8, 8, 0), -71.057114, 42.343365], ['466', datetime.datetime(2012, 10, 8, 6, 0), datetime.datetime(2012, 10, 8, 8, 0), -71.02861, 42.344254], ['467', datetime.datetime(2012, 10, 8, 6, 0), datetime.datetime(2012, 10, 8, 8, 0), -71.064461, 42.350315], ['468', datetime.datetime(2012, 10, 8, 6, 0), datetime.datetime(2012, 10, 8, 8, 0), -71.114105, 42.300732], ['469', datetime.datetime(2012, 10, 8, 6, 0), datetime.datetime(2012, 10, 8, 8, 0), -71.062103, 42.366261], ['470', datetime.datetime(2012, 10, 8, 6, 0), datetime.datetime(2012, 10, 8, 8, 0), -71.016518, 42.366631], ['471', datetime.datetime(2012, 10, 8, 6, 0), datetime.datetime(2012, 10, 8, 8, 0), -71.055138, 42.351818], ['472', datetime.datetime(2012, 10, 8, 6, 0), datetime.datetime(2012, 10, 8, 8, 0), -71.056213, 42.360039], ['473', datetime.datetime(2012, 10, 8, 6, 0), datetime.datetime(2012, 10, 8, 8, 0), -71.127762, 42.358086], ['474', datetime.datetime(2012, 10, 8, 6, 0), datetime.datetime(2012, 10, 8, 8, 0), -71.06559, 42.350483], ['475', datetime.datetime(2012, 10, 8, 6, 0), datetime.datetime(2012, 10, 8, 8, 0), -71.040916, 42.346043], ['476', datetime.datetime(2012, 10, 8, 6, 0), datetime.datetime(2012, 10, 8, 8, 0), -71.040306, 42.351776], ['477', datetime.datetime(2012, 10, 8, 6, 0), datetime.datetime(2012, 10, 8, 8, 0), -71.04924, 42.359219], ['478', datetime.datetime(2012, 10, 8, 6, 0), datetime.datetime(2012, 10, 8, 8, 0), -71.060493, 42.355457], ['479', datetime.datetime(2012, 10, 8, 6, 0), datetime.datetime(2012, 10, 8, 8, 0), -71.073502, 42.347263], ['480', datetime.datetime(2012, 10, 8, 6, 0), datetime.datetime(2012, 10, 8, 8, 0), -71.056396, 42.357574], ['481', datetime.datetime(2012, 10, 8, 6, 0), datetime.datetime(2012, 10, 8, 8, 0), -71.051659, 42.345394], ['482', datetime.datetime(2012, 10, 8, 6, 0), datetime.datetime(2012, 10, 8, 8, 0), -71.083717, 42.329704], ['483', datetime.datetime(2012, 10, 8, 6, 0), datetime.datetime(2012, 10, 8, 8, 0), -71.075111, 42.347534], ['484', datetime.datetime(2012, 10, 8, 6, 0), datetime.datetime(2012, 10, 8, 8, 0), -71.065109, 42.35154], ['485', datetime.datetime(2012, 10, 8, 6, 0), datetime.datetime(2012, 10, 8, 8, 0), -71.059608, 42.3592], ['486', datetime.datetime(2012, 10, 8, 6, 0), datetime.datetime(2012, 10, 8, 8, 0), -71.062569, 42.354008], ['487', datetime.datetime(2012, 10, 8, 6, 0), datetime.datetime(2012, 10, 8, 8, 0), -71.036064, 42.348522], ['488', datetime.datetime(2012, 10, 8, 6, 0), datetime.datetime(2012, 10, 8, 8, 0), -71.064713, 42.350712], ['489', datetime.datetime(2012, 10, 8, 6, 0), datetime.datetime(2012, 10, 8, 8, 0), -71.049767, 42.351658], ['490', datetime.datetime(2012, 10, 8, 6, 0), datetime.datetime(2012, 10, 8, 8, 0), -71.066193, 42.349987], ['491', datetime.datetime(2012, 10, 8, 6, 0), datetime.datetime(2012, 10, 8, 8, 0), -71.053635, 42.359726], ['492', datetime.datetime(2012, 10, 8, 6, 0), datetime.datetime(2012, 10, 8, 8, 0), -71.097244, 42.346439], ['493', datetime.datetime(2012, 10, 8, 6, 0), datetime.datetime(2012, 10, 8, 8, 0), -71.04493, 42.346577], ['494', datetime.datetime(2012, 10, 8, 6, 0), datetime.datetime(2012, 10, 8, 8, 0), -71.065567, 42.315872], ['495', datetime.datetime(2012, 10, 8, 6, 0), datetime.datetime(2012, 10, 8, 8, 0), -71.084206, 42.347626], ['496', datetime.datetime(2012, 10, 8, 6, 0), datetime.datetime(2012, 10, 8, 8, 0), -71.055511, 42.365353], ['497', datetime.datetime(2012, 10, 8, 6, 0), datetime.datetime(2012, 10, 8, 8, 0), -71.08567, 42.342808], ['498', datetime.datetime(2012, 10, 8, 6, 0), datetime.datetime(2012, 10, 8, 8, 0), -71.04525, 42.353764], ['499', datetime.datetime(2012, 10, 8, 6, 0), datetime.datetime(2012, 10, 8, 8, 0), -71.042946, 42.352856], ['500', datetime.datetime(2012, 10, 11, 7, 0), datetime.datetime(2012, 10, 11, 9, 0), -71.057114, 42.343365], ['501', datetime.datetime(2012, 10, 11, 7, 0), datetime.datetime(2012, 10, 11, 9, 0), -71.02861, 42.344254], ['502', datetime.datetime(2012, 10, 11, 7, 0), datetime.datetime(2012, 10, 11, 9, 0), -71.064461, 42.350315], ['503', datetime.datetime(2012, 10, 11, 7, 0), datetime.datetime(2012, 10, 11, 9, 0), -71.114105, 42.300732], ['504', datetime.datetime(2012, 10, 11, 7, 0), datetime.datetime(2012, 10, 11, 9, 0), -71.062103, 42.366261], ['505', datetime.datetime(2012, 10, 11, 7, 0), datetime.datetime(2012, 10, 11, 9, 0), -71.016518, 42.366631], ['506', datetime.datetime(2012, 10, 11, 7, 0), datetime.datetime(2012, 10, 11, 9, 0), -71.055138, 42.351818], ['507', datetime.datetime(2012, 10, 11, 7, 0), datetime.datetime(2012, 10, 11, 9, 0), -71.056213, 42.360039], ['508', datetime.datetime(2012, 10, 11, 7, 0), datetime.datetime(2012, 10, 11, 9, 0), -71.127762, 42.358086], ['509', datetime.datetime(2012, 10, 11, 7, 0), datetime.datetime(2012, 10, 11, 9, 0), -71.06559, 42.350483], ['510', datetime.datetime(2012, 10, 11, 7, 0), datetime.datetime(2012, 10, 11, 9, 0), -71.040916, 42.346043], ['511', datetime.datetime(2012, 10, 11, 7, 0), datetime.datetime(2012, 10, 11, 9, 0), -71.040306, 42.351776], ['512', datetime.datetime(2012, 10, 11, 7, 0), datetime.datetime(2012, 10, 11, 9, 0), -71.04924, 42.359219], ['513', datetime.datetime(2012, 10, 11, 7, 0), datetime.datetime(2012, 10, 11, 9, 0), -71.060493, 42.355457], ['514', datetime.datetime(2012, 10, 11, 7, 0), datetime.datetime(2012, 10, 11, 9, 0), -71.073502, 42.347263], ['515', datetime.datetime(2012, 10, 11, 7, 0), datetime.datetime(2012, 10, 11, 9, 0), -71.056396, 42.357574], ['516', datetime.datetime(2012, 10, 11, 7, 0), datetime.datetime(2012, 10, 11, 9, 0), -71.051659, 42.345394], ['517', datetime.datetime(2012, 10, 11, 7, 0), datetime.datetime(2012, 10, 11, 9, 0), -71.083717, 42.329704], ['518', datetime.datetime(2012, 10, 11, 7, 0), datetime.datetime(2012, 10, 11, 9, 0), -71.075111, 42.347534], ['519', datetime.datetime(2012, 10, 11, 7, 0), datetime.datetime(2012, 10, 11, 9, 0), -71.065109, 42.35154], ['520', datetime.datetime(2012, 10, 11, 7, 0), datetime.datetime(2012, 10, 11, 9, 0), -71.059608, 42.3592], ['521', datetime.datetime(2012, 10, 11, 7, 0), datetime.datetime(2012, 10, 11, 9, 0), -71.062569, 42.354008], ['522', datetime.datetime(2012, 10, 11, 7, 0), datetime.datetime(2012, 10, 11, 9, 0), -71.036064, 42.348522], ['523', datetime.datetime(2012, 10, 11, 7, 0), datetime.datetime(2012, 10, 11, 9, 0), -71.064713, 42.350712], ['524', datetime.datetime(2012, 10, 11, 7, 0), datetime.datetime(2012, 10, 11, 9, 0), -71.049767, 42.351658], ['525', datetime.datetime(2012, 10, 11, 7, 0), datetime.datetime(2012, 10, 11, 9, 0), -71.066193, 42.349987], ['526', datetime.datetime(2012, 10, 11, 7, 0), datetime.datetime(2012, 10, 11, 9, 0), -71.053635, 42.359726], ['527', datetime.datetime(2012, 10, 11, 7, 0), datetime.datetime(2012, 10, 11, 9, 0), -71.097244, 42.346439], ['528', datetime.datetime(2012, 10, 11, 7, 0), datetime.datetime(2012, 10, 11, 9, 0), -71.04493, 42.346577], ['529', datetime.datetime(2012, 10, 11, 7, 0), datetime.datetime(2012, 10, 11, 9, 0), -71.065567, 42.315872], ['530', datetime.datetime(2012, 10, 11, 7, 0), datetime.datetime(2012, 10, 11, 9, 0), -71.084206, 42.347626], ['531', datetime.datetime(2012, 10, 11, 7, 0), datetime.datetime(2012, 10, 11, 9, 0), -71.055511, 42.365353], ['532', datetime.datetime(2012, 10, 11, 7, 0), datetime.datetime(2012, 10, 11, 9, 0), -71.08567, 42.342808], ['533', datetime.datetime(2012, 10, 11, 7, 0), datetime.datetime(2012, 10, 11, 9, 0), -71.04525, 42.353764], ['534', datetime.datetime(2012, 10, 11, 7, 0), datetime.datetime(2012, 10, 11, 9, 0), -71.042946, 42.352856], ['535', datetime.datetime(2012, 10, 11, 12, 0), datetime.datetime(2012, 10, 11, 14, 0), -71.057114, 42.343365], ['536', datetime.datetime(2012, 10, 11, 12, 0), datetime.datetime(2012, 10, 11, 14, 0), -71.02861, 42.344254], ['537', datetime.datetime(2012, 10, 11, 12, 0), datetime.datetime(2012, 10, 11, 14, 0), -71.064461, 42.350315], ['538', datetime.datetime(2012, 10, 11, 12, 0), datetime.datetime(2012, 10, 11, 14, 0), -71.114105, 42.300732], ['539', datetime.datetime(2012, 10, 11, 12, 0), datetime.datetime(2012, 10, 11, 14, 0), -71.062103, 42.366261], ['540', datetime.datetime(2012, 10, 11, 12, 0), datetime.datetime(2012, 10, 11, 14, 0), -71.016518, 42.366631], ['541', datetime.datetime(2012, 10, 11, 12, 0), datetime.datetime(2012, 10, 11, 14, 0), -71.055138, 42.351818], ['542', datetime.datetime(2012, 10, 11, 12, 0), datetime.datetime(2012, 10, 11, 14, 0), -71.056213, 42.360039], ['543', datetime.datetime(2012, 10, 11, 12, 0), datetime.datetime(2012, 10, 11, 14, 0), -71.127762, 42.358086], ['544', datetime.datetime(2012, 10, 11, 12, 0), datetime.datetime(2012, 10, 11, 14, 0), -71.06559, 42.350483], ['545', datetime.datetime(2012, 10, 11, 12, 0), datetime.datetime(2012, 10, 11, 14, 0), -71.040916, 42.346043], ['546', datetime.datetime(2012, 10, 11, 12, 0), datetime.datetime(2012, 10, 11, 14, 0), -71.040306, 42.351776], ['547', datetime.datetime(2012, 10, 11, 12, 0), datetime.datetime(2012, 10, 11, 14, 0), -71.04924, 42.359219], ['548', datetime.datetime(2012, 10, 11, 12, 0), datetime.datetime(2012, 10, 11, 14, 0), -71.060493, 42.355457], ['549', datetime.datetime(2012, 10, 11, 12, 0), datetime.datetime(2012, 10, 11, 14, 0), -71.073502, 42.347263], ['550', datetime.datetime(2012, 10, 11, 12, 0), datetime.datetime(2012, 10, 11, 14, 0), -71.056396, 42.357574], ['551', datetime.datetime(2012, 10, 11, 12, 0), datetime.datetime(2012, 10, 11, 14, 0), -71.051659, 42.345394], ['552', datetime.datetime(2012, 10, 11, 12, 0), datetime.datetime(2012, 10, 11, 14, 0), -71.083717, 42.329704], ['553', datetime.datetime(2012, 10, 11, 12, 0), datetime.datetime(2012, 10, 11, 14, 0), -71.075111, 42.347534], ['554', datetime.datetime(2012, 10, 11, 12, 0), datetime.datetime(2012, 10, 11, 14, 0), -71.065109, 42.35154], ['555', datetime.datetime(2012, 10, 11, 12, 0), datetime.datetime(2012, 10, 11, 14, 0), -71.059608, 42.3592], ['556', datetime.datetime(2012, 10, 11, 12, 0), datetime.datetime(2012, 10, 11, 14, 0), -71.062569, 42.354008], ['557', datetime.datetime(2012, 10, 11, 12, 0), datetime.datetime(2012, 10, 11, 14, 0), -71.036064, 42.348522], ['558', datetime.datetime(2012, 10, 11, 12, 0), datetime.datetime(2012, 10, 11, 14, 0), -71.064713, 42.350712], ['559', datetime.datetime(2012, 10, 11, 12, 0), datetime.datetime(2012, 10, 11, 14, 0), -71.049767, 42.351658], ['560', datetime.datetime(2012, 10, 11, 12, 0), datetime.datetime(2012, 10, 11, 14, 0), -71.066193, 42.349987], ['561', datetime.datetime(2012, 10, 11, 12, 0), datetime.datetime(2012, 10, 11, 14, 0), -71.053635, 42.359726], ['562', datetime.datetime(2012, 10, 11, 12, 0), datetime.datetime(2012, 10, 11, 14, 0), -71.097244, 42.346439], ['563', datetime.datetime(2012, 10, 11, 12, 0), datetime.datetime(2012, 10, 11, 14, 0), -71.04493, 42.346577], ['564', datetime.datetime(2012, 10, 11, 12, 0), datetime.datetime(2012, 10, 11, 14, 0), -71.065567, 42.315872], ['565', datetime.datetime(2012, 10, 11, 12, 0), datetime.datetime(2012, 10, 11, 14, 0), -71.084206, 42.347626], ['566', datetime.datetime(2012, 10, 11, 12, 0), datetime.datetime(2012, 10, 11, 14, 0), -71.055511, 42.365353], ['567', datetime.datetime(2012, 10, 11, 12, 0), datetime.datetime(2012, 10, 11, 14, 0), -71.08567, 42.342808], ['568', datetime.datetime(2012, 10, 11, 12, 0), datetime.datetime(2012, 10, 11, 14, 0), -71.04525, 42.353764], ['569', datetime.datetime(2012, 10, 11, 12, 0), datetime.datetime(2012, 10, 11, 14, 0), -71.042946, 42.352856], ['570', datetime.datetime(2012, 10, 13, 13, 0), datetime.datetime(2012, 10, 13, 15, 0), -71.057114, 42.343365], ['571', datetime.datetime(2012, 10, 13, 13, 0), datetime.datetime(2012, 10, 13, 15, 0), -71.02861, 42.344254], ['572', datetime.datetime(2012, 10, 13, 13, 0), datetime.datetime(2012, 10, 13, 15, 0), -71.064461, 42.350315], ['573', datetime.datetime(2012, 10, 13, 13, 0), datetime.datetime(2012, 10, 13, 15, 0), -71.114105, 42.300732], ['574', datetime.datetime(2012, 10, 13, 13, 0), datetime.datetime(2012, 10, 13, 15, 0), -71.062103, 42.366261], ['575', datetime.datetime(2012, 10, 13, 13, 0), datetime.datetime(2012, 10, 13, 15, 0), -71.016518, 42.366631], ['576', datetime.datetime(2012, 10, 13, 13, 0), datetime.datetime(2012, 10, 13, 15, 0), -71.055138, 42.351818], ['577', datetime.datetime(2012, 10, 13, 13, 0), datetime.datetime(2012, 10, 13, 15, 0), -71.056213, 42.360039], ['578', datetime.datetime(2012, 10, 13, 13, 0), datetime.datetime(2012, 10, 13, 15, 0), -71.127762, 42.358086], ['579', datetime.datetime(2012, 10, 13, 13, 0), datetime.datetime(2012, 10, 13, 15, 0), -71.06559, 42.350483], ['580', datetime.datetime(2012, 10, 13, 13, 0), datetime.datetime(2012, 10, 13, 15, 0), -71.040916, 42.346043], ['581', datetime.datetime(2012, 10, 13, 13, 0), datetime.datetime(2012, 10, 13, 15, 0), -71.040306, 42.351776], ['582', datetime.datetime(2012, 10, 13, 13, 0), datetime.datetime(2012, 10, 13, 15, 0), -71.04924, 42.359219], ['583', datetime.datetime(2012, 10, 13, 13, 0), datetime.datetime(2012, 10, 13, 15, 0), -71.060493, 42.355457], ['584', datetime.datetime(2012, 10, 13, 13, 0), datetime.datetime(2012, 10, 13, 15, 0), -71.073502, 42.347263], ['585', datetime.datetime(2012, 10, 13, 13, 0), datetime.datetime(2012, 10, 13, 15, 0), -71.056396, 42.357574], ['586', datetime.datetime(2012, 10, 13, 13, 0), datetime.datetime(2012, 10, 13, 15, 0), -71.051659, 42.345394], ['587', datetime.datetime(2012, 10, 13, 13, 0), datetime.datetime(2012, 10, 13, 15, 0), -71.083717, 42.329704], ['588', datetime.datetime(2012, 10, 13, 13, 0), datetime.datetime(2012, 10, 13, 15, 0), -71.075111, 42.347534], ['589', datetime.datetime(2012, 10, 13, 13, 0), datetime.datetime(2012, 10, 13, 15, 0), -71.065109, 42.35154], ['590', datetime.datetime(2012, 10, 13, 13, 0), datetime.datetime(2012, 10, 13, 15, 0), -71.059608, 42.3592], ['591', datetime.datetime(2012, 10, 13, 13, 0), datetime.datetime(2012, 10, 13, 15, 0), -71.062569, 42.354008], ['592', datetime.datetime(2012, 10, 13, 13, 0), datetime.datetime(2012, 10, 13, 15, 0), -71.036064, 42.348522], ['593', datetime.datetime(2012, 10, 13, 13, 0), datetime.datetime(2012, 10, 13, 15, 0), -71.064713, 42.350712], ['594', datetime.datetime(2012, 10, 13, 13, 0), datetime.datetime(2012, 10, 13, 15, 0), -71.049767, 42.351658], ['595', datetime.datetime(2012, 10, 13, 13, 0), datetime.datetime(2012, 10, 13, 15, 0), -71.066193, 42.349987], ['596', datetime.datetime(2012, 10, 13, 13, 0), datetime.datetime(2012, 10, 13, 15, 0), -71.053635, 42.359726], ['597', datetime.datetime(2012, 10, 13, 13, 0), datetime.datetime(2012, 10, 13, 15, 0), -71.097244, 42.346439], ['598', datetime.datetime(2012, 10, 13, 13, 0), datetime.datetime(2012, 10, 13, 15, 0), -71.04493, 42.346577], ['599', datetime.datetime(2012, 10, 13, 13, 0), datetime.datetime(2012, 10, 13, 15, 0), -71.065567, 42.315872], ['600', datetime.datetime(2012, 10, 13, 13, 0), datetime.datetime(2012, 10, 13, 15, 0), -71.084206, 42.347626], ['601', datetime.datetime(2012, 10, 13, 13, 0), datetime.datetime(2012, 10, 13, 15, 0), -71.055511, 42.365353], ['602', datetime.datetime(2012, 10, 13, 13, 0), datetime.datetime(2012, 10, 13, 15, 0), -71.08567, 42.342808], ['603', datetime.datetime(2012, 10, 13, 13, 0), datetime.datetime(2012, 10, 13, 15, 0), -71.04525, 42.353764], ['604', datetime.datetime(2012, 10, 13, 13, 0), datetime.datetime(2012, 10, 13, 15, 0), -71.042946, 42.352856], ['605', datetime.datetime(2012, 11, 6, 16, 0), datetime.datetime(2012, 11, 6, 18, 0), -71.057114, 42.343365], ['606', datetime.datetime(2012, 11, 6, 16, 0), datetime.datetime(2012, 11, 6, 18, 0), -71.02861, 42.344254], ['607', datetime.datetime(2012, 11, 6, 16, 0), datetime.datetime(2012, 11, 6, 18, 0), -71.064461, 42.350315], ['608', datetime.datetime(2012, 11, 6, 16, 0), datetime.datetime(2012, 11, 6, 18, 0), -71.114105, 42.300732], ['609', datetime.datetime(2012, 11, 6, 16, 0), datetime.datetime(2012, 11, 6, 18, 0), -71.062103, 42.366261], ['610', datetime.datetime(2012, 11, 6, 16, 0), datetime.datetime(2012, 11, 6, 18, 0), -71.016518, 42.366631], ['611', datetime.datetime(2012, 11, 6, 16, 0), datetime.datetime(2012, 11, 6, 18, 0), -71.055138, 42.351818], ['612', datetime.datetime(2012, 11, 6, 16, 0), datetime.datetime(2012, 11, 6, 18, 0), -71.056213, 42.360039], ['613', datetime.datetime(2012, 11, 6, 16, 0), datetime.datetime(2012, 11, 6, 18, 0), -71.127762, 42.358086], ['614', datetime.datetime(2012, 11, 6, 16, 0), datetime.datetime(2012, 11, 6, 18, 0), -71.06559, 42.350483], ['615', datetime.datetime(2012, 11, 6, 16, 0), datetime.datetime(2012, 11, 6, 18, 0), -71.040916, 42.346043], ['616', datetime.datetime(2012, 11, 6, 16, 0), datetime.datetime(2012, 11, 6, 18, 0), -71.040306, 42.351776], ['617', datetime.datetime(2012, 11, 6, 16, 0), datetime.datetime(2012, 11, 6, 18, 0), -71.04924, 42.359219], ['618', datetime.datetime(2012, 11, 6, 16, 0), datetime.datetime(2012, 11, 6, 18, 0), -71.060493, 42.355457], ['619', datetime.datetime(2012, 11, 6, 16, 0), datetime.datetime(2012, 11, 6, 18, 0), -71.073502, 42.347263], ['620', datetime.datetime(2012, 11, 6, 16, 0), datetime.datetime(2012, 11, 6, 18, 0), -71.056396, 42.357574], ['621', datetime.datetime(2012, 11, 6, 16, 0), datetime.datetime(2012, 11, 6, 18, 0), -71.051659, 42.345394], ['622', datetime.datetime(2012, 11, 6, 16, 0), datetime.datetime(2012, 11, 6, 18, 0), -71.083717, 42.329704], ['623', datetime.datetime(2012, 11, 6, 16, 0), datetime.datetime(2012, 11, 6, 18, 0), -71.075111, 42.347534], ['624', datetime.datetime(2012, 11, 6, 16, 0), datetime.datetime(2012, 11, 6, 18, 0), -71.065109, 42.35154], ['625', datetime.datetime(2012, 11, 6, 16, 0), datetime.datetime(2012, 11, 6, 18, 0), -71.059608, 42.3592], ['626', datetime.datetime(2012, 11, 6, 16, 0), datetime.datetime(2012, 11, 6, 18, 0), -71.062569, 42.354008], ['627', datetime.datetime(2012, 11, 6, 16, 0), datetime.datetime(2012, 11, 6, 18, 0), -71.036064, 42.348522], ['628', datetime.datetime(2012, 11, 6, 16, 0), datetime.datetime(2012, 11, 6, 18, 0), -71.064713, 42.350712], ['629', datetime.datetime(2012, 11, 6, 16, 0), datetime.datetime(2012, 11, 6, 18, 0), -71.049767, 42.351658], ['630', datetime.datetime(2012, 11, 6, 16, 0), datetime.datetime(2012, 11, 6, 18, 0), -71.066193, 42.349987], ['631', datetime.datetime(2012, 11, 6, 16, 0), datetime.datetime(2012, 11, 6, 18, 0), -71.053635, 42.359726], ['632', datetime.datetime(2012, 11, 6, 16, 0), datetime.datetime(2012, 11, 6, 18, 0), -71.097244, 42.346439], ['633', datetime.datetime(2012, 11, 6, 16, 0), datetime.datetime(2012, 11, 6, 18, 0), -71.04493, 42.346577], ['634', datetime.datetime(2012, 11, 6, 16, 0), datetime.datetime(2012, 11, 6, 18, 0), -71.065567, 42.315872], ['635', datetime.datetime(2012, 11, 6, 16, 0), datetime.datetime(2012, 11, 6, 18, 0), -71.084206, 42.347626], ['636', datetime.datetime(2012, 11, 6, 16, 0), datetime.datetime(2012, 11, 6, 18, 0), -71.055511, 42.365353], ['637', datetime.datetime(2012, 11, 6, 16, 0), datetime.datetime(2012, 11, 6, 18, 0), -71.08567, 42.342808], ['638', datetime.datetime(2012, 11, 6, 16, 0), datetime.datetime(2012, 11, 6, 18, 0), -71.04525, 42.353764], ['639', datetime.datetime(2012, 11, 6, 16, 0), datetime.datetime(2012, 11, 6, 18, 0), -71.042946, 42.352856], ['640', datetime.datetime(2012, 11, 7, 4, 0), datetime.datetime(2012, 11, 7, 6, 0), -71.062103, 42.366261], ['641', datetime.datetime(2012, 11, 7, 22, 0), datetime.datetime(2012, 11, 8, 0, 0), -71.04493, 42.346577], ['642', datetime.datetime(2012, 11, 8, 21, 0), datetime.datetime(2012, 11, 8, 23, 0), -71.057114, 42.343365], ['643', datetime.datetime(2012, 11, 8, 21, 0), datetime.datetime(2012, 11, 8, 23, 0), -71.02861, 42.344254], ['644', datetime.datetime(2012, 11, 8, 21, 0), datetime.datetime(2012, 11, 8, 23, 0), -71.064461, 42.350315], ['645', datetime.datetime(2012, 11, 8, 21, 0), datetime.datetime(2012, 11, 8, 23, 0), -71.114105, 42.300732], ['646', datetime.datetime(2012, 11, 8, 21, 0), datetime.datetime(2012, 11, 8, 23, 0), -71.062103, 42.366261], ['647', datetime.datetime(2012, 11, 8, 21, 0), datetime.datetime(2012, 11, 8, 23, 0), -71.016518, 42.366631], ['648', datetime.datetime(2012, 11, 8, 21, 0), datetime.datetime(2012, 11, 8, 23, 0), -71.055138, 42.351818], ['649', datetime.datetime(2012, 11, 8, 21, 0), datetime.datetime(2012, 11, 8, 23, 0), -71.056213, 42.360039], ['650', datetime.datetime(2012, 11, 8, 21, 0), datetime.datetime(2012, 11, 8, 23, 0), -71.127762, 42.358086], ['651', datetime.datetime(2012, 11, 8, 21, 0), datetime.datetime(2012, 11, 8, 23, 0), -71.06559, 42.350483], ['652', datetime.datetime(2012, 11, 8, 21, 0), datetime.datetime(2012, 11, 8, 23, 0), -71.040916, 42.346043], ['653', datetime.datetime(2012, 11, 8, 21, 0), datetime.datetime(2012, 11, 8, 23, 0), -71.040306, 42.351776], ['654', datetime.datetime(2012, 11, 8, 21, 0), datetime.datetime(2012, 11, 8, 23, 0), -71.04924, 42.359219], ['655', datetime.datetime(2012, 11, 8, 21, 0), datetime.datetime(2012, 11, 8, 23, 0), -71.060493, 42.355457], ['656', datetime.datetime(2012, 11, 8, 21, 0), datetime.datetime(2012, 11, 8, 23, 0), -71.073502, 42.347263], ['657', datetime.datetime(2012, 11, 8, 21, 0), datetime.datetime(2012, 11, 8, 23, 0), -71.056396, 42.357574], ['658', datetime.datetime(2012, 11, 8, 21, 0), datetime.datetime(2012, 11, 8, 23, 0), -71.051659, 42.345394], ['659', datetime.datetime(2012, 11, 8, 21, 0), datetime.datetime(2012, 11, 8, 23, 0), -71.083717, 42.329704], ['660', datetime.datetime(2012, 11, 8, 21, 0), datetime.datetime(2012, 11, 8, 23, 0), -71.075111, 42.347534], ['661', datetime.datetime(2012, 11, 8, 21, 0), datetime.datetime(2012, 11, 8, 23, 0), -71.065109, 42.35154], ['662', datetime.datetime(2012, 11, 8, 21, 0), datetime.datetime(2012, 11, 8, 23, 0), -71.059608, 42.3592], ['663', datetime.datetime(2012, 11, 8, 21, 0), datetime.datetime(2012, 11, 8, 23, 0), -71.062569, 42.354008], ['664', datetime.datetime(2012, 11, 8, 21, 0), datetime.datetime(2012, 11, 8, 23, 0), -71.036064, 42.348522], ['665', datetime.datetime(2012, 11, 8, 21, 0), datetime.datetime(2012, 11, 8, 23, 0), -71.064713, 42.350712], ['666', datetime.datetime(2012, 11, 8, 21, 0), datetime.datetime(2012, 11, 8, 23, 0), -71.049767, 42.351658], ['667', datetime.datetime(2012, 11, 8, 21, 0), datetime.datetime(2012, 11, 8, 23, 0), -71.066193, 42.349987], ['668', datetime.datetime(2012, 11, 8, 21, 0), datetime.datetime(2012, 11, 8, 23, 0), -71.053635, 42.359726], ['669', datetime.datetime(2012, 11, 8, 21, 0), datetime.datetime(2012, 11, 8, 23, 0), -71.097244, 42.346439], ['670', datetime.datetime(2012, 11, 8, 21, 0), datetime.datetime(2012, 11, 8, 23, 0), -71.04493, 42.346577], ['671', datetime.datetime(2012, 11, 8, 21, 0), datetime.datetime(2012, 11, 8, 23, 0), -71.065567, 42.315872], ['672', datetime.datetime(2012, 11, 8, 21, 0), datetime.datetime(2012, 11, 8, 23, 0), -71.084206, 42.347626], ['673', datetime.datetime(2012, 11, 8, 21, 0), datetime.datetime(2012, 11, 8, 23, 0), -71.055511, 42.365353], ['674', datetime.datetime(2012, 11, 8, 21, 0), datetime.datetime(2012, 11, 8, 23, 0), -71.08567, 42.342808], ['675', datetime.datetime(2012, 11, 8, 21, 0), datetime.datetime(2012, 11, 8, 23, 0), -71.04525, 42.353764], ['676', datetime.datetime(2012, 11, 8, 21, 0), datetime.datetime(2012, 11, 8, 23, 0), -71.042946, 42.352856], ['677', datetime.datetime(2012, 11, 22, 2, 0), datetime.datetime(2012, 11, 22, 4, 0), -71.097244, 42.346439]]\n"
       ]
      }
     ],
     "prompt_number": 135
    },
    {
     "cell_type": "code",
     "collapsed": false,
     "input": [
      "train_val_performance.sort( key=lambda x:x[2], reverse=True )\n",
      "scatter( *zip( *[ x[0] for x in train_val_performance if x[2] > 9.0 ] ), marker='x' )\n",
      "scatter( *zip( *[ x[0] for x in train_val_performance if x[2] < 6.0 ] ), c='r' )\n",
      "\n"
     ],
     "language": "python",
     "metadata": {},
     "outputs": [
      {
       "metadata": {},
       "output_type": "pyout",
       "prompt_number": 72,
       "text": [
        "<matplotlib.collections.PathCollection at 0x12f52bd50>"
       ]
      },
      {
       "metadata": {},
       "output_type": "display_data",
       "png": "[encoded data removed]",
       "text": [
        "<matplotlib.figure.Figure at 0x1446fe1d0>"
       ]
      }
     ],
     "prompt_number": 72
    },
    {
     "cell_type": "code",
     "collapsed": false,
     "input": [
      "nearby = []\n",
      "for v, y in zip( val_features, val_y ):\n",
      "    nearby.append( ( numpy.average( v[-1] ), y  ))\n",
      "    \n",
      "scatter( [ v[-12] for v in val_features ], val_y )"
     ],
     "language": "python",
     "metadata": {},
     "outputs": [
      {
       "metadata": {},
       "output_type": "pyout",
       "prompt_number": 87,
       "text": [
        "<matplotlib.collections.PathCollection at 0x16cf3c090>"
       ]
      },
      {
       "metadata": {},
       "output_type": "display_data",
       "png": "[encoded data removed]",
       "text": [
        "<matplotlib.figure.Figure at 0x1094dacd0>"
       ]
      }
     ],
     "prompt_number": 87
    },
    {
     "cell_type": "code",
     "collapsed": false,
     "input": [
      "hist( pickups_guess.values() )"
     ],
     "language": "python",
     "metadata": {},
     "outputs": [
      {
       "metadata": {},
       "output_type": "pyout",
       "prompt_number": 76,
       "text": [
        "(array([ 383.,  140.,   74.,   31.,   26.,   10.,    7.,    4.,    2.,    1.]),\n",
        " array([   0. ,   19.2,   38.4,   57.6,   76.8,   96. ,  115.2,  134.4,\n",
        "        153.6,  172.8,  192. ]),\n",
        " <a list of 10 Patch objects>)"
       ]
      },
      {
       "metadata": {},
       "output_type": "display_data",
       "png": "[encoded data removed]",
       "text": [
        "<matplotlib.figure.Figure at 0x16a8edf90>"
       ]
      }
     ],
     "prompt_number": 76
    },
    {
     "cell_type": "code",
     "collapsed": false,
     "input": [
      "train_vals = []\n",
      "for i in sampled_landmark_train_dict.itervalues():\n",
      "    train_vals += [ j[1] for j in i ]\n",
      "    \n",
      "hist(train_vals)\n",
      "    "
     ],
     "language": "python",
     "metadata": {},
     "outputs": [
      {
       "metadata": {},
       "output_type": "pyout",
       "prompt_number": 42,
       "text": [
        "(array([  3.01150000e+04,   6.71200000e+03,   1.81300000e+03,\n",
        "         3.45000000e+02,   7.60000000e+01,   2.30000000e+01,\n",
        "         4.00000000e+00,   2.00000000e+00,   3.00000000e+00,\n",
        "         1.00000000e+00]),\n",
        " array([   6.,   56.,  106.,  156.,  206.,  256.,  306.,  356.,  406.,\n",
        "        456.,  506.]),\n",
        " <a list of 10 Patch objects>)"
       ]
      },
      {
       "metadata": {},
       "output_type": "display_data",
       "png": "[encoded data removed]",
       "text": [
        "<matplotlib.figure.Figure at 0x10a21d8d0>"
       ]
      }
     ],
     "prompt_number": 42
    },
    {
     "cell_type": "code",
     "collapsed": false,
     "input": [
      "hist( pickups_guess.values() )"
     ],
     "language": "python",
     "metadata": {},
     "outputs": [
      {
       "metadata": {},
       "output_type": "pyout",
       "prompt_number": 43,
       "text": [
        "(array([ 377.,  140.,   84.,   31.,   20.,   14.,    8.,    2.,    1.,    1.]),\n",
        " array([   0. ,   19.7,   39.4,   59.1,   78.8,   98.5,  118.2,  137.9,\n",
        "        157.6,  177.3,  197. ]),\n",
        " <a list of 10 Patch objects>)"
       ]
      },
      {
       "metadata": {},
       "output_type": "display_data",
       "png": "[encoded data removed]",
       "text": [
        "<matplotlib.figure.Figure at 0x128bffad0>"
       ]
      }
     ],
     "prompt_number": 43
    },
    {
     "cell_type": "code",
     "collapsed": false,
     "input": [
      "def frange(x, y, jump):\n",
      "  while x < y:\n",
      "    yield x\n",
      "    x += jump"
     ],
     "language": "python",
     "metadata": {},
     "outputs": [],
     "prompt_number": 173
    },
    {
     "cell_type": "code",
     "collapsed": true,
     "input": [
      "#factors = frange(0,5,0.1):\n",
      "for factor in frange( 0,5,0.1):\n",
      "    print factor, numpy.average( [ numpy.sqrt( (i[1]*factor-i[0])**2 ) for i in val_prediction_actual_tuples ] )"
     ],
     "language": "python",
     "metadata": {},
     "outputs": [
      {
       "output_type": "stream",
       "stream": "stdout",
       "text": [
        "0 "
       ]
      },
      {
       "output_type": "stream",
       "stream": "stdout",
       "text": [
        "30.9525169858\n",
        "0.1 "
       ]
      },
      {
       "output_type": "stream",
       "stream": "stdout",
       "text": [
        "27.8802887585\n",
        "0.2 "
       ]
      },
      {
       "output_type": "stream",
       "stream": "stdout",
       "text": [
        "24.816429895\n",
        "0.3 "
       ]
      },
      {
       "output_type": "stream",
       "stream": "stdout",
       "text": [
        "21.7728150093\n",
        "0.4 "
       ]
      },
      {
       "output_type": "stream",
       "stream": "stdout",
       "text": [
        "18.7650247066\n",
        "0.5 "
       ]
      },
      {
       "output_type": "stream",
       "stream": "stdout",
       "text": [
        "15.8119595429\n",
        "0.6 "
       ]
      },
      {
       "output_type": "stream",
       "stream": "stdout",
       "text": [
        "12.9581222977\n",
        "0.7 "
       ]
      },
      {
       "output_type": "stream",
       "stream": "stdout",
       "text": [
        "10.3627161828\n",
        "0.8 "
       ]
      },
      {
       "output_type": "stream",
       "stream": "stdout",
       "text": [
        "8.25016985794\n",
        "0.9 "
       ]
      },
      {
       "output_type": "stream",
       "stream": "stdout",
       "text": [
        "6.94004786906\n",
        "1.0 "
       ]
      },
      {
       "output_type": "stream",
       "stream": "stdout",
       "text": [
        "6.75030883261\n",
        "1.1 "
       ]
      },
      {
       "output_type": "stream",
       "stream": "stdout",
       "text": [
        "7.65541229154\n",
        "1.2 "
       ]
      },
      {
       "output_type": "stream",
       "stream": "stdout",
       "text": [
        "9.3666306362\n",
        "1.3 "
       ]
      },
      {
       "output_type": "stream",
       "stream": "stdout",
       "text": [
        "11.5740194565\n",
        "1.4 "
       ]
      },
      {
       "output_type": "stream",
       "stream": "stdout",
       "text": [
        "14.076837554\n",
        "1.5 "
       ]
      },
      {
       "output_type": "stream",
       "stream": "stdout",
       "text": [
        "16.7583770846\n",
        "1.6 "
       ]
      },
      {
       "output_type": "stream",
       "stream": "stdout",
       "text": [
        "19.5483168623\n",
        "1.7 "
       ]
      },
      {
       "output_type": "stream",
       "stream": "stdout",
       "text": [
        "22.404346819\n",
        "1.8 "
       ]
      },
      {
       "output_type": "stream",
       "stream": "stdout",
       "text": [
        "25.3092649784\n",
        "1.9 "
       ]
      },
      {
       "output_type": "stream",
       "stream": "stdout",
       "text": [
        "28.2484481161\n",
        "2.0 "
       ]
      },
      {
       "output_type": "stream",
       "stream": "stdout",
       "text": [
        "31.2083848054\n",
        "2.1 "
       ]
      },
      {
       "output_type": "stream",
       "stream": "stdout",
       "text": [
        "34.200795244\n",
        "2.2 "
       ]
      },
      {
       "output_type": "stream",
       "stream": "stdout",
       "text": [
        "37.2019765287\n",
        "2.3 "
       ]
      },
      {
       "output_type": "stream",
       "stream": "stdout",
       "text": [
        "40.2131022236\n",
        "2.4 "
       ]
      },
      {
       "output_type": "stream",
       "stream": "stdout",
       "text": [
        "43.2347591106\n",
        "2.5 "
       ]
      },
      {
       "output_type": "stream",
       "stream": "stdout",
       "text": [
        "46.264090488\n",
        "2.6 "
       ]
      },
      {
       "output_type": "stream",
       "stream": "stdout",
       "text": [
        "49.3017294626\n",
        "2.7 "
       ]
      },
      {
       "output_type": "stream",
       "stream": "stdout",
       "text": [
        "52.3445568252\n",
        "2.8 "
       ]
      },
      {
       "output_type": "stream",
       "stream": "stdout",
       "text": [
        "55.3910592959\n",
        "2.9 "
       ]
      },
      {
       "output_type": "stream",
       "stream": "stdout",
       "text": [
        "58.4404802347\n",
        "3.0 "
       ]
      },
      {
       "output_type": "stream",
       "stream": "stdout",
       "text": [
        "61.4913526868\n",
        "3.1 "
       ]
      },
      {
       "output_type": "stream",
       "stream": "stdout",
       "text": [
        "64.5490966646\n",
        "3.2 "
       ]
      },
      {
       "output_type": "stream",
       "stream": "stdout",
       "text": [
        "67.6082612724\n",
        "3.3 "
       ]
      },
      {
       "output_type": "stream",
       "stream": "stdout",
       "text": [
        "70.668352378\n",
        "3.4 "
       ]
      },
      {
       "output_type": "stream",
       "stream": "stdout",
       "text": [
        "73.7294008647\n",
        "3.5 "
       ]
      },
      {
       "output_type": "stream",
       "stream": "stdout",
       "text": [
        "76.7911905497\n",
        "3.6 "
       ]
      },
      {
       "output_type": "stream",
       "stream": "stdout",
       "text": [
        "79.8543699815\n",
        "3.7 "
       ]
      },
      {
       "output_type": "stream",
       "stream": "stdout",
       "text": [
        "82.9179817789\n",
        "3.8 "
       ]
      },
      {
       "output_type": "stream",
       "stream": "stdout",
       "text": [
        "85.9817788758\n",
        "3.9 "
       ]
      },
      {
       "output_type": "stream",
       "stream": "stdout",
       "text": [
        "89.045653181\n",
        "4.0 "
       ]
      },
      {
       "output_type": "stream",
       "stream": "stdout",
       "text": [
        "92.1097127857\n",
        "4.1 "
       ]
      },
      {
       "output_type": "stream",
       "stream": "stdout",
       "text": [
        "95.1758261272\n",
        "4.2 "
       ]
      },
      {
       "output_type": "stream",
       "stream": "stdout",
       "text": [
        "98.2423409512\n",
        "4.3 "
       ]
      },
      {
       "output_type": "stream",
       "stream": "stdout",
       "text": [
        "101.309905806\n",
        "4.4 "
       ]
      },
      {
       "output_type": "stream",
       "stream": "stdout",
       "text": [
        "104.378119209\n",
        "4.5 "
       ]
      },
      {
       "output_type": "stream",
       "stream": "stdout",
       "text": [
        "107.446456146\n",
        "4.6 "
       ]
      },
      {
       "output_type": "stream",
       "stream": "stdout",
       "text": [
        "110.515009265\n",
        "4.7 "
       ]
      },
      {
       "output_type": "stream",
       "stream": "stdout",
       "text": [
        "113.5837168\n",
        "4.8 "
       ]
      },
      {
       "output_type": "stream",
       "stream": "stdout",
       "text": [
        "116.652702285\n",
        "4.9 "
       ]
      },
      {
       "output_type": "stream",
       "stream": "stdout",
       "text": [
        "119.721888511\n",
        "5.0 "
       ]
      },
      {
       "output_type": "stream",
       "stream": "stdout",
       "text": [
        "122.791074737\n"
       ]
      }
     ],
     "prompt_number": 176
    },
    {
     "cell_type": "code",
     "collapsed": false,
     "input": [
      "val_prediction_actual_tuples.sort( key=lambda x:x[0])\n"
     ],
     "language": "python",
     "metadata": {},
     "outputs": [],
     "prompt_number": 210
    },
    {
     "cell_type": "code",
     "collapsed": false,
     "input": [
      "pickups = [ i[1] for i in sampled_landmark_train_dict[landmark] ]\n",
      "hist(pickups)"
     ],
     "language": "python",
     "metadata": {},
     "outputs": [
      {
       "metadata": {},
       "output_type": "pyout",
       "prompt_number": 235,
       "text": [
        "(array([ 317.,  609.,  534.,  170.,   87.,   38.,   19.,    8.,    6.,    2.]),\n",
        " array([   1. ,   20.7,   40.4,   60.1,   79.8,   99.5,  119.2,  138.9,\n",
        "        158.6,  178.3,  198. ]),\n",
        " <a list of 10 Patch objects>)"
       ]
      },
      {
       "metadata": {},
       "output_type": "display_data",
       "png": "[encoded data removed]",
       "text": [
        "<matplotlib.figure.Figure at 0x16e956410>"
       ]
      }
     ],
     "prompt_number": 235
    },
    {
     "cell_type": "code",
     "collapsed": false,
     "input": [
      "diffs = [ (idx,( i[0] - i[1])) for (idx,i) in enumerate( val_prediction_actual_tuples )]\n",
      "diffs.sort( key=lambda x:x[1] )\n",
      "\n",
      "for i in diffs[:5] + diffs[-5:]:\n",
      "    print i[0], val_prediction_actual_tuples[i[0]]"
     ],
     "language": "python",
     "metadata": {},
     "outputs": [
      {
       "output_type": "stream",
       "stream": "stdout",
       "text": [
        "12882 (160.0, 392)\n",
        "10647 (54.0, 276)\n",
        "12450 (107.0, 313)\n",
        "12940 (225.0, 417)\n",
        "12944 (241.0, 432)\n",
        "12924 (194.0, 112)\n",
        "12094 (88.0, 1)\n",
        "12830 (143.0, 56)\n",
        "12950 (267.0, 177)\n",
        "12557 (115.0, 1)\n"
       ]
      }
     ],
     "prompt_number": 230
    },
    {
     "cell_type": "code",
     "collapsed": false,
     "input": [
      "print runs_rms_vals"
     ],
     "language": "python",
     "metadata": {},
     "outputs": [
      {
       "output_type": "stream",
       "stream": "stdout",
       "text": [
        "[('../submissions/submission.1387489717.txt', 6.1515230144497437, 8.6936347092809036), ('../submissions/submission.1387495214.txt', 2.9110235291341588, 7.5983449313522353), ('../submissions/submission.1387495497.txt', 2.9000507398581061, 7.5788367500469924), ('../submissions/submission.1387495561.txt', 2.897547966865627, 7.5626073600401611), ('../submissions/submission.1387495639.txt', 2.9027582422767417, 7.5715488057175451), ('../submissions/submission.1387495699.txt', 2.9050536898492605, 7.5695486176415612), ('../submissions/submission.1387495817.txt', 2.8892927099804759, 7.5641339100996321), ('../submissions/submission.1387495951.txt', 2.8899936280178982, 7.5033195410945588), ('../submissions/submission.1387496017.txt', 2.8958464116301061, 7.5217321798006056), ('../submissions/submission.1387496100.txt', 2.9033936704977492, 7.5760673312017772), ('../submissions/submission.1387496145.txt', 2.9208859415194408, 7.5208388188828357), ('../submissions/submission.1387497291.txt', 3.1487494676527592, 8.1459337933172904), ('../submissions/submission.1387683628.txt', 3.1696484571606378, 8.1950771377626044), ('../submissions/submission.1387683920.txt', 3.1936621626854862, 8.3453988681293527), ('../submissions/submission.1387683972.txt', 3.1574354407837255, 8.1670672145127714), ('../submissions/submission.1387684344.txt', 3.1714681172326782, 8.1345298085123101), ('../submissions/submission.1387684598.txt', 3.1982693871230814, 8.2799596867974525), ('../submissions/submission.1387684901.txt', 3.0207286383522964, 8.0964028219242135), ('../submissions/submission.1387685107.txt', 3.0297766076891146, 8.068346383440586), ('../submissions/submission.1387685394.txt', 2.9812013628092915, 7.9514742744915301), ('../submissions/submission.1387686494.txt', 3.0289351762231691, 8.0415536088068844), ('../submissions/submission.1387686682.txt', 1.4604641350210978, 3.8525), ('../submissions/submission.1387686698.txt', 1.5015189873417691, 3.8650000000000002), ('../submissions/submission.1387686847.txt', 1.4783544303797456, 3.8050000000000002), ('../submissions/submission.1387687025.txt', 3.0251003394118552, 8.0846577254050693), ('../submissions/submission.1387755290.txt', 2.7031192067953453, 7.1609789993823352), ('../submissions/submission.1387755607.txt', 3.0128689080516331, 8.1414453366275481), ('../submissions/submission.1387755753.txt', 2.7015547589058722, 7.1717109326744906), ('../submissions/submission.1387762678.txt', 2.5668287956594207, 6.7154107473749232), ('../submissions/submission.1387763166.txt', 2.5811465297291192, 6.7503088326127241), ('../submissions/submission.1387764508.txt', 2.5970015825340496, 6.7685299567634338), ('../submissions/submission.1387764976.txt', 2.5947757000291691, 6.7694564546016061), ('../submissions/submission.1387765466.txt', 2.5831682976456243, 6.7557134033353918), ('../submissions/submission.1387766083.txt', 2.6937302064062032, 7.0408431130327367), ('../submissions/submission.1387766276.txt', 4.0072478312191491, 9.9630945027794944), ('../submissions/submission.1387769947.txt', 2.5986067241547355, 6.7740889437924645), ('../submissions/submission.1387770439.txt', 7.258823112359198, 7.5910284126003704)]\n"
       ]
      }
     ],
     "prompt_number": 204
    },
    {
     "cell_type": "code",
     "collapsed": false,
     "input": [
      "lonlats = landmark_pickup_dict.keys()\n",
      "lons = [ i[0] for i in lonlats ]\n",
      "lats = [ i[1] for i in lonlats ]\n",
      "scatter( lons, lats )"
     ],
     "language": "python",
     "metadata": {},
     "outputs": [
      {
       "metadata": {},
       "output_type": "pyout",
       "prompt_number": 20,
       "text": [
        "<matplotlib.collections.PathCollection at 0x13cc55d90>"
       ]
      },
      {
       "metadata": {},
       "output_type": "display_data",
       "png": "[encoded data removed]",
       "text": [
        "<matplotlib.figure.Figure at 0x1002ea750>"
       ]
      }
     ],
     "prompt_number": 20
    },
    {
     "cell_type": "code",
     "collapsed": false,
     "input": [
      "pickup_lons = [i[1] for i in pickups ]\n",
      "pickup_lats = [i[2] for i in pickups ]\n",
      "scatter( pickup_lons[:1000], pickup_lats[:1000] )"
     ],
     "language": "python",
     "metadata": {},
     "outputs": [
      {
       "metadata": {},
       "output_type": "pyout",
       "prompt_number": 23,
       "text": [
        "<matplotlib.collections.PathCollection at 0x12c072250>"
       ]
      },
      {
       "metadata": {},
       "output_type": "display_data",
       "png": "[encoded data removed]",
       "text": [
        "<matplotlib.figure.Figure at 0x10dc2fd90>"
       ]
      }
     ],
     "prompt_number": 23
    },
    {
     "cell_type": "code",
     "collapsed": false,
     "input": [
      "query = [ i for i in pickups if i[0] < datetime.datetime( 2012, 5, 11, 22, 0 ) and i[0] > datetime.datetime(2012,5,11,20)]\n",
      "query = [ i for i in pickups if i[0] < datetime.datetime( 2012, 5, 12, 1, 0 ) and i[0] > datetime.datetime(2012,5,11,23)]\n",
      "X = [ i[1] for i in query ]\n",
      "Y = [ i[2] for i in query ]\n",
      "p = plt.Figure()\n",
      "figsize(10,10)\n",
      "scatter(X,Y,s=2,alpha=.2)\n",
      "landmarks_lon = [ i[0] for i in list( landmarks ) ]\n",
      "landmarks_lat = [ i[1] for i in list( landmarks ) ]\n",
      "scatter( landmarks_lon, landmarks_lat )\n",
      "xlim( -71.15, -71.01 )\n",
      "ylim( 42.33, 42.37 )"
     ],
     "language": "python",
     "metadata": {},
     "outputs": [
      {
       "metadata": {},
       "output_type": "pyout",
       "prompt_number": 118,
       "text": [
        "(42.33, 42.37)"
       ]
      },
      {
       "metadata": {},
       "output_type": "display_data",
       "png": "[encoded data removed]",
       "text": [
        "<matplotlib.figure.Figure at 0x14c44d850>"
       ]
      }
     ],
     "prompt_number": 118
    }
   ],
   "metadata": {}
  }
 ]
}