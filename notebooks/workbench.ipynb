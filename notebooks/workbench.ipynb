{
 "metadata": {
  "name": ""
 },
 "nbformat": 3,
 "nbformat_minor": 0,
 "worksheets": [
  {
   "cells": [
    {
     "cell_type": "markdown",
     "metadata": {},
     "source": [
      "Run this first cell in order to pre-load the data."
     ]
    },
    {
     "cell_type": "code",
     "collapsed": false,
     "input": [
      "sys.path.append( '../src' )\n",
      "import utils_raw\n",
      "reload( utils_raw )\n",
      "import utils_general\n",
      "reload( utils_general )\n",
      "import utils_preprocess\n",
      "reload( utils_preprocess )\n",
      "import utils_features\n",
      "reload( utils_features )\n",
      "\n",
      "import time\n",
      "import ipdb\n",
      "import sys\n",
      "import collections\n",
      "import numpy\n",
      "from sklearn import linear_model"
     ],
     "language": "python",
     "metadata": {},
     "outputs": [],
     "prompt_number": 127
    },
    {
     "cell_type": "code",
     "collapsed": false,
     "input": [
      "sys.path.append( '../src' )\n",
      "import utils_raw\n",
      "reload( utils_raw )\n",
      "import utils_general\n",
      "reload( utils_general )\n",
      "import utils_preprocess\n",
      "reload( utils_preprocess )\n",
      "import utils_features\n",
      "reload( utils_features )\n",
      "\n",
      "import time\n",
      "import ipdb\n",
      "import sys\n",
      "import collections\n",
      "import numpy\n",
      "from sklearn import linear_model\n",
      "DIST_THRESHOLD = 0.00224946357\n",
      "SQ_DIST_THRESHOLD = DIST_THRESHOLD**2\n",
      "\n",
      "TRAIN_TEST_SPLIT = 0.8\n",
      "\n",
      "if 1:\n",
      "    # ---\n",
      "    # get raw data\n",
      "    sys.stderr.write( \"Getting raw data...\" )\n",
      "\n",
      "    # raw data: pickups\n",
      "    # pickups schema: [ datetime, lon, lat ]\n",
      "\n",
      "\n",
      "    pickups = utils_raw.get_pickups( '../data/pickups_train.csv' )\n",
      "    \n",
      "    # raw data: times/locations that need to be predicted\n",
      "    # times_locations schema: [ prediction_index, start_datetime, end_datetime, lon, lat ] \n",
      "    times_locations = utils_raw.get_times_locations( '../data/test1.txt' )\n",
      "\n",
      "    # set of lon/lats and times that we want pickups for\n",
      "    landmarks = set( [ (i[3], i[4]) for i in times_locations ] )\n",
      "    times = set( i[1].hour for i in times_locations )\n",
      "    sys.stderr.write( \"done.\\n\" )\n",
      "\n",
      "\n",
      "    # ---\n",
      "    # get pre-processed data\n",
      "    sys.stderr.write( \"Pre-processing data...\" )\n",
      "    sys.stderr.write( \"counting pickups by landmarks...\" )\n",
      "    landmark_pickup_dict = utils_preprocess.get_landmark_pickup_dict( landmarks, pickups, SQ_DIST_THRESHOLD )\n",
      "\n",
      "    landmark_time_location_dict = collections.defaultdict( list )\n",
      "    sys.stderr.write( \"counting times by landmarks...\" )\n",
      "    for idx, i in enumerate( times_locations ):\n",
      "        landmark_time_location_dict[(i[3],i[4])].append( idx )\n",
      "        \n",
      "    sys.stderr.write( \"done.\\n\" )\n",
      "\n",
      "    possible_days = list( set( [ i[1].date() for i in times_locations ] ) )\n",
      "    test_days_dict = dict( zip( possible_days, range(len(possible_days) ) ) )\n",
      "\n",
      "    # ---\n",
      "    # create \"raw\" training set and validation set\n",
      "    #landmark_{train|val}_dict[(lon,lat)] = [ ( window_start_datetime0, count0 ), ( window_start_datetime1, count1 ) ... ]\n",
      "    ( landmark_train_dict, landmark_val_dict ) = utils_preprocess.get_train_validation_landmark_dicts( landmark_pickup_dict, pickups, train_test_split = TRAIN_TEST_SPLIT )\n",
      "\n",
      "    "
     ],
     "language": "python",
     "metadata": {},
     "outputs": [
      {
       "output_type": "stream",
       "stream": "stderr",
       "text": [
        "Getting raw data...done.\n"
       ]
      },
      {
       "output_type": "stream",
       "stream": "stderr",
       "text": [
        "Pre-processing data...counting pickups by landmarks...counting times by landmarks..."
       ]
      },
      {
       "output_type": "stream",
       "stream": "stderr",
       "text": [
        "done.\n"
       ]
      }
     ],
     "prompt_number": 129
    },
    {
     "cell_type": "code",
     "collapsed": false,
     "input": [
      "landmark_pickup_indices = utils_preprocess.get_background_taxi_activity( landmark_pickup_dict )\n",
      "all_excluded_pickups = []\n",
      "for idx, i in enumerate( pickups ):\n",
      "    if idx not in landmark_pickup_indices:\n",
      "        all_excluded_pickups.append( ( i[0].date(), i[0].hour ) )\n",
      "\n",
      "background_pickups_counter = collections.Counter( all_excluded_pickups )"
     ],
     "language": "python",
     "metadata": {},
     "outputs": [],
     "prompt_number": 137
    },
    {
     "cell_type": "code",
     "collapsed": false,
     "input": [
      "background_pickups_counter.iteritems().next()"
     ],
     "language": "python",
     "metadata": {},
     "outputs": [
      {
       "metadata": {},
       "output_type": "pyout",
       "prompt_number": 164,
       "text": [
        "((datetime.date(2012, 7, 1), 20), 473)"
       ]
      }
     ],
     "prompt_number": 164
    },
    {
     "cell_type": "code",
     "collapsed": false,
     "input": [
      "pickups[0]"
     ],
     "language": "python",
     "metadata": {},
     "outputs": [
      {
       "metadata": {},
       "output_type": "pyout",
       "prompt_number": 149,
       "text": [
        "[datetime.datetime(2012, 5, 7, 14, 54), -71.107178, 42.335685]"
       ]
      }
     ],
     "prompt_number": 149
    },
    {
     "cell_type": "code",
     "collapsed": false,
     "input": [
      "multiplier_landmark_dict = {}\n",
      "for multiplier in ( 2, 4 ):\n",
      "    multiplier_landmark_dict[multiplier] = {}\n",
      "    dist = DIST_THRESHOLD * 2\n",
      "    sq_dist = dist**2\n",
      "    #landmark_other_trips_dict = {}\n",
      "    landmark_other_trips_counter = {}\n",
      "    for landmark in list( landmarks ):\n",
      "        other_trips = []\n",
      "        for idx, i in enumerate( pickups ):\n",
      "            if idx not in landmark_pickup_indices:\n",
      "                if utils_general.calculate_square_dist( landmark[0], landmark[1], pickups[idx][1], pickups[idx][2] ) < sq_dist:\n",
      "                    other_trips.append( ( i[0].date(), i[0].hour ) )\n",
      "                \n",
      "\n",
      "        #landmark_other_trips_dict[landmark] = other_trips\n",
      "        landmark_other_trips_counter[landmark] = collections.Counter( other_trips )\n",
      "        \n",
      "    multiplier_landmark_dict[multiplier] = landmark_other_trips_counter"
     ],
     "language": "python",
     "metadata": {},
     "outputs": [],
     "prompt_number": 198
    },
    {
     "cell_type": "code",
     "collapsed": false,
     "input": [
      "x = list(landmarks)[1]\n",
      "len( landmark_other_trips_counter[x] )"
     ],
     "language": "python",
     "metadata": {},
     "outputs": [
      {
       "metadata": {},
       "output_type": "pyout",
       "prompt_number": 185,
       "text": [
        "5034"
       ]
      }
     ],
     "prompt_number": 185
    },
    {
     "cell_type": "code",
     "collapsed": false,
     "input": [
      "print len( pickups )"
     ],
     "language": "python",
     "metadata": {},
     "outputs": [
      {
       "output_type": "stream",
       "stream": "stdout",
       "text": [
        "4186461\n"
       ]
      }
     ],
     "prompt_number": 160
    },
    {
     "cell_type": "code",
     "collapsed": false,
     "input": [
      "query = [ i for i in pickups if i[0] < datetime.datetime( 2012, 5, 11, 22, 0 ) and i[0] > datetime.datetime(2012,5,11,20)]"
     ],
     "language": "python",
     "metadata": {},
     "outputs": [],
     "prompt_number": 91
    },
    {
     "cell_type": "code",
     "collapsed": false,
     "input": [
      "query = [ i for i in pickups if i[0] < datetime.datetime( 2012, 5, 12, 1, 0 ) and i[0] > datetime.datetime(2012,5,11,23)]\n",
      "X = [ i[1] for i in query ]\n",
      "Y = [ i[2] for i in query ]\n",
      "p = plt.Figure()\n",
      "figsize(10,10)\n",
      "scatter(X,Y,s=2,alpha=.2)\n",
      "landmarks_lon = [ i[0] for i in list( landmarks ) ]\n",
      "landmarks_lat = [ i[1] for i in list( landmarks ) ]\n",
      "scatter( landmarks_lon, landmarks_lat )\n",
      "xlim( -71.15, -71.01 )\n",
      "ylim( 42.33, 42.37 )"
     ],
     "language": "python",
     "metadata": {},
     "outputs": [
      {
       "metadata": {},
       "output_type": "pyout",
       "prompt_number": 118,
       "text": [
        "(42.33, 42.37)"
       ]
      },
      {
       "metadata": {},
       "output_type": "display_data",
       "png": "[encoded data removed]",
       "text": [
        "<matplotlib.figure.Figure at 0x14c44d850>"
       ]
      }
     ],
     "prompt_number": 118
    },
    {
     "cell_type": "code",
     "collapsed": true,
     "input": [
      "for key, val in landmark_pickup_dict.items():\n",
      "    print key, len(val)"
     ],
     "language": "python",
     "metadata": {},
     "outputs": [
      {
       "output_type": "stream",
       "stream": "stdout",
       "text": [
        "(-71.049767, 42.351658) 25696 1\n",
        "(-71.065109, 42.35154) 138465 1\n",
        "(-71.084206, 42.347626) 200596 1\n",
        "(-71.066193, 42.349987) 94532 1\n",
        "(-71.097244, 42.346439) 90162 1\n",
        "(-71.04493, 42.346577) 60259 1\n",
        "(-71.053635, 42.359726) 110269 1\n",
        "(-71.051659, 42.345394) 4294 1\n",
        "(-71.064461, 42.350315) 114957 1\n",
        "(-71.060493, 42.355457) 68424 1\n",
        "(-71.04924, 42.359219) 35743 1\n",
        "(-71.075111, 42.347534) 111896 1\n",
        "(-71.056396, 42.357574) 119977 1\n",
        "(-71.042946, 42.352856) 20636 1\n",
        "(-71.062569, 42.354008) 102806 1\n",
        "(-71.059608, 42.3592) 98167 1\n",
        "(-71.065567, 42.315872) 0 1\n",
        "(-71.04525, 42.353764) 8335 1\n",
        "(-71.036064, 42.348522) 14132 1\n",
        "(-71.08567, 42.342808) 32463 1\n",
        "(-71.083717, 42.329704) 0 1\n",
        "(-71.040306, 42.351776) 7381 1\n",
        "(-71.057114, 42.343365) 9300 1\n",
        "(-71.114105, 42.300732) 47483 1\n",
        "(-71.127762, 42.358086) 0 1\n",
        "(-71.016518, 42.366631) 66322 1\n",
        "(-71.073502, 42.347263) 37438 1\n",
        "(-71.040916, 42.346043) 8608 1\n",
        "(-71.064713, 42.350712) 128566 1\n",
        "(-71.02861, 42.344254) 3424 1\n",
        "(-71.055511, 42.365353) 36808 1\n",
        "(-71.062103, 42.366261) 67824 1\n",
        "(-71.056213, 42.360039) 130321 1\n",
        "(-71.055138, 42.351818) 184578 1\n",
        "(-71.06559, 42.350483) 119138 1\n"
       ]
      }
     ],
     "prompt_number": 60
    },
    {
     "cell_type": "code",
     "collapsed": false,
     "input": [
      "if 1:\n",
      "    # ---\n",
      "    # sample the training set and validation set (possibly to be more reflective of the test set)\n",
      "    sampled_landmark_train_dict = {}\n",
      "    sampled_landmark_val_dict = {}\n",
      "    \n",
      "    for landmark, entries in landmark_train_dict.items():\n",
      "        test_start_hours = [ times_locations[idx][1].hour / 2 * 2 for idx in landmark_time_location_dict[landmark] ]\n",
      "        #start_time_counts = collections.Counter( test_start_dts )\n",
      "        #start_time_counts = start_time_counts.keys()\n",
      "        #start_time_counts = start_time_counts + [ i+2 for i in start_time_counts ]\n",
      "        temp_list = list( set( test_start_hours ) )\n",
      "        start_times = temp_list + [ i+2 for i in temp_list ]\n",
      "        start_times_set = set( start_times )\n",
      "        #train_data = [ i for i in landmark_train_dict[landmark] if i[0].hour in start_time_counts ]\n",
      "        sampled_landmark_train_dict[landmark] = [ i for i in landmark_train_dict[landmark] if i[0].hour in start_times_set ]\n",
      "        sampled_landmark_val_dict[landmark] = [ i for i in landmark_val_dict[landmark] if i[0].hour in start_times_set ]\n"
     ],
     "language": "python",
     "metadata": {},
     "outputs": [],
     "prompt_number": 142
    },
    {
     "cell_type": "markdown",
     "metadata": {},
     "source": [
      "Run this cell to add/play around with different functions and write submission files."
     ]
    },
    {
     "cell_type": "code",
     "collapsed": false,
     "input": [
      "from sklearn import ensemble"
     ],
     "language": "python",
     "metadata": {},
     "outputs": [],
     "prompt_number": 12
    },
    {
     "cell_type": "code",
     "collapsed": false,
     "input": [
      "runs_rms_vals = []"
     ],
     "language": "python",
     "metadata": {},
     "outputs": [],
     "prompt_number": 27
    },
    {
     "cell_type": "code",
     "collapsed": false,
     "input": [
      "import utils_features\n",
      "reload( utils_features )\n",
      "feature_function_list = [ \\\n",
      "                              utils_features.feature_day_of_week_binary , \\\n",
      "                              utils_features.feature_time_quadrant_binary, \\\n",
      "                              utils_features.feature_day_time_product_binary, \\\n",
      "                              utils_features.feature_corrected_hour, \\\n",
      "                              utils_features.feature_day, \\\n",
      "                              utils_features.feature_week_number, \\\n",
      "                              utils_features.feature_landmark_taxi_popularity, \\\n",
      "                              utils_features.feature_even_hour_binary, \\\n",
      "                              utils_features.feature_other_pickups, \\\n",
      "                              utils_features.feature_nearby_pickups ]\n",
      "    \n",
      "\n",
      "    \n",
      "#regression_model = linear_model.Ridge()\n",
      "regression_model = ensemble.RandomForestRegressor( n_estimators=30  )\n",
      "    \n",
      "if 1:\n",
      "    \n",
      "    all_train_prediction_rms_errors = []\n",
      "    all_val_predictions_rms_errors = []\n",
      "    final_predictions = []\n",
      "\n",
      "    val_prediction_actual_tuples = []\n",
      "    \n",
      "    # compute the features on the training set, validation set, and test set\n",
      "    # train model on training set and evaluate performance on training and validation set\n",
      "    # train model on training+validation set and compute predictions on test set                                \n",
      "    for landmark in list( landmarks ):\n",
      "        train_data = sampled_landmark_train_dict[landmark]\n",
      "        val_data = sampled_landmark_val_dict[landmark]\n",
      "        test_data = [ times_locations[idx][1] for idx in landmark_time_location_dict[landmark] ]\n",
      "        test_data_indices = [ times_locations[idx][0] for idx in landmark_time_location_dict[landmark] ]\n",
      "        total_pickups = len( landmark_pickup_dict[landmark] )\n",
      "        #total_pickups = 0\n",
      "        train_features = numpy.array( [ utils_features.featurize( \\\n",
      "                                                                 i[0], feature_function_list, \\\n",
      "                                                                 possible_days=possible_days, \\\n",
      "                                                                 test_days_dict=test_days_dict, \\\n",
      "                                                                 all_pickups=total_pickups, \\\n",
      "                                                                 background_pickups_counter=background_pickups_counter, \\\n",
      "                                                                 nearby_pickups_counter=multiplier_landmark_dict[2][landmark], \\\n",
      "                                                                 km_nearby_pickups_counter=multiplier_landmark_dict[4][landmark], \\\n",
      "                                                                 ) for i in \\\n",
      "                                                                train_data ] )\n",
      "        train_y = numpy.array( [i[1] for i in train_data ] )\n",
      "        val_features = numpy.array( [ utils_features.featurize( \\\n",
      "                                                                 i[0], feature_function_list, \\\n",
      "                                                                 possible_days=possible_days, \\\n",
      "                                                                 test_days_dict=test_days_dict, \\\n",
      "                                                                 all_pickups=total_pickups, \\\n",
      "                                                                 background_pickups_counter=background_pickups_counter, \\\n",
      "                                                                 nearby_pickups_counter=multiplier_landmark_dict[2][landmark], \\\n",
      "                                                                 km_nearby_pickups_counter=multiplier_landmark_dict[4][landmark], \\\n",
      "                                                                 ) for i in \\\n",
      "                                                                 val_data ] )\n",
      "        \n",
      "        # note that test_data is in a slightly different format than train_data and val_data because it does not have predictions\n",
      "        test_features = numpy.array( [ utils_features.featurize( i, \\\n",
      "                                                                 feature_function_list, \\\n",
      "                                                                 possible_days=possible_days, \\\n",
      "                                                                 test_days_dict=test_days_dict, \\\n",
      "                                                                 all_pickups=total_pickups, \\\n",
      "                                                                 background_pickups_counter=background_pickups_counter, \\\n",
      "                                                                 nearby_pickups_counter=multiplier_landmark_dict[2][landmark], \\\n",
      "                                                                 km_nearby_pickups_counter=multiplier_landmark_dict[4][landmark], \\\n",
      "                                                                 ) for i in \\\n",
      "                                                                test_data ] )\n",
      "        \n",
      "        val_y = numpy.array( [i[1] for i in val_data ] )                                                    \n",
      "                                                                \n",
      "        if len( train_features ) == 0:\n",
      "            test_predictions = [ 0 for i in test_features ]\n",
      "        else:\n",
      "            sys.stderr.write( \"Fitting regression model on training data...\" )\n",
      "            clf = regression_model\n",
      "            clf.fit( train_features, train_y )\n",
      "            # compute performance on training data\n",
      "            predictions = clf.predict( train_features )\n",
      "            \n",
      "            \n",
      "            \n",
      "            \n",
      "            predictions = [ max( i,0) for i in predictions ]\n",
      "            landmark_train_prediction_rms_errors = [ numpy.sqrt((predictions[idx] - train_y[idx])**2) for idx in range(len(predictions)) ]\n",
      "            all_train_prediction_rms_errors += landmark_train_prediction_rms_errors\n",
      "            \n",
      "            \n",
      "            \n",
      "            \n",
      "\n",
      "            # compute performance on validation data\n",
      "            predictions = clf.predict( val_features )\n",
      "            predictions = [ max( round(i,0), 0 ) for i in predictions ]\n",
      "            landmark_val_prediction_rms_errors = \\\n",
      "                [ numpy.sqrt((predictions[idx] - val_y[idx])**2) for idx in range(len(predictions)) ]\n",
      "                \n",
      "            val_prediction_actual_tuples += [ ( predictions[idx], val_y[idx] ) for idx in range(len(predictions))]\n",
      "                \n",
      "            all_val_predictions_rms_errors += landmark_val_prediction_rms_errors\n",
      "\n",
      "            sys.stderr.write( \"\\n\" )\n",
      "            sys.stderr.write( \"%s, %s, %s, %s\\n\" % ( \\\n",
      "                landmark, numpy.average( landmark_train_prediction_rms_errors ), \\\n",
      "                numpy.average( landmark_val_prediction_rms_errors ), \\\n",
      "                len( test_features ) ) )\n",
      "            \n",
      "            test_hours = [ i.hour for i in test_data ]\n",
      "            train_hours = [ i[0].hour for i in train_data ]\n",
      "            #plt.subplot(2, 1, 1)\n",
      "            #plt.hist( test_hours )\n",
      "\n",
      "            #plt.subplot(2, 1, 2)\n",
      "            #plt.hist( train_hours )\n",
      "            #plt.show()\n",
      "            \n",
      "            \n",
      "            #plt.hist( train_hours )\n",
      "            #print test_data\n",
      "            \n",
      "            # train on all of the data\n",
      "            \n",
      "            sys.stderr.write( \"done.\\n\" )\n",
      "                             \n",
      "                    \n",
      "            \n",
      "            full_train_features = numpy.vstack( ( train_features, val_features ) )\n",
      "            full_train_y = numpy.hstack( ( train_y, val_y ) )          \n",
      "            clf = regression_model\n",
      "            \n",
      "            clf.fit( full_train_features, full_train_y )\n",
      "            test_predictions = clf.predict( test_features )\n",
      "            \n",
      "            test_predictions = [ max( int( round(i,0) ), 0 ) for i in test_predictions ]\n",
      "            \n",
      "        final_predictions += zip( test_data_indices, test_predictions )\n",
      "        #print clf.coef_[-1], \n",
      "    \n",
      "    sys.stderr.write( \"Average Train RMS Error: \" ) \n",
      "    train_rms = numpy.average( all_train_prediction_rms_errors )\n",
      "    sys.stderr.write( \"%s\\n\" % train_rms )\n",
      "\n",
      "    sys.stderr.write( \"Average Validation RMS Error: \" )\n",
      "    val_rms = numpy.average( all_val_predictions_rms_errors )\n",
      "    sys.stderr.write( \"%s\\n\" % val_rms )\n",
      "    pickups_guess = dict( final_predictions )\n",
      "\n",
      "    # write to file\n",
      "    extension = str( int( time.time() ) )\n",
      "    final_predictions = pickups_guess.items()\n",
      "    final_predictions.sort( key=lambda x:int(x[0]) )\n",
      "    output_filename = '../submissions/submission.%s.txt' % extension\n",
      "    with open( output_filename, 'w' ) as f:\n",
      "        for i in final_predictions:\n",
      "            f.write( \"%s %s\\n\" %( i[0], str( i[1] ) ) )\n",
      "    \n",
      "    sys.stderr.write( \"Wrote %s\\n\" % output_filename )\n",
      "    runs_rms_vals.append( ( output_filename, train_rms, val_rms ) )\n",
      "\n"
     ],
     "language": "python",
     "metadata": {},
     "outputs": [
      {
       "output_type": "stream",
       "stream": "stderr",
       "text": [
        "Fitting regression model on training data...\n"
       ]
      },
      {
       "output_type": "stream",
       "stream": "stderr",
       "text": [
        "(-71.049767, 42.351658), 1.23751105496, 2.88413098237, 20\n",
        "done.\n",
        "Fitting regression model on training data..."
       ]
      },
      {
       "output_type": "stream",
       "stream": "stderr",
       "text": [
        "\n",
        "(-71.065109, 42.35154), 3.59584916201, 9.04740406321, 20\n",
        "done.\n",
        "Fitting regression model on training data..."
       ]
      },
      {
       "output_type": "stream",
       "stream": "stderr",
       "text": [
        "\n",
        "(-71.084206, 42.347626), 5.26557531962, 12.4022222222, 19\n",
        "done.\n",
        "Fitting regression model on training data..."
       ]
      },
      {
       "output_type": "stream",
       "stream": "stderr",
       "text": [
        "\n",
        "(-71.066193, 42.349987), 2.85822185061, 7.52272727273, 19\n",
        "done.\n",
        "Fitting regression model on training data..."
       ]
      },
      {
       "output_type": "stream",
       "stream": "stderr",
       "text": [
        "\n",
        "(-71.097244, 42.346439), 3.51648924122, 10.1348314607, 20\n",
        "done.\n",
        "Fitting regression model on training data..."
       ]
      },
      {
       "output_type": "stream",
       "stream": "stderr",
       "text": [
        "\n",
        "(-71.04493, 42.346577), 5.29425593515, 14.845971564, 21\n",
        "done.\n",
        "Fitting regression model on training data..."
       ]
      },
      {
       "output_type": "stream",
       "stream": "stderr",
       "text": [
        "\n",
        "(-71.036064, 42.348522), 1.55283770651, 3.98863636364, 20\n",
        "done.\n",
        "Fitting regression model on training data..."
       ]
      },
      {
       "output_type": "stream",
       "stream": "stderr",
       "text": [
        "\n",
        "(-71.051659, 42.345394), 0.438762968875, 1.18808777429, 19\n",
        "done.\n",
        "Fitting regression model on training data..."
       ]
      },
      {
       "output_type": "stream",
       "stream": "stderr",
       "text": [
        "\n",
        "(-71.064461, 42.350315), 3.18788975501, 8.90112359551, 19\n",
        "done.\n",
        "Fitting regression model on training data..."
       ]
      },
      {
       "output_type": "stream",
       "stream": "stderr",
       "text": [
        "\n",
        "(-71.060493, 42.355457), 2.24577752554, 5.62527716186, 19\n",
        "done.\n",
        "Fitting regression model on training data..."
       ]
      },
      {
       "output_type": "stream",
       "stream": "stderr",
       "text": [
        "\n",
        "(-71.04924, 42.359219), 1.7659274673, 4.60283687943, 19\n",
        "done.\n",
        "Fitting regression model on training data..."
       ]
      },
      {
       "output_type": "stream",
       "stream": "stderr",
       "text": [
        "\n",
        "(-71.075111, 42.347534), 2.62984949833, 7.96127562642, 19\n",
        "done.\n",
        "Fitting regression model on training data..."
       ]
      },
      {
       "output_type": "stream",
       "stream": "stderr",
       "text": [
        "\n",
        "(-71.056396, 42.357574), 3.07639463387, 8.40354767184, 19\n",
        "done.\n",
        "Fitting regression model on training data..."
       ]
      },
      {
       "output_type": "stream",
       "stream": "stderr",
       "text": [
        "\n",
        "(-71.042946, 42.352856), 1.51516824849, 4.24579124579, 20\n",
        "done.\n",
        "Fitting regression model on training data..."
       ]
      },
      {
       "output_type": "stream",
       "stream": "stderr",
       "text": [
        "\n",
        "(-71.062569, 42.354008), 2.92443380282, 7.7268722467, 19\n",
        "done.\n",
        "Fitting regression model on training data..."
       ]
      },
      {
       "output_type": "stream",
       "stream": "stderr",
       "text": [
        "\n",
        "(-71.059608, 42.3592), 2.85658564161, 7.67912087912, 19\n",
        "done.\n",
        "Fitting regression model on training data..."
       ]
      },
      {
       "output_type": "stream",
       "stream": "stderr",
       "text": [
        "\n",
        "(-71.053635, 42.359726), 2.8444494382, 7.49330357143, 19\n",
        "done.\n",
        "Fitting regression model on training data..."
       ]
      },
      {
       "output_type": "stream",
       "stream": "stderr",
       "text": [
        "\n",
        "(-71.04525, 42.353764), 0.781017391304, 2.05423728814, 19\n",
        "done.\n",
        "Fitting regression model on training data..."
       ]
      },
      {
       "output_type": "stream",
       "stream": "stderr",
       "text": [
        "\n",
        "(-71.062103, 42.366261), 2.48261142857, 6.98594847775, 20\n",
        "done.\n",
        "Fitting regression model on training data..."
       ]
      },
      {
       "output_type": "stream",
       "stream": "stderr",
       "text": [
        "\n",
        "(-71.08567, 42.342808), 1.34951622083, 3.45080091533, 19\n",
        "done.\n",
        "Fitting regression model on training data..."
       ]
      },
      {
       "output_type": "stream",
       "stream": "stderr",
       "text": [
        "\n",
        "(-71.040306, 42.351776), 0.820853658537, 2.31147540984, 21\n",
        "done.\n",
        "Fitting regression model on training data..."
       ]
      },
      {
       "output_type": "stream",
       "stream": "stderr",
       "text": [
        "\n",
        "(-71.057114, 42.343365), 0.642590286426, 1.70603015075, 20\n",
        "done.\n",
        "Fitting regression model on training data..."
       ]
      },
      {
       "output_type": "stream",
       "stream": "stderr",
       "text": [
        "\n",
        "(-71.114105, 42.300732), 1.48057391304, 4.20967741935, 19\n",
        "done.\n",
        "Fitting regression model on training data..."
       ]
      },
      {
       "output_type": "stream",
       "stream": "stderr",
       "text": [
        "\n",
        "(-71.016518, 42.366631), 3.08544970414, 8.17090069284, 19\n",
        "done.\n",
        "Fitting regression model on training data..."
       ]
      },
      {
       "output_type": "stream",
       "stream": "stderr",
       "text": [
        "\n",
        "(-71.073502, 42.347263), 1.28982008125, 3.05239179954, 19\n",
        "done.\n",
        "Fitting regression model on training data..."
       ]
      },
      {
       "output_type": "stream",
       "stream": "stderr",
       "text": [
        "\n",
        "(-71.040916, 42.346043), 0.846734972678, 2.26373626374, 20\n",
        "done.\n",
        "Fitting regression model on training data..."
       ]
      },
      {
       "output_type": "stream",
       "stream": "stderr",
       "text": [
        "\n",
        "(-71.064713, 42.350712), 3.42243258427, 9.14692982456, 20\n",
        "done.\n",
        "Fitting regression model on training data..."
       ]
      },
      {
       "output_type": "stream",
       "stream": "stderr",
       "text": [
        "\n",
        "(-71.02861, 42.344254), 1.23258914729, 2.4347826087, 19\n",
        "done.\n",
        "Fitting regression model on training data..."
       ]
      },
      {
       "output_type": "stream",
       "stream": "stderr",
       "text": [
        "\n",
        "(-71.055511, 42.365353), 1.45662251656, 4.20941176471, 19\n",
        "done.\n",
        "Fitting regression model on training data..."
       ]
      },
      {
       "output_type": "stream",
       "stream": "stderr",
       "text": [
        "\n",
        "(-71.056213, 42.360039), 3.14373251259, 8.12128146453, 19\n",
        "done.\n",
        "Fitting regression model on training data..."
       ]
      },
      {
       "output_type": "stream",
       "stream": "stderr",
       "text": [
        "\n",
        "(-71.055138, 42.351818), 4.28745, 12.1883408072, 19\n",
        "done.\n",
        "Fitting regression model on training data..."
       ]
      },
      {
       "output_type": "stream",
       "stream": "stderr",
       "text": [
        "\n",
        "(-71.06559, 42.350483), 3.2885027933, 8.13053097345, 19\n",
        "done.\n",
        "Average Train RMS Error: "
       ]
      },
      {
       "output_type": "stream",
       "stream": "stderr",
       "text": [
        "2.51620288732\n",
        "Average Validation RMS Error: 6.688001853\n",
        "Wrote ../submissions/submission.1387771568.txt\n"
       ]
      }
     ],
     "prompt_number": 207
    },
    {
     "cell_type": "code",
     "collapsed": false,
     "input": [
      "def frange(x, y, jump):\n",
      "  while x < y:\n",
      "    yield x\n",
      "    x += jump"
     ],
     "language": "python",
     "metadata": {},
     "outputs": [],
     "prompt_number": 173
    },
    {
     "cell_type": "code",
     "collapsed": true,
     "input": [
      "#factors = frange(0,5,0.1):\n",
      "for factor in frange( 0,5,0.1):\n",
      "    print factor, numpy.average( [ numpy.sqrt( (i[1]*factor-i[0])**2 ) for i in val_prediction_actual_tuples ] )"
     ],
     "language": "python",
     "metadata": {},
     "outputs": [
      {
       "output_type": "stream",
       "stream": "stdout",
       "text": [
        "0 "
       ]
      },
      {
       "output_type": "stream",
       "stream": "stdout",
       "text": [
        "30.9525169858\n",
        "0.1 "
       ]
      },
      {
       "output_type": "stream",
       "stream": "stdout",
       "text": [
        "27.8802887585\n",
        "0.2 "
       ]
      },
      {
       "output_type": "stream",
       "stream": "stdout",
       "text": [
        "24.816429895\n",
        "0.3 "
       ]
      },
      {
       "output_type": "stream",
       "stream": "stdout",
       "text": [
        "21.7728150093\n",
        "0.4 "
       ]
      },
      {
       "output_type": "stream",
       "stream": "stdout",
       "text": [
        "18.7650247066\n",
        "0.5 "
       ]
      },
      {
       "output_type": "stream",
       "stream": "stdout",
       "text": [
        "15.8119595429\n",
        "0.6 "
       ]
      },
      {
       "output_type": "stream",
       "stream": "stdout",
       "text": [
        "12.9581222977\n",
        "0.7 "
       ]
      },
      {
       "output_type": "stream",
       "stream": "stdout",
       "text": [
        "10.3627161828\n",
        "0.8 "
       ]
      },
      {
       "output_type": "stream",
       "stream": "stdout",
       "text": [
        "8.25016985794\n",
        "0.9 "
       ]
      },
      {
       "output_type": "stream",
       "stream": "stdout",
       "text": [
        "6.94004786906\n",
        "1.0 "
       ]
      },
      {
       "output_type": "stream",
       "stream": "stdout",
       "text": [
        "6.75030883261\n",
        "1.1 "
       ]
      },
      {
       "output_type": "stream",
       "stream": "stdout",
       "text": [
        "7.65541229154\n",
        "1.2 "
       ]
      },
      {
       "output_type": "stream",
       "stream": "stdout",
       "text": [
        "9.3666306362\n",
        "1.3 "
       ]
      },
      {
       "output_type": "stream",
       "stream": "stdout",
       "text": [
        "11.5740194565\n",
        "1.4 "
       ]
      },
      {
       "output_type": "stream",
       "stream": "stdout",
       "text": [
        "14.076837554\n",
        "1.5 "
       ]
      },
      {
       "output_type": "stream",
       "stream": "stdout",
       "text": [
        "16.7583770846\n",
        "1.6 "
       ]
      },
      {
       "output_type": "stream",
       "stream": "stdout",
       "text": [
        "19.5483168623\n",
        "1.7 "
       ]
      },
      {
       "output_type": "stream",
       "stream": "stdout",
       "text": [
        "22.404346819\n",
        "1.8 "
       ]
      },
      {
       "output_type": "stream",
       "stream": "stdout",
       "text": [
        "25.3092649784\n",
        "1.9 "
       ]
      },
      {
       "output_type": "stream",
       "stream": "stdout",
       "text": [
        "28.2484481161\n",
        "2.0 "
       ]
      },
      {
       "output_type": "stream",
       "stream": "stdout",
       "text": [
        "31.2083848054\n",
        "2.1 "
       ]
      },
      {
       "output_type": "stream",
       "stream": "stdout",
       "text": [
        "34.200795244\n",
        "2.2 "
       ]
      },
      {
       "output_type": "stream",
       "stream": "stdout",
       "text": [
        "37.2019765287\n",
        "2.3 "
       ]
      },
      {
       "output_type": "stream",
       "stream": "stdout",
       "text": [
        "40.2131022236\n",
        "2.4 "
       ]
      },
      {
       "output_type": "stream",
       "stream": "stdout",
       "text": [
        "43.2347591106\n",
        "2.5 "
       ]
      },
      {
       "output_type": "stream",
       "stream": "stdout",
       "text": [
        "46.264090488\n",
        "2.6 "
       ]
      },
      {
       "output_type": "stream",
       "stream": "stdout",
       "text": [
        "49.3017294626\n",
        "2.7 "
       ]
      },
      {
       "output_type": "stream",
       "stream": "stdout",
       "text": [
        "52.3445568252\n",
        "2.8 "
       ]
      },
      {
       "output_type": "stream",
       "stream": "stdout",
       "text": [
        "55.3910592959\n",
        "2.9 "
       ]
      },
      {
       "output_type": "stream",
       "stream": "stdout",
       "text": [
        "58.4404802347\n",
        "3.0 "
       ]
      },
      {
       "output_type": "stream",
       "stream": "stdout",
       "text": [
        "61.4913526868\n",
        "3.1 "
       ]
      },
      {
       "output_type": "stream",
       "stream": "stdout",
       "text": [
        "64.5490966646\n",
        "3.2 "
       ]
      },
      {
       "output_type": "stream",
       "stream": "stdout",
       "text": [
        "67.6082612724\n",
        "3.3 "
       ]
      },
      {
       "output_type": "stream",
       "stream": "stdout",
       "text": [
        "70.668352378\n",
        "3.4 "
       ]
      },
      {
       "output_type": "stream",
       "stream": "stdout",
       "text": [
        "73.7294008647\n",
        "3.5 "
       ]
      },
      {
       "output_type": "stream",
       "stream": "stdout",
       "text": [
        "76.7911905497\n",
        "3.6 "
       ]
      },
      {
       "output_type": "stream",
       "stream": "stdout",
       "text": [
        "79.8543699815\n",
        "3.7 "
       ]
      },
      {
       "output_type": "stream",
       "stream": "stdout",
       "text": [
        "82.9179817789\n",
        "3.8 "
       ]
      },
      {
       "output_type": "stream",
       "stream": "stdout",
       "text": [
        "85.9817788758\n",
        "3.9 "
       ]
      },
      {
       "output_type": "stream",
       "stream": "stdout",
       "text": [
        "89.045653181\n",
        "4.0 "
       ]
      },
      {
       "output_type": "stream",
       "stream": "stdout",
       "text": [
        "92.1097127857\n",
        "4.1 "
       ]
      },
      {
       "output_type": "stream",
       "stream": "stdout",
       "text": [
        "95.1758261272\n",
        "4.2 "
       ]
      },
      {
       "output_type": "stream",
       "stream": "stdout",
       "text": [
        "98.2423409512\n",
        "4.3 "
       ]
      },
      {
       "output_type": "stream",
       "stream": "stdout",
       "text": [
        "101.309905806\n",
        "4.4 "
       ]
      },
      {
       "output_type": "stream",
       "stream": "stdout",
       "text": [
        "104.378119209\n",
        "4.5 "
       ]
      },
      {
       "output_type": "stream",
       "stream": "stdout",
       "text": [
        "107.446456146\n",
        "4.6 "
       ]
      },
      {
       "output_type": "stream",
       "stream": "stdout",
       "text": [
        "110.515009265\n",
        "4.7 "
       ]
      },
      {
       "output_type": "stream",
       "stream": "stdout",
       "text": [
        "113.5837168\n",
        "4.8 "
       ]
      },
      {
       "output_type": "stream",
       "stream": "stdout",
       "text": [
        "116.652702285\n",
        "4.9 "
       ]
      },
      {
       "output_type": "stream",
       "stream": "stdout",
       "text": [
        "119.721888511\n",
        "5.0 "
       ]
      },
      {
       "output_type": "stream",
       "stream": "stdout",
       "text": [
        "122.791074737\n"
       ]
      }
     ],
     "prompt_number": 176
    },
    {
     "cell_type": "code",
     "collapsed": false,
     "input": [
      "val_prediction_actual_tuples.sort( key=lambda x:x[0])\n"
     ],
     "language": "python",
     "metadata": {},
     "outputs": [],
     "prompt_number": 210
    },
    {
     "cell_type": "code",
     "collapsed": false,
     "input": [
      "pickups = [ i[1] for i in sampled_landmark_train_dict[landmark] ]\n",
      "hist(pickups)"
     ],
     "language": "python",
     "metadata": {},
     "outputs": [
      {
       "metadata": {},
       "output_type": "pyout",
       "prompt_number": 235,
       "text": [
        "(array([ 317.,  609.,  534.,  170.,   87.,   38.,   19.,    8.,    6.,    2.]),\n",
        " array([   1. ,   20.7,   40.4,   60.1,   79.8,   99.5,  119.2,  138.9,\n",
        "        158.6,  178.3,  198. ]),\n",
        " <a list of 10 Patch objects>)"
       ]
      },
      {
       "metadata": {},
       "output_type": "display_data",
       "png": "[encoded data removed]",
       "text": [
        "<matplotlib.figure.Figure at 0x16e956410>"
       ]
      }
     ],
     "prompt_number": 235
    },
    {
     "cell_type": "code",
     "collapsed": false,
     "input": [
      "diffs = [ (idx,( i[0] - i[1])) for (idx,i) in enumerate( val_prediction_actual_tuples )]\n",
      "diffs.sort( key=lambda x:x[1] )\n",
      "\n",
      "for i in diffs[:5] + diffs[-5:]:\n",
      "    print i[0], val_prediction_actual_tuples[i[0]]"
     ],
     "language": "python",
     "metadata": {},
     "outputs": [
      {
       "output_type": "stream",
       "stream": "stdout",
       "text": [
        "12882 (160.0, 392)\n",
        "10647 (54.0, 276)\n",
        "12450 (107.0, 313)\n",
        "12940 (225.0, 417)\n",
        "12944 (241.0, 432)\n",
        "12924 (194.0, 112)\n",
        "12094 (88.0, 1)\n",
        "12830 (143.0, 56)\n",
        "12950 (267.0, 177)\n",
        "12557 (115.0, 1)\n"
       ]
      }
     ],
     "prompt_number": 230
    },
    {
     "cell_type": "code",
     "collapsed": false,
     "input": [
      "print runs_rms_vals"
     ],
     "language": "python",
     "metadata": {},
     "outputs": [
      {
       "output_type": "stream",
       "stream": "stdout",
       "text": [
        "[('../submissions/submission.1387489717.txt', 6.1515230144497437, 8.6936347092809036), ('../submissions/submission.1387495214.txt', 2.9110235291341588, 7.5983449313522353), ('../submissions/submission.1387495497.txt', 2.9000507398581061, 7.5788367500469924), ('../submissions/submission.1387495561.txt', 2.897547966865627, 7.5626073600401611), ('../submissions/submission.1387495639.txt', 2.9027582422767417, 7.5715488057175451), ('../submissions/submission.1387495699.txt', 2.9050536898492605, 7.5695486176415612), ('../submissions/submission.1387495817.txt', 2.8892927099804759, 7.5641339100996321), ('../submissions/submission.1387495951.txt', 2.8899936280178982, 7.5033195410945588), ('../submissions/submission.1387496017.txt', 2.8958464116301061, 7.5217321798006056), ('../submissions/submission.1387496100.txt', 2.9033936704977492, 7.5760673312017772), ('../submissions/submission.1387496145.txt', 2.9208859415194408, 7.5208388188828357), ('../submissions/submission.1387497291.txt', 3.1487494676527592, 8.1459337933172904), ('../submissions/submission.1387683628.txt', 3.1696484571606378, 8.1950771377626044), ('../submissions/submission.1387683920.txt', 3.1936621626854862, 8.3453988681293527), ('../submissions/submission.1387683972.txt', 3.1574354407837255, 8.1670672145127714), ('../submissions/submission.1387684344.txt', 3.1714681172326782, 8.1345298085123101), ('../submissions/submission.1387684598.txt', 3.1982693871230814, 8.2799596867974525), ('../submissions/submission.1387684901.txt', 3.0207286383522964, 8.0964028219242135), ('../submissions/submission.1387685107.txt', 3.0297766076891146, 8.068346383440586), ('../submissions/submission.1387685394.txt', 2.9812013628092915, 7.9514742744915301), ('../submissions/submission.1387686494.txt', 3.0289351762231691, 8.0415536088068844), ('../submissions/submission.1387686682.txt', 1.4604641350210978, 3.8525), ('../submissions/submission.1387686698.txt', 1.5015189873417691, 3.8650000000000002), ('../submissions/submission.1387686847.txt', 1.4783544303797456, 3.8050000000000002), ('../submissions/submission.1387687025.txt', 3.0251003394118552, 8.0846577254050693), ('../submissions/submission.1387755290.txt', 2.7031192067953453, 7.1609789993823352), ('../submissions/submission.1387755607.txt', 3.0128689080516331, 8.1414453366275481), ('../submissions/submission.1387755753.txt', 2.7015547589058722, 7.1717109326744906), ('../submissions/submission.1387762678.txt', 2.5668287956594207, 6.7154107473749232), ('../submissions/submission.1387763166.txt', 2.5811465297291192, 6.7503088326127241), ('../submissions/submission.1387764508.txt', 2.5970015825340496, 6.7685299567634338), ('../submissions/submission.1387764976.txt', 2.5947757000291691, 6.7694564546016061), ('../submissions/submission.1387765466.txt', 2.5831682976456243, 6.7557134033353918), ('../submissions/submission.1387766083.txt', 2.6937302064062032, 7.0408431130327367), ('../submissions/submission.1387766276.txt', 4.0072478312191491, 9.9630945027794944), ('../submissions/submission.1387769947.txt', 2.5986067241547355, 6.7740889437924645), ('../submissions/submission.1387770439.txt', 7.258823112359198, 7.5910284126003704)]\n"
       ]
      }
     ],
     "prompt_number": 204
    },
    {
     "cell_type": "code",
     "collapsed": false,
     "input": [
      "lonlats = landmark_pickup_dict.keys()\n",
      "lons = [ i[0] for i in lonlats ]\n",
      "lats = [ i[1] for i in lonlats ]\n",
      "scatter( lons, lats )"
     ],
     "language": "python",
     "metadata": {},
     "outputs": [
      {
       "metadata": {},
       "output_type": "pyout",
       "prompt_number": 20,
       "text": [
        "<matplotlib.collections.PathCollection at 0x13cc55d90>"
       ]
      },
      {
       "metadata": {},
       "output_type": "display_data",
       "png": "[encoded data removed]",
       "text": [
        "<matplotlib.figure.Figure at 0x1002ea750>"
       ]
      }
     ],
     "prompt_number": 20
    },
    {
     "cell_type": "code",
     "collapsed": false,
     "input": [
      "pickup_lons = [i[1] for i in pickups ]\n",
      "pickup_lats = [i[2] for i in pickups ]\n",
      "scatter( pickup_lons[:1000], pickup_lats[:1000] )"
     ],
     "language": "python",
     "metadata": {},
     "outputs": [
      {
       "metadata": {},
       "output_type": "pyout",
       "prompt_number": 23,
       "text": [
        "<matplotlib.collections.PathCollection at 0x12c072250>"
       ]
      },
      {
       "metadata": {},
       "output_type": "display_data",
       "png": "[encoded data removed]",
       "text": [
        "<matplotlib.figure.Figure at 0x10dc2fd90>"
       ]
      }
     ],
     "prompt_number": 23
    }
   ],
   "metadata": {}
  }
 ]
}