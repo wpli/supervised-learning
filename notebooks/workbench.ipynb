{
 "metadata": {
  "name": ""
 },
 "nbformat": 3,
 "nbformat_minor": 0,
 "worksheets": [
  {
   "cells": [
    {
     "cell_type": "markdown",
     "metadata": {},
     "source": [
      "Run this first cell in order to pre-load the data."
     ]
    },
    {
     "cell_type": "code",
     "collapsed": false,
     "input": [
      "sys.path.append( '../src' )\n",
      "import utils_raw\n",
      "reload( utils_raw )\n",
      "import utils_general\n",
      "reload( utils_general )\n",
      "import utils_preprocess\n",
      "reload( utils_preprocess )\n",
      "import utils_features\n",
      "reload( utils_features )\n",
      "\n",
      "import time\n",
      "import ipdb\n",
      "import sys\n",
      "import collections\n",
      "import numpy\n",
      "from sklearn import linear_model\n",
      "\n",
      "DIST_THRESHOLD = 0.00224946357\n",
      "SQ_DIST_THRESHOLD = DIST_THRESHOLD**2\n",
      "\n",
      "TRAIN_TEST_SPLIT = 0.8\n",
      "\n",
      "if 1:\n",
      "    # ---\n",
      "    # get raw data\n",
      "    sys.stderr.write( \"Getting raw data...\" )\n",
      "\n",
      "    # raw data: pickups\n",
      "    # pickups schema: [ datetime, lon, lat ]\n",
      "\n",
      "\n",
      "    pickups = utils_raw.get_pickups( '../data/pickups_train.csv' )\n",
      "    \n",
      "    # raw data: times/locations that need to be predicted\n",
      "    # times_locations schema: [ prediction_index, start_datetime, end_datetime, lon, lat ] \n",
      "    times_locations = utils_raw.get_times_locations( '../data/test1.txt' )\n",
      "\n",
      "    # set of lon/lats and times that we want pickups for\n",
      "    landmarks = set( [ (i[3], i[4]) for i in times_locations ] )\n",
      "    times = set( i[1].hour for i in times_locations )\n",
      "    sys.stderr.write( \"done.\\n\" )\n",
      "\n",
      "\n",
      "    # ---\n",
      "    # get pre-processed data\n",
      "    sys.stderr.write( \"Pre-processing data...\" )\n",
      "    sys.stderr.write( \"counting pickups by landmarks...\" )\n",
      "    landmark_pickup_dict = utils_preprocess.get_landmark_pickup_dict( landmarks, pickups, SQ_DIST_THRESHOLD )\n",
      "\n",
      "    landmark_time_location_dict = collections.defaultdict( list )\n",
      "    sys.stderr.write( \"counting times by landmarks...\" )\n",
      "    for idx, i in enumerate( times_locations ):\n",
      "        landmark_time_location_dict[(i[3],i[4])].append( idx )\n",
      "        \n",
      "    sys.stderr.write( \"done.\\n\" )\n",
      "\n",
      "    possible_days = list( set( [ i[1].date() for i in times_locations ] ) )\n",
      "    test_days_dict = dict( zip( possible_days, range(len(possible_days) ) ) )\n",
      "\n",
      "    # ---\n",
      "    # create \"raw\" training set and validation set\n",
      "    #landmark_{train|val}_dict[(lon,lat)] = [ ( window_start_datetime0, count0 ), ( window_start_datetime1, count1 ) ... ]\n",
      "    ( landmark_train_dict, landmark_val_dict ) = utils_preprocess.get_train_validation_landmark_dicts( landmark_pickup_dict, pickups, train_test_split = TRAIN_TEST_SPLIT )\n",
      "\n",
      "    "
     ],
     "language": "python",
     "metadata": {},
     "outputs": [
      {
       "output_type": "stream",
       "stream": "stderr",
       "text": [
        "Getting raw data...done.\n"
       ]
      },
      {
       "output_type": "stream",
       "stream": "stderr",
       "text": [
        "Pre-processing data...counting pickups by landmarks...counting times by landmarks..."
       ]
      },
      {
       "output_type": "stream",
       "stream": "stderr",
       "text": [
        "done.\n"
       ]
      }
     ],
     "prompt_number": 3
    },
    {
     "cell_type": "code",
     "collapsed": false,
     "input": [
      "for key, val in landmark_pickup_dict.items():\n",
      "    print key, len(val)"
     ],
     "language": "python",
     "metadata": {},
     "outputs": [
      {
       "output_type": "stream",
       "stream": "stdout",
       "text": [
        "(-71.049767, 42.351658) 25696\n",
        "(-71.065109, 42.35154) 138465\n",
        "(-71.084206, 42.347626) 200596\n",
        "(-71.066193, 42.349987) 94532\n",
        "(-71.097244, 42.346439) 90162\n",
        "(-71.04493, 42.346577) 60259\n",
        "(-71.053635, 42.359726) 110269\n",
        "(-71.051659, 42.345394) 4294\n",
        "(-71.064461, 42.350315) 114957\n",
        "(-71.060493, 42.355457) 68424\n",
        "(-71.04924, 42.359219) 35743\n",
        "(-71.075111, 42.347534) 111896\n",
        "(-71.056396, 42.357574) 119977\n",
        "(-71.042946, 42.352856) 20636\n",
        "(-71.062569, 42.354008) 102806\n",
        "(-71.059608, 42.3592) 98167\n",
        "(-71.065567, 42.315872) 0\n",
        "(-71.04525, 42.353764) 8335\n",
        "(-71.036064, 42.348522) 14132\n",
        "(-71.08567, 42.342808) 32463\n",
        "(-71.083717, 42.329704) 0\n",
        "(-71.040306, 42.351776) 7381\n",
        "(-71.057114, 42.343365) 9300\n",
        "(-71.114105, 42.300732) 47483\n",
        "(-71.127762, 42.358086) 0\n",
        "(-71.016518, 42.366631) 66322\n",
        "(-71.073502, 42.347263) 37438\n",
        "(-71.040916, 42.346043) 8608\n",
        "(-71.064713, 42.350712) 128566\n",
        "(-71.02861, 42.344254) 3424\n",
        "(-71.055511, 42.365353) 36808\n",
        "(-71.062103, 42.366261) 67824\n",
        "(-71.056213, 42.360039) 130321\n",
        "(-71.055138, 42.351818) 184578\n",
        "(-71.06559, 42.350483) 119138\n"
       ]
      }
     ],
     "prompt_number": 34
    },
    {
     "cell_type": "code",
     "collapsed": false,
     "input": [
      "if 1:\n",
      "    # ---\n",
      "    # sample the training set and validation set (possibly to be more reflective of the test set)\n",
      "    sampled_landmark_train_dict = {}\n",
      "    sampled_landmark_val_dict = {}\n",
      "    \n",
      "    for landmark, entries in landmark_train_dict.items():\n",
      "        test_start_hours = [ times_locations[idx][1].hour / 2 * 2 for idx in landmark_time_location_dict[landmark] ]\n",
      "        #start_time_counts = collections.Counter( test_start_dts )\n",
      "        #start_time_counts = start_time_counts.keys()\n",
      "        #start_time_counts = start_time_counts + [ i+2 for i in start_time_counts ]\n",
      "        temp_list = list( set( test_start_hours ) )\n",
      "        start_times = temp_list + [ i+2 for i in temp_list ]\n",
      "        start_times_set = set( start_times )\n",
      "        #train_data = [ i for i in landmark_train_dict[landmark] if i[0].hour in start_time_counts ]\n",
      "        sampled_landmark_train_dict[landmark] = [ i for i in landmark_train_dict[landmark] if i[0].hour in start_times_set ]\n",
      "        sampled_landmark_val_dict[landmark] = [ i for i in landmark_val_dict[landmark] if i[0].hour in start_times_set ]\n"
     ],
     "language": "python",
     "metadata": {},
     "outputs": [
      {
       "output_type": "stream",
       "stream": "stdout",
       "text": [
        "(-71.049767, 42.351658) 1580\n",
        "(-71.065109, 42.35154) 1785\n",
        "(-71.084206, 42.347626) 1802\n",
        "(-71.066193, 42.349987) 1789\n",
        "(-71.097244, 42.346439) 1760\n",
        "(-71.04493, 42.346577) 1724\n",
        "(-71.053635, 42.359726) 1780\n",
        "(-71.051659, 42.345394) 1251\n",
        "(-71.064461, 42.350315) 1789\n",
        "(-71.060493, 42.355457) 1778\n",
        "(-71.04924, 42.359219) 1685\n",
        "(-71.075111, 42.347534) 1780\n",
        "(-71.056396, 42.357574) 1800\n",
        "(-71.042946, 42.352856) 1162\n",
        "(-71.062569, 42.354008) 1776\n",
        "(-71.059608, 42.3592) 1784\n",
        "(-71.065567, 42.315872) 0\n",
        "(-71.04525, 42.353764) 1157\n",
        "(-71.036064, 42.348522) 1039\n",
        "(-71.08567, 42.342808) 1751\n",
        "(-71.083717, 42.329704) 0\n",
        "(-71.040306, 42.351776) 1227\n",
        "(-71.057114, 42.343365) 1606\n",
        "(-71.114105, 42.300732) 1733\n",
        "(-71.127762, 42.358086) 0\n",
        "(-71.016518, 42.366631) 1705\n",
        "(-71.073502, 42.347263) 1728\n",
        "(-71.040916, 42.346043) 1463\n",
        "(-71.064713, 42.350712) 1804\n",
        "(-71.02861, 42.344254) 644\n",
        "(-71.055511, 42.365353) 1661\n",
        "(-71.062103, 42.366261) 1745\n",
        "(-71.056213, 42.360039) 1778\n",
        "(-71.055138, 42.351818) 1806\n",
        "(-71.06559, 42.350483) 1786\n"
       ]
      }
     ],
     "prompt_number": 57
    },
    {
     "cell_type": "markdown",
     "metadata": {},
     "source": [
      "Run this cell to add/play around with different functions and write submission files."
     ]
    },
    {
     "cell_type": "code",
     "collapsed": false,
     "input": [
      "from sklearn import ensemble"
     ],
     "language": "python",
     "metadata": {},
     "outputs": [],
     "prompt_number": 12
    },
    {
     "cell_type": "code",
     "collapsed": false,
     "input": [
      "runs_rms_vals = []"
     ],
     "language": "python",
     "metadata": {},
     "outputs": [],
     "prompt_number": 27
    },
    {
     "cell_type": "code",
     "collapsed": false,
     "input": [
      "import utils_features\n",
      "reload( utils_features )\n",
      "feature_function_list = [ utils_features.feature_day_of_week_binary , \\\n",
      "                              utils_features.feature_time_quadrant_binary, \\\n",
      "                              utils_features.feature_day_time_product_binary, \\\n",
      "                              utils_features.feature_corrected_hour, \\\n",
      "                              utils_features.feature_day, \\\n",
      "                              utils_features.feature_week_number, \\\n",
      "                              utils_features.feature_landmark_taxi_popularity ]\n",
      "    \n",
      "\n",
      "    \n",
      "regression_model = linear_model.Ridge( alpha=0.5 )\n",
      "regression_model = ensemble.RandomForestRegressor()\n",
      "\n",
      "\n",
      "\n",
      "\n",
      "    \n",
      "if 1:\n",
      "    \n",
      "    all_train_prediction_rms_errors = []\n",
      "    all_val_predictions_rms_errors = []\n",
      "    final_predictions = []\n",
      "\n",
      "    # compute the features on the training set, validation set, and test set\n",
      "    # train model on training set and evaluate performance on training and validation set\n",
      "    # train model on training+validation set and compute predictions on test set                                \n",
      "    for landmark in list( landmarks ):\n",
      "        train_data = sampled_landmark_train_dict[landmark]\n",
      "        val_data = sampled_landmark_val_dict[landmark]\n",
      "        test_data = [ times_locations[idx][1] for idx in landmark_time_location_dict[landmark] ]\n",
      "        test_data_indices = [ times_locations[idx][0] for idx in landmark_time_location_dict[landmark] ]\n",
      "        total_pickups = len( landmark_pickup_dict[landmark] )\n",
      "        #total_pickups = 0\n",
      "        train_features = numpy.array( [ utils_features.featurize( i[0], feature_function_list, possible_days=possible_days, test_days_dict=test_days_dict, all_pickups=total_pickups ) for i in train_data ] )\n",
      "        train_y = numpy.array( [i[1] for i in train_data ] )\n",
      "        val_features = numpy.array( [ utils_features.featurize( i[0], feature_function_list, possible_days=possible_days, test_days_dict=test_days_dict, all_pickups=total_pickups ) for i in val_data ] )\n",
      "        val_y = numpy.array( [i[1] for i in val_data ] )\n",
      "        \n",
      "        # note that test_data is in a slightly different format than train_data and val_data because it does not have predictions\n",
      "        test_features = numpy.array( [ utils_features.featurize( i, feature_function_list, possible_days=possible_days, test_days_dict=test_days_dict, all_pickups=total_pickups ) for i in test_data ] )\n",
      "\n",
      "        if len( train_features ) == 0:\n",
      "            test_predictions = [ 0 for i in test_features ]\n",
      "        else:\n",
      "            sys.stderr.write( \"Fitting regression model on training data...\" )\n",
      "            clf = regression_model\n",
      "            clf.fit( train_features, train_y )\n",
      "            # compute performance on training data\n",
      "            predictions = clf.predict( train_features )\n",
      "            predictions = [ max( i,0) for i in predictions ]\n",
      "            all_train_prediction_rms_errors += [ numpy.sqrt((predictions[idx] - train_y[idx])**2) for idx in range(len(predictions)) ]\n",
      "\n",
      "\n",
      "            # compute performance on validation data\n",
      "            predictions = clf.predict( val_features )\n",
      "            predictions = [ max( i, 0 ) for i in predictions ]\n",
      "            all_val_predictions_rms_errors += [ numpy.sqrt((predictions[idx] - val_y[idx])**2) for idx in range(len(predictions)) ]\n",
      "\n",
      "            # train on all of the data\n",
      "            \n",
      "            sys.stderr.write( \"done.\\n\" )\n",
      "                             \n",
      "                    \n",
      "            \n",
      "            full_train_features = numpy.vstack( ( train_features, val_features ) )\n",
      "            full_train_y = numpy.hstack( ( train_y, val_y ) )\n",
      "           \n",
      "\n",
      "        \n",
      "            \n",
      "            \n",
      "            clf = regression_model\n",
      "            clf.fit( full_train_features, full_train_y )\n",
      "            test_predictions = clf.predict( test_features )\n",
      "            \n",
      "            test_predictions = [ max( int( round(i,0) ), 0 ) for i in test_predictions ]\n",
      "            \n",
      "        final_predictions += zip( test_data_indices, test_predictions )\n",
      "        #print clf.coef_[-1], \n",
      "    \n",
      "    sys.stderr.write( \"Average Train RMS Error: \" ) \n",
      "    train_rms = numpy.average( all_train_prediction_rms_errors )\n",
      "    sys.stderr.write( \"%s\\n\" % train_rms )\n",
      "\n",
      "    sys.stderr.write( \"Average Validation RMS Error: \" )\n",
      "    val_rms = numpy.average( all_val_predictions_rms_errors )\n",
      "    sys.stderr.write( \"%s\\n\" % val_rms )\n",
      "    pickups_guess = dict( final_predictions )\n",
      "\n",
      "    # write to file\n",
      "    extension = str( int( time.time() ) )\n",
      "    final_predictions = pickups_guess.items()\n",
      "    final_predictions.sort( key=lambda x:int(x[0]) )\n",
      "    output_filename = '../submissions/submission.%s.txt' % extension\n",
      "    with open( output_filename, 'w' ) as f:\n",
      "        for i in final_predictions:\n",
      "            f.write( \"%s %s\\n\" %( i[0], str( i[1] ) ) )\n",
      "    \n",
      "    sys.stderr.write( \"Wrote %s\\n\" % output_filename )\n",
      "    runs_rms_vals.append( ( output_filename, train_rms, val_rms ) )\n",
      "\n"
     ],
     "language": "python",
     "metadata": {},
     "outputs": [
      {
       "output_type": "stream",
       "stream": "stderr",
       "text": [
        "Fitting regression model on training data...done.\n"
       ]
      },
      {
       "output_type": "stream",
       "stream": "stderr",
       "text": [
        "Fitting regression model on training data...done.\n"
       ]
      },
      {
       "output_type": "stream",
       "stream": "stderr",
       "text": [
        "Fitting regression model on training data...done.\n"
       ]
      },
      {
       "output_type": "stream",
       "stream": "stderr",
       "text": [
        "Fitting regression model on training data...done.\n"
       ]
      },
      {
       "output_type": "stream",
       "stream": "stderr",
       "text": [
        "Fitting regression model on training data...done.\n"
       ]
      },
      {
       "output_type": "stream",
       "stream": "stderr",
       "text": [
        "Fitting regression model on training data...done.\n"
       ]
      },
      {
       "output_type": "stream",
       "stream": "stderr",
       "text": [
        "Fitting regression model on training data...done.\n"
       ]
      },
      {
       "output_type": "stream",
       "stream": "stderr",
       "text": [
        "Fitting regression model on training data...done.\n"
       ]
      },
      {
       "output_type": "stream",
       "stream": "stderr",
       "text": [
        "Fitting regression model on training data...done.\n"
       ]
      },
      {
       "output_type": "stream",
       "stream": "stderr",
       "text": [
        "Fitting regression model on training data...done.\n"
       ]
      },
      {
       "output_type": "stream",
       "stream": "stderr",
       "text": [
        "Fitting regression model on training data...done.\n"
       ]
      },
      {
       "output_type": "stream",
       "stream": "stderr",
       "text": [
        "Fitting regression model on training data...done.\n"
       ]
      },
      {
       "output_type": "stream",
       "stream": "stderr",
       "text": [
        "Fitting regression model on training data...done.\n"
       ]
      },
      {
       "output_type": "stream",
       "stream": "stderr",
       "text": [
        "Fitting regression model on training data...done.\n"
       ]
      },
      {
       "output_type": "stream",
       "stream": "stderr",
       "text": [
        "Fitting regression model on training data...done.\n"
       ]
      },
      {
       "output_type": "stream",
       "stream": "stderr",
       "text": [
        "Fitting regression model on training data...done.\n"
       ]
      },
      {
       "output_type": "stream",
       "stream": "stderr",
       "text": [
        "Fitting regression model on training data...done.\n"
       ]
      },
      {
       "output_type": "stream",
       "stream": "stderr",
       "text": [
        "Fitting regression model on training data...done.\n"
       ]
      },
      {
       "output_type": "stream",
       "stream": "stderr",
       "text": [
        "Fitting regression model on training data...done.\n"
       ]
      },
      {
       "output_type": "stream",
       "stream": "stderr",
       "text": [
        "Fitting regression model on training data...done.\n"
       ]
      },
      {
       "output_type": "stream",
       "stream": "stderr",
       "text": [
        "Fitting regression model on training data...done.\n"
       ]
      },
      {
       "output_type": "stream",
       "stream": "stderr",
       "text": [
        "Fitting regression model on training data...done.\n"
       ]
      },
      {
       "output_type": "stream",
       "stream": "stderr",
       "text": [
        "Fitting regression model on training data...done.\n"
       ]
      },
      {
       "output_type": "stream",
       "stream": "stderr",
       "text": [
        "Fitting regression model on training data...done.\n"
       ]
      },
      {
       "output_type": "stream",
       "stream": "stderr",
       "text": [
        "Fitting regression model on training data...done.\n"
       ]
      },
      {
       "output_type": "stream",
       "stream": "stderr",
       "text": [
        "Fitting regression model on training data...done.\n"
       ]
      },
      {
       "output_type": "stream",
       "stream": "stderr",
       "text": [
        "Fitting regression model on training data...done.\n"
       ]
      },
      {
       "output_type": "stream",
       "stream": "stderr",
       "text": [
        "Fitting regression model on training data...done.\n"
       ]
      },
      {
       "output_type": "stream",
       "stream": "stderr",
       "text": [
        "Fitting regression model on training data...done.\n"
       ]
      },
      {
       "output_type": "stream",
       "stream": "stderr",
       "text": [
        "Fitting regression model on training data...done.\n"
       ]
      },
      {
       "output_type": "stream",
       "stream": "stderr",
       "text": [
        "Fitting regression model on training data...done.\n"
       ]
      },
      {
       "output_type": "stream",
       "stream": "stderr",
       "text": [
        "Fitting regression model on training data...done.\n"
       ]
      },
      {
       "output_type": "stream",
       "stream": "stderr",
       "text": [
        "Average Train RMS Error: 3.14874946765\n",
        "Average Validation RMS Error: 8.14593379332\n",
        "Wrote ../submissions/submission.1387497291.txt.\n"
       ]
      }
     ],
     "prompt_number": 58
    },
    {
     "cell_type": "code",
     "collapsed": false,
     "input": [
      "print runs_rms_vals"
     ],
     "language": "python",
     "metadata": {},
     "outputs": [
      {
       "output_type": "stream",
       "stream": "stdout",
       "text": [
        "[('../submissions/submission.1387489717.txt', 6.1515230144497437, 8.6936347092809036), ('../submissions/submission.1387495214.txt', 2.9110235291341588, 7.5983449313522353), ('../submissions/submission.1387495497.txt', 2.9000507398581061, 7.5788367500469924), ('../submissions/submission.1387495561.txt', 2.897547966865627, 7.5626073600401611), ('../submissions/submission.1387495639.txt', 2.9027582422767417, 7.5715488057175451), ('../submissions/submission.1387495699.txt', 2.9050536898492605, 7.5695486176415612), ('../submissions/submission.1387495817.txt', 2.8892927099804759, 7.5641339100996321), ('../submissions/submission.1387495951.txt', 2.8899936280178982, 7.5033195410945588), ('../submissions/submission.1387496017.txt', 2.8958464116301061, 7.5217321798006056), ('../submissions/submission.1387496100.txt', 2.9033936704977492, 7.5760673312017772), ('../submissions/submission.1387496145.txt', 2.9208859415194408, 7.5208388188828357)]\n"
       ]
      }
     ],
     "prompt_number": 50
    },
    {
     "cell_type": "code",
     "collapsed": false,
     "input": [
      "lonlats = landmark_pickup_dict.keys()\n",
      "lons = [ i[0] for i in lonlats ]\n",
      "lats = [ i[1] for i in lonlats ]\n",
      "scatter( lons, lats )"
     ],
     "language": "python",
     "metadata": {},
     "outputs": [
      {
       "metadata": {},
       "output_type": "pyout",
       "prompt_number": 20,
       "text": [
        "<matplotlib.collections.PathCollection at 0x13cc55d90>"
       ]
      },
      {
       "metadata": {},
       "output_type": "display_data",
       "png": "[encoded data removed]",
       "text": [
        "<matplotlib.figure.Figure at 0x1002ea750>"
       ]
      }
     ],
     "prompt_number": 20
    },
    {
     "cell_type": "code",
     "collapsed": false,
     "input": [
      "pickup_lons = [i[1] for i in pickups ]\n",
      "pickup_lats = [i[2] for i in pickups ]\n",
      "scatter( pickup_lons[:1000], pickup_lats[:1000] )"
     ],
     "language": "python",
     "metadata": {},
     "outputs": [
      {
       "metadata": {},
       "output_type": "pyout",
       "prompt_number": 23,
       "text": [
        "<matplotlib.collections.PathCollection at 0x12c072250>"
       ]
      },
      {
       "metadata": {},
       "output_type": "display_data",
       "png": "[encoded data removed]",
       "text": [
        "<matplotlib.figure.Figure at 0x10dc2fd90>"
       ]
      }
     ],
     "prompt_number": 23
    }
   ],
   "metadata": {}
  }
 ]
}