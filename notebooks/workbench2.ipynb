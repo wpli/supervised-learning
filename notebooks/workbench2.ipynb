{
 "metadata": {
  "name": ""
 },
 "nbformat": 3,
 "nbformat_minor": 0,
 "worksheets": [
  {
   "cells": [
    {
     "cell_type": "code",
     "collapsed": false,
     "input": [
      "import sys\n",
      "sys.path.append( '../src' )\n",
      "import utils_raw"
     ],
     "language": "python",
     "metadata": {},
     "outputs": [],
     "prompt_number": 3
    },
    {
     "cell_type": "code",
     "collapsed": false,
     "input": [
      "reload( utils_raw )\n",
      "test2_times_locations = utils_raw.get_times_locations( '../data/test2.txt' )\n",
      "lon_lat_name_dict = utils_raw.get_lon_lat_name_dict()"
     ],
     "language": "python",
     "metadata": {},
     "outputs": [],
     "prompt_number": 13
    },
    {
     "cell_type": "code",
     "collapsed": false,
     "input": [
      "print test_times_locations[0]"
     ],
     "language": "python",
     "metadata": {},
     "outputs": [
      {
       "output_type": "stream",
       "stream": "stdout",
       "text": [
        "['0', datetime.datetime(2012, 5, 8, 7, 0), datetime.datetime(2012, 5, 8, 9, 0), -71.057114, 42.343365]\n"
       ]
      }
     ],
     "prompt_number": 8
    },
    {
     "cell_type": "code",
     "collapsed": false,
     "input": [
      "dt_by_landmark = {}\n",
      "for lon_lat, name in lon_lat_name_dict.items():\n",
      "    dt_by_landmark[name] = []\n",
      "    \n",
      "for i in test2_times_locations:\n",
      "    landmark_name = lon_lat_name_dict[( i[3], i[4] )]\n",
      "    dt_by_landmark[landmark_name].append( i )"
     ],
     "language": "python",
     "metadata": {},
     "outputs": [],
     "prompt_number": 14
    },
    {
     "cell_type": "code",
     "collapsed": false,
     "input": [
      "names = lon_lat_name_dict.values()\n",
      "for name in names:\n",
      "    print name, len( dt_by_landmark[name] )"
     ],
     "language": "python",
     "metadata": {},
     "outputs": [
      {
       "output_type": "stream",
       "stream": "stdout",
       "text": [
        "Children's Museum 21\n",
        "Majestic Theater 21\n",
        "Hynes Convention Center 21\n",
        "Charles Playhouse 23\n",
        "Fenway Park 22\n",
        "Boston Convention and Exhibition Center 22\n",
        "Bank of America Pavilion 21\n",
        "Channel Center 21\n",
        "Wang Theater 21\n",
        "Washington & Winter/Summer 21\n",
        "Post Office Sq 21\n",
        "Back Bay T Stop 21\n",
        "New England Aquarium 21\n",
        "Institute Of Contemporary Art 22\n",
        "Opera House 21\n",
        "Scollay Sq 21\n",
        "Strand Theater 21\n",
        "Faneuil Hall Sq 21\n",
        "Fan pier 21\n",
        "Broadway T Stop 22\n",
        "TD Garden/North Station 21\n",
        "Symphony Hall 21\n",
        "Dudley Square T Stop 21\n",
        "World Trade Center 22\n",
        "USS Constitution 0\n",
        "Forest Hills T Stop 22\n",
        "Allston 21\n",
        "Logan International Airport 21\n",
        "Clarendon Sq 21\n",
        "Waterside Place 21\n",
        "Wilbur Theater 23\n",
        "South Station 21\n",
        "North End 22\n",
        "Faneuil Hall 21\n",
        "27 Drydock 21\n",
        "Shubert Theater 21\n"
       ]
      }
     ],
     "prompt_number": 11
    },
    {
     "cell_type": "code",
     "collapsed": false,
     "input": [
      "import numpy\n",
      "x = range(10)\n",
      "print numpy.max(x), numpy.average(x), numpy.std(x)"
     ],
     "language": "python",
     "metadata": {},
     "outputs": [
      {
       "output_type": "stream",
       "stream": "stdout",
       "text": [
        "9 4.5 2.87228132327\n"
       ]
      }
     ],
     "prompt_number": 18
    },
    {
     "cell_type": "code",
     "collapsed": false,
     "input": [],
     "language": "python",
     "metadata": {},
     "outputs": [
      {
       "output_type": "stream",
       "stream": "stdout",
       "text": [
        "3 2.0 0.816496580928\n"
       ]
      }
     ],
     "prompt_number": 16
    }
   ],
   "metadata": {}
  }
 ]
}