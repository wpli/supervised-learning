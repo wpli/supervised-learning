{
 "metadata": {
  "name": ""
 },
 "nbformat": 3,
 "nbformat_minor": 0,
 "worksheets": [
  {
   "cells": [
    {
     "cell_type": "code",
     "collapsed": false,
     "input": [
      "import time"
     ],
     "language": "python",
     "metadata": {},
     "outputs": [],
     "prompt_number": 18
    },
    {
     "cell_type": "code",
     "collapsed": false,
     "input": [
      "t0 = time.time()\n",
      "with open( '../data/pickups_train.csv' ) as f:\n",
      "    x = f.read().split('\\n')\n",
      "    if x[-1] == '':\n",
      "        del x[-1]\n",
      "t1 = time.time()  \n",
      "print t1 - t0\n",
      "pickups = []\n",
      "for j in x:\n",
      "    i = j.split(',')\n",
      "    pickups.append( [ datetime.datetime.strptime( i[1], \"%Y-%m-%d %H:%M:%S\" ), float( i[3] ), float( i[4] ) ] )\n",
      "\n",
      "\n",
      "print time.time() - t1"
     ],
     "language": "python",
     "metadata": {},
     "outputs": [
      {
       "output_type": "stream",
       "stream": "stdout",
       "text": [
        "1.15277004242\n",
        "105.445623875"
       ]
      },
      {
       "output_type": "stream",
       "stream": "stdout",
       "text": [
        "\n"
       ]
      }
     ],
     "prompt_number": 221
    },
    {
     "cell_type": "code",
     "collapsed": false,
     "input": [
      "import datetime\n",
      "def convert_date( date_string ):\n",
      "    return datetime.datetime.strptime( date_string, \"%Y-%m-%d %H:%M\" )"
     ],
     "language": "python",
     "metadata": {},
     "outputs": [],
     "prompt_number": 9
    },
    {
     "cell_type": "code",
     "collapsed": false,
     "input": [
      "import datetime\n",
      "with open( '../data/test1.txt' ) as f:\n",
      "    x = f.read().split('\\n')\n",
      "    if x[-1] == '':\n",
      "        del x[-1]\n",
      "\n",
      "times_locations = []\n",
      "for j in x:\n",
      "    i = j.split(',')\n",
      "    times_locations.append( [ i[0], convert_date( i[1] ), convert_date( i[2] ), float( i[3] ), float( i[4] ) ] )"
     ],
     "language": "python",
     "metadata": {},
     "outputs": [],
     "prompt_number": 54
    },
    {
     "cell_type": "code",
     "collapsed": false,
     "input": [
      "landmarks = set( [ (i[3], i[4]) for i in times_locations ] )\n",
      "times = set( i[1].hour for i in times_locations )"
     ],
     "language": "python",
     "metadata": {},
     "outputs": [
      {
       "output_type": "stream",
       "stream": "stdout",
       "text": [
        "set([2, 3, 4, 5, 6, 7, 11, 12, 13, 14, 16, 17, 18, 19, 20, 21, 22, 23])\n"
       ]
      }
     ],
     "prompt_number": 306
    },
    {
     "cell_type": "code",
     "collapsed": false,
     "input": [
      "landmark_pickup_dict = {}\n",
      "for landmark in list( landmarks ):\n",
      "    print landmark\n",
      "    landmark_pickup_dict[landmark] = [ idx for idx, i in enumerate( pickups ) \\\n",
      "                                      if calculate_square_dist( landmark[0], landmark[1], i[2], i[1] ) <= SQ_DIST_THRESHOLD ] \n",
      "        "
     ],
     "language": "python",
     "metadata": {},
     "outputs": [
      {
       "output_type": "stream",
       "stream": "stdout",
       "text": [
        "(42.352856, -71.042946)\n",
        "(42.353764, -71.04525)"
       ]
      },
      {
       "output_type": "stream",
       "stream": "stdout",
       "text": [
        "\n",
        "(42.359726, -71.053635)"
       ]
      },
      {
       "output_type": "stream",
       "stream": "stdout",
       "text": [
        "\n",
        "(42.355457, -71.060493)"
       ]
      },
      {
       "output_type": "stream",
       "stream": "stdout",
       "text": [
        "\n",
        "(42.354008, -71.062569)"
       ]
      },
      {
       "output_type": "stream",
       "stream": "stdout",
       "text": [
        "\n",
        "(42.3592, -71.059608)"
       ]
      },
      {
       "output_type": "stream",
       "stream": "stdout",
       "text": [
        "\n",
        "(42.359219, -71.04924)"
       ]
      },
      {
       "output_type": "stream",
       "stream": "stdout",
       "text": [
        "\n",
        "(42.366261, -71.062103)"
       ]
      },
      {
       "output_type": "stream",
       "stream": "stdout",
       "text": [
        "\n",
        "(42.347263, -71.073502)"
       ]
      },
      {
       "output_type": "stream",
       "stream": "stdout",
       "text": [
        "\n",
        "(42.350315, -71.064461)"
       ]
      },
      {
       "output_type": "stream",
       "stream": "stdout",
       "text": [
        "\n",
        "(42.347534, -71.075111)"
       ]
      },
      {
       "output_type": "stream",
       "stream": "stdout",
       "text": [
        "\n",
        "(42.346577, -71.04493)"
       ]
      },
      {
       "output_type": "stream",
       "stream": "stdout",
       "text": [
        "\n",
        "(42.366631, -71.016518)"
       ]
      },
      {
       "output_type": "stream",
       "stream": "stdout",
       "text": [
        "\n",
        "(42.344254, -71.02861)"
       ]
      },
      {
       "output_type": "stream",
       "stream": "stdout",
       "text": [
        "\n",
        "(42.348522, -71.036064)"
       ]
      },
      {
       "output_type": "stream",
       "stream": "stdout",
       "text": [
        "\n",
        "(42.347626, -71.084206)"
       ]
      },
      {
       "output_type": "stream",
       "stream": "stdout",
       "text": [
        "\n",
        "(42.345394, -71.051659)"
       ]
      },
      {
       "output_type": "stream",
       "stream": "stdout",
       "text": [
        "\n",
        "(42.343365, -71.057114)"
       ]
      },
      {
       "output_type": "stream",
       "stream": "stdout",
       "text": [
        "\n",
        "(42.300732, -71.114105)"
       ]
      },
      {
       "output_type": "stream",
       "stream": "stdout",
       "text": [
        "\n",
        "(42.346439, -71.097244)"
       ]
      },
      {
       "output_type": "stream",
       "stream": "stdout",
       "text": [
        "\n",
        "(42.350712, -71.064713)"
       ]
      },
      {
       "output_type": "stream",
       "stream": "stdout",
       "text": [
        "\n",
        "(42.358086, -71.127762)"
       ]
      },
      {
       "output_type": "stream",
       "stream": "stdout",
       "text": [
        "\n",
        "(42.360039, -71.056213)"
       ]
      },
      {
       "output_type": "stream",
       "stream": "stdout",
       "text": [
        "\n",
        "(42.349987, -71.066193)"
       ]
      },
      {
       "output_type": "stream",
       "stream": "stdout",
       "text": [
        "\n",
        "(42.357574, -71.056396)"
       ]
      },
      {
       "output_type": "stream",
       "stream": "stdout",
       "text": [
        "\n",
        "(42.342808, -71.08567)"
       ]
      },
      {
       "output_type": "stream",
       "stream": "stdout",
       "text": [
        "\n",
        "(42.35154, -71.065109)"
       ]
      },
      {
       "output_type": "stream",
       "stream": "stdout",
       "text": [
        "\n",
        "(42.351658, -71.049767)"
       ]
      },
      {
       "output_type": "stream",
       "stream": "stdout",
       "text": [
        "\n",
        "(42.315872, -71.065567)"
       ]
      },
      {
       "output_type": "stream",
       "stream": "stdout",
       "text": [
        "\n",
        "(42.329704, -71.083717)"
       ]
      },
      {
       "output_type": "stream",
       "stream": "stdout",
       "text": [
        "\n",
        "(42.365353, -71.055511)"
       ]
      },
      {
       "output_type": "stream",
       "stream": "stdout",
       "text": [
        "\n",
        "(42.351776, -71.040306)"
       ]
      },
      {
       "output_type": "stream",
       "stream": "stdout",
       "text": [
        "\n",
        "(42.350483, -71.06559)"
       ]
      },
      {
       "output_type": "stream",
       "stream": "stdout",
       "text": [
        "\n",
        "(42.351818, -71.055138)"
       ]
      },
      {
       "output_type": "stream",
       "stream": "stdout",
       "text": [
        "\n",
        "(42.346043, -71.040916)"
       ]
      },
      {
       "output_type": "stream",
       "stream": "stdout",
       "text": [
        "\n"
       ]
      }
     ],
     "prompt_number": 149
    },
    {
     "cell_type": "code",
     "collapsed": false,
     "input": [
      "import cPickle\n",
      "with open( '../processed_data/landmark_pickup_dict.pkl', 'w' ) as f:\n",
      "    cPickle.dump( landmark_pickup_dict, f )\n"
     ],
     "language": "python",
     "metadata": {},
     "outputs": [],
     "prompt_number": 194
    },
    {
     "cell_type": "code",
     "collapsed": false,
     "input": [
      "def f( thing1 ):\n",
      "    print thing1\n",
      "    \n",
      "def print_everything(*args):\n",
      "    for count, thing in enumerate(args):\n",
      "        print '{0}. {1}'.format(count, thing)\n",
      "\n",
      "    f( args[2] )\n",
      "        \n",
      "        \n",
      "print_everything('apple', 'banana', 'cabbage')\n"
     ],
     "language": "python",
     "metadata": {},
     "outputs": [
      {
       "output_type": "stream",
       "stream": "stdout",
       "text": [
        "0. apple\n",
        "1. banana\n",
        "2. cabbage\n",
        "cabbage\n"
       ]
      }
     ],
     "prompt_number": 6
    },
    {
     "cell_type": "code",
     "collapsed": false,
     "input": [
      "# create a training set and a test set of two hour blocks\n",
      "import collections\n",
      "TRAIN_TEST_SPLIT = 0.8\n",
      "\n",
      "landmark_train_dict = {}\n",
      "landmark_test_dict = {}\n",
      "\n",
      "t0 = time.time()\n",
      "for landmark, pickup_indices in landmark_pickup_dict.items():\n",
      "    pickup_time_windows = []\n",
      "    for p_idx in pickup_indices:\n",
      "        p = pickups[p_idx]\n",
      "        x = p[0].date()\n",
      "        y = datetime.time( hour = p[0].hour / 2 * 2 )\n",
      "        z = datetime.datetime.combine( date=x, time=y )\n",
      "        pickup_time_windows.append( z )\n",
      "    \n",
      "    count_by_time_window_dict = collections.Counter( pickup_time_windows )\n",
      "    count_by_time_window = count_by_time_window_dict.items()\n",
      "\n",
      "    random.shuffle( count_by_time_window )\n",
      "    #print count_by_time_window\n",
      "    split_idx = int( TRAIN_TEST_SPLIT * len( count_by_time_window ) )\n",
      "    \n",
      "    landmark_train_dict[landmark] = count_by_time_window[:split_idx]\n",
      "    landmark_test_dict[landmark] = count_by_time_window[split_idx:]\n",
      "    \n",
      "print time.time() - t0\n",
      "\n",
      "# common to both: day of week, start hour, month, indicator of equality, distance to the landmark\n",
      "\n"
     ],
     "language": "python",
     "metadata": {},
     "outputs": [
      {
       "output_type": "stream",
       "stream": "stdout",
       "text": [
        "7.97755789757\n"
       ]
      }
     ],
     "prompt_number": 234
    },
    {
     "cell_type": "code",
     "collapsed": false,
     "input": [],
     "language": "python",
     "metadata": {},
     "outputs": []
    },
    {
     "cell_type": "code",
     "collapsed": false,
     "input": [
      "possible_days = list( set( [ i[1].date() for i in times_locations ] ) )\n",
      "days_dict = dict( zip( possible_days, range(len(possible_days) ) ) )\n",
      "def featurize( dt, num_features = None ):\n",
      "    features = [ dt.isoweekday() ] #, dt.isocalendar()[1] ]\n",
      "    day_of_week_binary_features = []\n",
      "    \n",
      "    for day in range(7):\n",
      "        if dt.weekday() == day:\n",
      "            day_of_week_binary_features.append( 1 )\n",
      "        else:\n",
      "            day_of_week_binary_features.append( 0 )  \n",
      "            \n",
      "    #time quadrants: 4-10, 10-4, 4-10, 10-4\n",
      "    \n",
      "    time_quadrant_binary_feature = [0,0,0,0]\n",
      "    \n",
      "    #idx_to_activate = ( dt.hour - 4 ) / ( 6 ) \n",
      "    if dt.hour >= 4 and dt.hour< 10:\n",
      "        idx_to_activate = 0\n",
      "    elif dt.hour >= 10 and dt.hour < 16:\n",
      "        idx_to_activate = 1\n",
      "    elif dt.hour >= 16 and dt.hour < 22:\n",
      "        idx_to_activate = 2\n",
      "    else:\n",
      "        idx_to_activate = 3\n",
      "    \n",
      "    time_quadrant_binary_feature[idx_to_activate] = 1\n",
      "        \n",
      "    day_time_binary_features = []\n",
      "    for i in day_of_week_binary_features:\n",
      "        for j in time_quadrant_binary_feature:\n",
      "            day_time_binary_features.append( i*j )\n",
      "            \n",
      "    # make 2am the cutoff time\n",
      "    corrected_hour = dt.hour - 3\n",
      "    if corrected_hour < 0:\n",
      "        corrected_hour += 24\n",
      "    corrected_hour_feature = [ corrected_hour ]\n",
      "\n",
      "    \n",
      "    \n",
      "    #possible_days = range(200)\n",
      "    \n",
      "    day_binary = [ 0 ] * len( possible_days )\n",
      "    #day_of_year = dt.timetuple().tm_yday\n",
      "    #day_binary[day_of_year-150] = 1\n",
      "    day_of_year = dt.date()\n",
      "    if day_of_year in days_dict:\n",
      "        day_binary[days_dict[day_of_year]] = 1\n",
      "    \n",
      "    #features += day_of_week_binary_features\n",
      "    features = day_time_binary_features + day_of_week_binary_features +time_quadrant_binary_feature + \\\n",
      "        corrected_hour_feature + day_binary  + [ dt.isocalendar()[1] ] #+ time_quadrant_binary_feature \n",
      "    #features = day_time_binary_features\n",
      "    if num_features != None:\n",
      "        features = features[:num_features]\n",
      "    #features = [ 0 ]\n",
      "    return features\n",
      "\n",
      "# unit test\n",
      "feats = featurize( datetime.datetime( 2012, 3, 30, 16, 40 ) )\n",
      "print feats \n",
      "print len( feats )"
     ],
     "language": "python",
     "metadata": {},
     "outputs": [
      {
       "output_type": "stream",
       "stream": "stdout",
       "text": [
        "[0, 0, 0, 0, 0, 0, 0, 0, 0, 0, 0, 0, 0, 0, 0, 0, 0, 0, 1, 0, 0, 0, 0, 0, 0, 0, 0, 0, 0, 0, 0, 0, 1, 0, 0, 0, 0, 1, 0, 13, 0, 0, 0, 0, 0, 0, 0, 0, 0, 0, 0, 0, 0, 0, 0, 0, 0, 0, 0, 0, 0, 0, 0, 0, 0, 0, 0, 13]\n",
        "68\n"
       ]
      }
     ],
     "prompt_number": 562
    },
    {
     "cell_type": "code",
     "collapsed": false,
     "input": [
      "\n",
      "\n",
      "\n"
     ],
     "language": "python",
     "metadata": {},
     "outputs": [
      {
       "metadata": {},
       "output_type": "pyout",
       "prompt_number": 290,
       "text": [
        "<matplotlib.collections.PathCollection at 0x14e956510>"
       ]
      },
      {
       "metadata": {},
       "output_type": "display_data",
       "png": "[encoded data removed]",
       "text": [
        "<matplotlib.figure.Figure at 0x14b8f9d10>"
       ]
      }
     ],
     "prompt_number": 290
    },
    {
     "cell_type": "code",
     "collapsed": false,
     "input": [
      "from sklearn import linear_model\n",
      "clf = linear_model.Ridge (alpha = .5)\n",
      "clf.fit ([[0, 0], [0, 0], [1, 1]], [0, .1, 1]) \n",
      "print clf.coef_\n",
      "print clf.intercept_\n"
     ],
     "language": "python",
     "metadata": {},
     "outputs": [
      {
       "output_type": "stream",
       "stream": "stdout",
       "text": [
        "[ 0.34545455  0.34545455]\n",
        "0.136363636364\n"
       ]
      }
     ],
     "prompt_number": 296
    },
    {
     "cell_type": "code",
     "collapsed": false,
     "input": [
      "import collections\n",
      "landmark_prediction_idx_dict = collections.defaultdict( list )\n",
      "for idx, i in enumerate( times_locations ):\n",
      "    landmark_prediction_idx_dict[ (i[3], i[4] ) ].append( idx )"
     ],
     "language": "python",
     "metadata": {},
     "outputs": [],
     "prompt_number": 401
    },
    {
     "cell_type": "code",
     "collapsed": false,
     "input": [],
     "language": "python",
     "metadata": {},
     "outputs": [
      {
       "output_type": "stream",
       "stream": "stdout",
       "text": [
        "['0', datetime.datetime(2012, 5, 11, 20, 0), datetime.datetime(2012, 5, 11, 22, 0), 42.343365, -71.057114]\n",
        "(42.352856, -71.042946)\n"
       ]
      }
     ],
     "prompt_number": 396
    },
    {
     "cell_type": "code",
     "collapsed": false,
     "input": [
      "x = [1,2,3]\n",
      "y = [2,3,4]\n",
      "zip(x,y)"
     ],
     "language": "python",
     "metadata": {},
     "outputs": [
      {
       "metadata": {},
       "output_type": "pyout",
       "prompt_number": 402,
       "text": [
        "[(1, 2), (2, 3), (3, 4)]"
       ]
      }
     ],
     "prompt_number": 402
    },
    {
     "cell_type": "code",
     "collapsed": false,
     "input": [
      "landmarks_list = list( landmarks )\n",
      "from sklearn import linear_model\n",
      "\n",
      "final_predictions = []\n",
      "\n",
      "#for feature_limit in range( 1, 61, 5 ):\n",
      "\n",
      "\n",
      "feature_limit = None\n",
      "if 1:\n",
      "    all_train_prediction_rms_errors = []\n",
      "    all_test_predictions_rms_errors = []\n",
      "    for landmark_idx, landmark in enumerate( landmarks_list ):\n",
      "        #sys.stderr.write( \"%s \" % landmark_idx )\n",
      "        #train_features = numpy.array( [ featurize( i[0], feature_limit ) for i in landmark_train_dict[landmark] ] )\n",
      "        #train_y = numpy.array( [i[1] for i in landmark_train_dict[landmark] ] )\n",
      "        \n",
      "        # for balanced training set\n",
      "        test_start_dts = [ times_locations[idx][1].hour / 2 * 2 for idx in landmark_prediction_idx_dict[landmark] ]\n",
      "        start_time_counts = collections.Counter( test_start_dts )\n",
      "        total_start_time_counts = float( sum( start_time_counts.values() ) )\n",
      "        num_training_points = len( landmark_train_dict[landmark] ) \n",
      "        \n",
      "        current_training_points = 0\n",
      "        \n",
      "        train_data = [ i for i in landmark_train_dict[landmark] if i[0].hour in start_time_counts ]\n",
      "        train_features = numpy.array( [ featurize( i[0], feature_limit ) for i in train_data ] )\n",
      "        train_y = numpy.array( [i[1] for i in train_data ] )\n",
      "        \n",
      "        #for i in range( num_training_points ):\n",
      "            \n",
      "        \n",
      "        if len( train_features ) == 0:\n",
      "            prediction_indices = [ times_locations[idx][0] for idx in landmark_prediction_idx_dict[landmark] ]\n",
      "            test_predictions = [ 0 for  idx in landmark_prediction_idx_dict[landmark] ]\n",
      "            #print prediction_indices\n",
      "        else:\n",
      "            clf = linear_model.Ridge(alpha = .5)\n",
      "            #print landmark\n",
      "            #print len( train_features )\n",
      "            clf.fit( train_features, train_y )\n",
      "            #print collections.Counter( train_y )\n",
      "            \n",
      "            val_data = [ i for i in landmark_test_dict[landmark] if i[0].hour in start_time_counts ]\n",
      "            val_features = numpy.array( [ featurize( i[0], feature_limit ) for i in val_data ] )\n",
      "            \n",
      "            validation_features = numpy.array( [ featurize(i[0], feature_limit ) for i in val_data ] )\n",
      "            validation_y = numpy.array( [i[1] for i in val_data ] )\n",
      "            predictions = clf.predict( train_features )\n",
      "            #print clf.coef_\n",
      "            #print landmark \n",
      "            #print \"TRAIN\", \n",
      "            \n",
      "            all_train_prediction_rms_errors += [ numpy.sqrt((predictions[idx] - train_y[idx])**2) for idx in range(len(predictions)) ]\n",
      "            predictions = clf.predict( validation_features )\n",
      "            #print \"TEST\",\n",
      "            #print landmark, \n",
      "            all_test_predictions_rms_errors += [ numpy.sqrt((predictions[idx] - validation_y[idx])**2) for idx in range(len(predictions)) ]\n",
      "            #print numpy.sum( [ numpy.sqrt((predictions[idx] - validation_y[idx] )**2) for idx in range(len(predictions)) ] ) / len( predictions )\n",
      "            #print numpy.sum( [ numpy.sqrt((predictions[idx] - landmark_test_dict[landmark][idx][1])**2) for i in range(len(predictions)) ] ) / len( predictions )\n",
      "            #print \"\\n\"\n",
      "            \n",
      "            # train on all of the data\n",
      "            full_train_features = numpy.vstack( ( train_features, validation_features ) )\n",
      "            full_train_y = numpy.hstack( ( train_y, validation_y ) )\n",
      "            \n",
      "            clf = linear_model.Ridge(alpha = .5)\n",
      "            clf.fit( full_train_features, full_train_y )\n",
      "            \n",
      "            prediction_indices = [ times_locations[idx][0] for idx in landmark_prediction_idx_dict[landmark] ]\n",
      "            start_dts = [ times_locations[idx][1] for idx in landmark_prediction_idx_dict[landmark] ]\n",
      "            test_features = numpy.array( [ featurize(i, feature_limit ) for i in start_dts ] )\n",
      "            test_predictions = clf.predict( test_features )\n",
      "        final_predictions += zip( prediction_indices, test_predictions )\n",
      "        #print clf.coef_[-1], \n",
      "    print feature_limit\n",
      "    print \"Average RMS Train Error:\",\n",
      "    print numpy.average( all_train_prediction_rms_errors )\n",
      "    print \"Average RMS Test Error:\", \n",
      "    print numpy.average( all_test_predictions_rms_errors )\n",
      "    print \"\\n\"    \n",
      "pickups_guess = dict( final_predictions )\n",
      "    \n",
      "    "
     ],
     "language": "python",
     "metadata": {},
     "outputs": [
      {
       "output_type": "stream",
       "stream": "stdout",
       "text": [
        "None\n",
        "Average RMS Train Error: 9.44743368788\n",
        "Average RMS Test Error: 9.79651920147\n",
        "\n",
        "\n"
       ]
      }
     ],
     "prompt_number": 565
    },
    {
     "cell_type": "code",
     "collapsed": false,
     "input": [
      "t_ids = [ int(i) for i in pickups_guess.keys() ]\n",
      "t_ids.sort()\n",
      "\n",
      "write = True\n",
      "output_file = '../submissions/026.txt' \n",
      "import os\n",
      "\n",
      "if write: \n",
      "    pass\n",
      "else:\n",
      "    output_file = 'tmp.txt'\n",
      "\n",
      "with open( output_file, 'w' ) as f:\n",
      "    for t_id in t_ids:\n",
      "        output_string = \"%s %s\" % ( t_id, max(  int( round( pickups_guess[str(t_id)], 0 )), 0 ) )\n",
      "        print output_string\n",
      "        if write:\n",
      "            f.write( output_string + \"\\n\" )\n",
      "        else:\n",
      "            pass"
     ],
     "language": "python",
     "metadata": {},
     "outputs": [
      {
       "output_type": "stream",
       "stream": "stdout",
       "text": [
        "0 7\n",
        "1 5\n",
        "2 60\n",
        "3 41\n",
        "4 38\n",
        "5 41\n",
        "6 130\n",
        "7 101\n",
        "8 0\n",
        "9 64\n",
        "10 8\n",
        "11 9\n",
        "12 23\n",
        "13 49\n",
        "14 24\n",
        "15 86\n",
        "16 3\n",
        "17 0\n",
        "18 85\n",
        "19 79\n",
        "20 65\n",
        "21 74\n",
        "22 5\n",
        "23 67\n",
        "24 16\n",
        "25 52\n",
        "26 72\n",
        "27 52\n",
        "28 102\n",
        "29 0\n",
        "30 154\n",
        "31 43\n",
        "32 20\n",
        "33 8\n",
        "34 19\n",
        "35 2\n",
        "36 0\n",
        "37 34\n",
        "38 18\n",
        "39 40\n",
        "40 29\n",
        "41 106\n",
        "42 46\n",
        "43 0\n",
        "44 31\n",
        "45 3\n",
        "46 3\n",
        "47 13\n",
        "48 22\n",
        "49 10\n",
        "50 64\n",
        "51 1\n",
        "52 0\n",
        "53 53\n",
        "54 34\n",
        "55 38\n",
        "56 30\n",
        "57 2\n",
        "58 37\n",
        "59 10\n",
        "60 26\n",
        "61 24\n",
        "62 33\n",
        "63 20\n",
        "64 0\n",
        "65 66\n",
        "66 7\n",
        "67 12\n",
        "68 2\n",
        "69 2\n",
        "70 7\n",
        "71 0\n",
        "72 50\n",
        "73 32\n",
        "74 29\n",
        "75 45\n",
        "76 124\n",
        "77 96\n",
        "78 0\n",
        "79 51\n",
        "80 7\n",
        "81 7\n",
        "82 17\n",
        "83 47\n",
        "84 21\n",
        "85 106\n",
        "86 2\n",
        "87 0\n",
        "88 76\n",
        "89 62\n",
        "90 67\n",
        "91 63\n",
        "92 8\n",
        "93 55\n",
        "94 18\n",
        "95 44\n",
        "96 67\n",
        "97 42\n",
        "98 32\n",
        "99 0\n",
        "100 145\n",
        "101 33\n",
        "102 16\n",
        "103 8\n",
        "104 12\n",
        "105 4\n",
        "106 0\n",
        "107 32\n",
        "108 13\n",
        "109 20\n",
        "110 20\n",
        "111 32\n",
        "112 28\n",
        "113 0\n",
        "114 32\n",
        "115 5\n",
        "116 3\n",
        "117 12\n",
        "118 14\n",
        "119 10\n",
        "120 22\n",
        "121 2\n",
        "122 0\n",
        "123 31\n",
        "124 32\n",
        "125 21\n",
        "126 26\n",
        "127 0\n",
        "128 33\n",
        "129 3\n",
        "130 30\n",
        "131 18\n",
        "132 33\n",
        "133 29\n",
        "134 0\n",
        "135 50\n",
        "136 14\n",
        "137 11\n",
        "138 0\n",
        "139 3\n",
        "140 13\n",
        "141 92\n",
        "142 5\n",
        "143 6\n",
        "144 2\n",
        "145 0\n",
        "146 49\n",
        "147 1\n",
        "148 3\n",
        "149 7\n",
        "150 9\n",
        "151 30\n",
        "152 0\n",
        "153 43\n",
        "154 3\n",
        "155 3\n",
        "156 3\n",
        "157 14\n",
        "158 4\n",
        "159 26\n",
        "160 2\n",
        "161 0\n",
        "162 9\n",
        "163 50\n",
        "164 21\n",
        "165 18\n",
        "166 24\n",
        "167 52\n",
        "168 4\n",
        "169 35\n",
        "170 22\n",
        "171 21\n",
        "172 21\n",
        "173 0\n",
        "174 22\n",
        "175 7\n",
        "176 1\n",
        "177 4\n",
        "178 9\n",
        "179 5\n",
        "180 7\n",
        "181 0\n",
        "182 56\n",
        "183 36\n",
        "184 42\n",
        "185 41\n",
        "186 131\n",
        "187 100\n",
        "188 0\n",
        "189 60\n",
        "190 6\n",
        "191 7\n",
        "192 23\n",
        "193 49\n",
        "194 22\n",
        "195 91\n",
        "196 2\n",
        "197 0\n",
        "198 83\n",
        "199 73\n",
        "200 69\n",
        "201 71\n",
        "202 7\n",
        "203 61\n",
        "204 16\n",
        "205 50\n",
        "206 71\n",
        "207 49\n",
        "208 30\n",
        "209 0\n",
        "210 150\n",
        "211 38\n",
        "212 19\n",
        "213 8\n",
        "214 17\n",
        "215 4\n",
        "216 1\n",
        "217 44\n",
        "218 25\n",
        "219 25\n",
        "220 39\n",
        "221 127\n",
        "222 87\n",
        "223 0\n",
        "224 43\n",
        "225 4\n",
        "226 7\n",
        "227 25\n",
        "228 39\n",
        "229 12\n",
        "230 101\n",
        "231 2\n",
        "232 0\n",
        "233 55\n",
        "234 55\n",
        "235 55\n",
        "236 54\n",
        "237 7\n",
        "238 47\n",
        "239 12\n",
        "240 34\n",
        "241 46\n",
        "242 32\n",
        "243 72\n",
        "244 0\n",
        "245 111\n",
        "246 25\n",
        "247 10\n",
        "248 7\n",
        "249 10\n",
        "250 2\n",
        "251 4\n",
        "252 48\n",
        "253 18\n",
        "254 21\n",
        "255 15\n",
        "256 65\n",
        "257 64\n",
        "258 0\n",
        "259 46\n",
        "260 1\n",
        "261 5\n",
        "262 34\n",
        "263 32\n",
        "264 13\n",
        "265 28\n",
        "266 2\n",
        "267 0\n",
        "268 42\n",
        "269 58\n",
        "270 34\n",
        "271 53\n",
        "272 10\n",
        "273 51\n",
        "274 9\n",
        "275 39\n",
        "276 43\n",
        "277 18\n",
        "278 15\n",
        "279 0\n",
        "280 85\n",
        "281 36\n",
        "282 13\n",
        "283 5\n",
        "284 8\n",
        "285 6\n",
        "286 4\n",
        "287 2\n",
        "288 10\n",
        "289 13\n",
        "290 6\n",
        "291 18\n",
        "292 42\n",
        "293 48\n",
        "294 0\n",
        "295 11\n",
        "296 4\n",
        "297 5\n",
        "298 5\n",
        "299 11\n",
        "300 8\n",
        "301 33\n",
        "302 2\n",
        "303 0\n",
        "304 23\n",
        "305 18\n",
        "306 19\n",
        "307 23\n",
        "308 6\n",
        "309 11\n",
        "310 4\n",
        "311 10\n",
        "312 29\n",
        "313 25\n",
        "314 8\n",
        "315 0\n",
        "316 56\n",
        "317 25\n",
        "318 5\n",
        "319 4\n",
        "320 9\n",
        "321 3\n",
        "322 15\n",
        "323 33\n",
        "324 10\n",
        "325 12\n",
        "326 14\n",
        "327 44\n",
        "328 27\n",
        "329 0\n",
        "330 33\n",
        "331 2\n",
        "332 0\n",
        "333 19\n",
        "334 17\n",
        "335 3\n",
        "336 11\n",
        "337 1\n",
        "338 0\n",
        "339 22\n",
        "340 31\n",
        "341 24\n",
        "342 27\n",
        "343 5\n",
        "344 34\n",
        "345 0\n",
        "346 27\n",
        "347 17\n",
        "348 0\n",
        "349 27\n",
        "350 0\n",
        "351 53\n",
        "352 2\n",
        "353 10\n",
        "354 0\n",
        "355 2\n",
        "356 2\n",
        "357 4\n",
        "358 29\n",
        "359 13\n",
        "360 13\n",
        "361 40\n",
        "362 93\n",
        "363 32\n",
        "364 0\n",
        "365 30\n",
        "366 4\n",
        "367 2\n",
        "368 17\n",
        "369 17\n",
        "370 5\n",
        "371 9\n",
        "372 1\n",
        "373 0\n",
        "374 29\n",
        "375 38\n",
        "376 20\n",
        "377 34\n",
        "378 8\n",
        "379 32\n",
        "380 1\n",
        "381 24\n",
        "382 19\n",
        "383 9\n",
        "384 24\n",
        "385 0\n",
        "386 64\n",
        "387 18\n",
        "388 9\n",
        "389 0\n",
        "390 7\n",
        "391 0\n",
        "392 85\n",
        "393 7\n",
        "394 33\n",
        "395 0\n",
        "396 0\n",
        "397 29\n",
        "398 12\n",
        "399 17\n",
        "400 28\n",
        "401 26\n",
        "402 16\n",
        "403 0\n",
        "404 23\n",
        "405 4\n",
        "406 5\n",
        "407 7\n",
        "408 11\n",
        "409 7\n",
        "410 25\n",
        "411 6\n",
        "412 0\n",
        "413 28\n",
        "414 24\n",
        "415 23\n",
        "416 20\n",
        "417 4\n",
        "418 29\n",
        "419 4\n",
        "420 22\n",
        "421 13\n",
        "422 0\n",
        "423 24\n",
        "424 0\n",
        "425 43\n",
        "426 5\n",
        "427 12\n",
        "428 1\n",
        "429 0\n",
        "430 2\n",
        "431 1\n",
        "432 24\n",
        "433 10\n",
        "434 15\n",
        "435 32\n",
        "436 26\n",
        "437 7\n",
        "438 0\n",
        "439 24\n",
        "440 2\n",
        "441 0\n",
        "442 13\n",
        "443 15\n",
        "444 7\n",
        "445 12\n",
        "446 2\n",
        "447 0\n",
        "448 23\n",
        "449 17\n",
        "450 29\n",
        "451 18\n",
        "452 0\n",
        "453 23\n",
        "454 1\n",
        "455 23\n",
        "456 13\n",
        "457 0\n",
        "458 11\n",
        "459 0\n",
        "460 33\n",
        "461 0\n",
        "462 9\n",
        "463 3\n",
        "464 0\n",
        "465 3\n",
        "466 0\n",
        "467 22\n",
        "468 10\n",
        "469 10\n",
        "470 31\n",
        "471 54\n",
        "472 13\n",
        "473 0\n",
        "474 23\n",
        "475 3\n",
        "476 2\n",
        "477 13\n",
        "478 12\n",
        "479 7\n",
        "480 0\n",
        "481 3\n",
        "482 0\n",
        "483 25\n",
        "484 24\n",
        "485 9\n",
        "486 22\n",
        "487 1\n",
        "488 24\n",
        "489 1\n",
        "490 19\n",
        "491 10\n",
        "492 9\n",
        "493 40\n",
        "494 0\n",
        "495 19\n",
        "496 13\n",
        "497 7\n",
        "498 0\n",
        "499 2\n",
        "500 4\n",
        "501 0\n",
        "502 28\n",
        "503 11\n",
        "504 14\n",
        "505 25\n",
        "506 23\n",
        "507 21\n",
        "508 0\n",
        "509 28\n",
        "510 0\n",
        "511 2\n",
        "512 9\n",
        "513 13\n",
        "514 11\n",
        "515 17\n",
        "516 2\n",
        "517 0\n",
        "518 30\n",
        "519 32\n",
        "520 15\n",
        "521 28\n",
        "522 0\n",
        "523 29\n",
        "524 1\n",
        "525 25\n",
        "526 17\n",
        "527 11\n",
        "528 0\n",
        "529 0\n",
        "530 33\n",
        "531 15\n",
        "532 9\n",
        "533 0\n",
        "534 0\n",
        "535 5\n",
        "536 3\n",
        "537 35\n",
        "538 16\n",
        "539 28\n",
        "540 33\n",
        "541 100\n",
        "542 57\n",
        "543 0\n",
        "544 34\n",
        "545 2\n",
        "546 1\n",
        "547 11\n",
        "548 31\n",
        "549 12\n",
        "550 82\n",
        "551 3\n",
        "552 0\n",
        "553 59\n",
        "554 35\n",
        "555 53\n",
        "556 42\n",
        "557 0\n",
        "558 36\n",
        "559 11\n",
        "560 28\n",
        "561 32\n",
        "562 6\n",
        "563 27\n",
        "564 0\n",
        "565 69\n",
        "566 5\n",
        "567 12\n",
        "568 1\n",
        "569 0\n",
        "570 6\n",
        "571 6\n",
        "572 45\n",
        "573 20\n",
        "574 27\n",
        "575 20\n",
        "576 74\n",
        "577 53\n",
        "578 0\n",
        "579 46\n",
        "580 2\n",
        "581 3\n",
        "582 28\n",
        "583 34\n",
        "584 10\n",
        "585 27\n",
        "586 1\n",
        "587 0\n",
        "588 41\n",
        "589 54\n",
        "590 35\n",
        "591 60\n",
        "592 0\n",
        "593 51\n",
        "594 6\n",
        "595 36\n",
        "596 29\n",
        "597 19\n",
        "598 22\n",
        "599 0\n",
        "600 98\n",
        "601 19\n",
        "602 20\n",
        "603 4\n",
        "604 1\n",
        "605 5\n",
        "606 1\n",
        "607 33\n",
        "608 21\n",
        "609 21\n",
        "610 32\n",
        "611 96\n",
        "612 70\n",
        "613 0\n",
        "614 31\n",
        "615 5\n",
        "616 3\n",
        "617 10\n",
        "618 32\n",
        "619 9\n",
        "620 91\n",
        "621 3\n",
        "622 0\n",
        "623 56\n",
        "624 35\n",
        "625 54\n",
        "626 42\n",
        "627 9\n",
        "628 34\n",
        "629 12\n",
        "630 24\n",
        "631 39\n",
        "632 25\n",
        "633 44\n",
        "634 0\n",
        "635 94\n",
        "636 14\n",
        "637 11\n",
        "638 2\n",
        "639 1\n",
        "640 29\n",
        "641 48\n",
        "642 7\n",
        "643 0\n",
        "644 68\n",
        "645 39\n",
        "646 35\n",
        "647 56\n",
        "648 141\n",
        "649 125\n",
        "650 0\n",
        "651 68\n",
        "652 8\n",
        "653 12\n",
        "654 23\n",
        "655 54\n",
        "656 26\n",
        "657 126\n",
        "658 5\n",
        "659 0\n",
        "660 93\n",
        "661 83\n",
        "662 84\n",
        "663 83\n",
        "664 9\n",
        "665 74\n",
        "666 22\n",
        "667 57\n",
        "668 80\n",
        "669 50\n",
        "670 76\n",
        "671 0\n",
        "672 178\n",
        "673 43\n",
        "674 18\n",
        "675 11\n",
        "676 17\n",
        "677 0\n"
       ]
      }
     ],
     "prompt_number": 566
    },
    {
     "cell_type": "code",
     "collapsed": false,
     "input": [
      "print [ i for i in landmark if ( i[-2], i[-1] ) == (42.358086, -71.127762) ]"
     ],
     "language": "python",
     "metadata": {},
     "outputs": [
      {
       "output_type": "stream",
       "stream": "stdout",
       "text": [
        "[]\n"
       ]
      }
     ],
     "prompt_number": 413
    },
    {
     "cell_type": "code",
     "collapsed": false,
     "input": [
      "print landmark_prediction_idx_dict[(42.358086, -71.127762)]"
     ],
     "language": "python",
     "metadata": {},
     "outputs": [
      {
       "output_type": "stream",
       "stream": "stdout",
       "text": [
        "[8, 43, 78, 113, 152, 188, 223, 258, 294, 329, 364, 403, 438, 473, 508, 543, 578, 613, 650]\n"
       ]
      }
     ],
     "prompt_number": 414
    },
    {
     "cell_type": "code",
     "collapsed": false,
     "input": [
      "print numpy.array( features )[:5]"
     ],
     "language": "python",
     "metadata": {},
     "outputs": [
      {
       "output_type": "stream",
       "stream": "stdout",
       "text": [
        "[[ 7  8 33]\n",
        " [ 4  6 23]\n",
        " [ 2 11 46]\n",
        " [ 7  6 22]\n",
        " [ 3  5 22]]\n"
       ]
      }
     ],
     "prompt_number": 331
    },
    {
     "cell_type": "code",
     "collapsed": false,
     "input": [
      "pickups_guess = {}\n",
      "for entry in times_locations: \n",
      "    sys.stderr.write( entry[0] + \" \" )\n",
      "    landmark_pickups = landmark_pickup_dict[ ( entry[3], entry[4] ) ]\n",
      "    \n",
      "    hours = [ pickups[i][0].hour for i in landmark_pickups ]\n",
      "    hours_count = collections.Counter( hours )\n",
      "    days = [ pickups[i][0].date() for i in landmark_pickups ]\n",
      "    num_days = len( set( days ) )\n",
      "    \n",
      "    start_hour = entry[1].hour\n",
      "    end_hour = entry[2].hour - 1\n",
      "    total_pickups_in_interval = hours_count[start_hour] + hours_count[end_hour]\n",
      "    if len( hours ) != 0:\n",
      "    \n",
      "        fraction_of_pickups = float( total_pickups_in_interval ) / len( hours ) / num_days\n",
      "    else: \n",
      "        fraction_of_pickups = 1.0\n",
      "    \n",
      "    float_estimate = len(landmark_pickups) * fraction_of_pickups\n",
      "    pickups_guess[entry[0]] = int( round( float_estimate, 0 ) )\n"
     ],
     "language": "python",
     "metadata": {},
     "outputs": [
      {
       "output_type": "stream",
       "stream": "stderr",
       "text": [
        "0 1 2 3 "
       ]
      },
      {
       "output_type": "stream",
       "stream": "stderr",
       "text": [
        "4 5 "
       ]
      },
      {
       "output_type": "stream",
       "stream": "stderr",
       "text": [
        "6 7 "
       ]
      },
      {
       "output_type": "stream",
       "stream": "stderr",
       "text": [
        "8 9 10 "
       ]
      },
      {
       "output_type": "stream",
       "stream": "stderr",
       "text": [
        "11 12 13 "
       ]
      },
      {
       "output_type": "stream",
       "stream": "stderr",
       "text": [
        "14 15 "
       ]
      },
      {
       "output_type": "stream",
       "stream": "stderr",
       "text": [
        "16 17 18 19 "
       ]
      },
      {
       "output_type": "stream",
       "stream": "stderr",
       "text": [
        "20 21 "
       ]
      },
      {
       "output_type": "stream",
       "stream": "stderr",
       "text": [
        "22 23 24 "
       ]
      },
      {
       "output_type": "stream",
       "stream": "stderr",
       "text": [
        "25 26 "
       ]
      },
      {
       "output_type": "stream",
       "stream": "stderr",
       "text": [
        "27 28 "
       ]
      },
      {
       "output_type": "stream",
       "stream": "stderr",
       "text": [
        "29 30 31 "
       ]
      },
      {
       "output_type": "stream",
       "stream": "stderr",
       "text": [
        "32 33 "
       ]
      },
      {
       "output_type": "stream",
       "stream": "stderr",
       "text": [
        "34 35 36 "
       ]
      },
      {
       "output_type": "stream",
       "stream": "stderr",
       "text": [
        "37 38 "
       ]
      },
      {
       "output_type": "stream",
       "stream": "stderr",
       "text": [
        "39 40 "
       ]
      },
      {
       "output_type": "stream",
       "stream": "stderr",
       "text": [
        "41 42 "
       ]
      },
      {
       "output_type": "stream",
       "stream": "stderr",
       "text": [
        "43 44 45 "
       ]
      },
      {
       "output_type": "stream",
       "stream": "stderr",
       "text": [
        "46 47 48 "
       ]
      },
      {
       "output_type": "stream",
       "stream": "stderr",
       "text": [
        "49 50 "
       ]
      },
      {
       "output_type": "stream",
       "stream": "stderr",
       "text": [
        "51 52 53 54 "
       ]
      },
      {
       "output_type": "stream",
       "stream": "stderr",
       "text": [
        "55 56 "
       ]
      },
      {
       "output_type": "stream",
       "stream": "stderr",
       "text": [
        "57 58 59 "
       ]
      },
      {
       "output_type": "stream",
       "stream": "stderr",
       "text": [
        "60 61 "
       ]
      },
      {
       "output_type": "stream",
       "stream": "stderr",
       "text": [
        "62 63 "
       ]
      },
      {
       "output_type": "stream",
       "stream": "stderr",
       "text": [
        "64 65 66 "
       ]
      },
      {
       "output_type": "stream",
       "stream": "stderr",
       "text": [
        "67 68 "
       ]
      },
      {
       "output_type": "stream",
       "stream": "stderr",
       "text": [
        "69 70 71 "
       ]
      },
      {
       "output_type": "stream",
       "stream": "stderr",
       "text": [
        "72 73 "
       ]
      },
      {
       "output_type": "stream",
       "stream": "stderr",
       "text": [
        "74 75 "
       ]
      },
      {
       "output_type": "stream",
       "stream": "stderr",
       "text": [
        "76 77 "
       ]
      },
      {
       "output_type": "stream",
       "stream": "stderr",
       "text": [
        "78 79 80 "
       ]
      },
      {
       "output_type": "stream",
       "stream": "stderr",
       "text": [
        "81 82 83 "
       ]
      },
      {
       "output_type": "stream",
       "stream": "stderr",
       "text": [
        "84 85 "
       ]
      },
      {
       "output_type": "stream",
       "stream": "stderr",
       "text": [
        "86 87 88 89 "
       ]
      },
      {
       "output_type": "stream",
       "stream": "stderr",
       "text": [
        "90 91 "
       ]
      },
      {
       "output_type": "stream",
       "stream": "stderr",
       "text": [
        "92 93 94 "
       ]
      },
      {
       "output_type": "stream",
       "stream": "stderr",
       "text": [
        "95 96 "
       ]
      },
      {
       "output_type": "stream",
       "stream": "stderr",
       "text": [
        "97 98 "
       ]
      },
      {
       "output_type": "stream",
       "stream": "stderr",
       "text": [
        "99 100 101 "
       ]
      },
      {
       "output_type": "stream",
       "stream": "stderr",
       "text": [
        "102 103 "
       ]
      },
      {
       "output_type": "stream",
       "stream": "stderr",
       "text": [
        "104 105 106 "
       ]
      },
      {
       "output_type": "stream",
       "stream": "stderr",
       "text": [
        "107 108 "
       ]
      },
      {
       "output_type": "stream",
       "stream": "stderr",
       "text": [
        "109 110 "
       ]
      },
      {
       "output_type": "stream",
       "stream": "stderr",
       "text": [
        "111 112 "
       ]
      },
      {
       "output_type": "stream",
       "stream": "stderr",
       "text": [
        "113 114 115 "
       ]
      },
      {
       "output_type": "stream",
       "stream": "stderr",
       "text": [
        "116 117 118 "
       ]
      },
      {
       "output_type": "stream",
       "stream": "stderr",
       "text": [
        "119 120 "
       ]
      },
      {
       "output_type": "stream",
       "stream": "stderr",
       "text": [
        "121 122 123 124 "
       ]
      },
      {
       "output_type": "stream",
       "stream": "stderr",
       "text": [
        "125 126 "
       ]
      },
      {
       "output_type": "stream",
       "stream": "stderr",
       "text": [
        "127 128 129 "
       ]
      },
      {
       "output_type": "stream",
       "stream": "stderr",
       "text": [
        "130 131 "
       ]
      },
      {
       "output_type": "stream",
       "stream": "stderr",
       "text": [
        "132 133 "
       ]
      },
      {
       "output_type": "stream",
       "stream": "stderr",
       "text": [
        "134 135 136 "
       ]
      },
      {
       "output_type": "stream",
       "stream": "stderr",
       "text": [
        "137 138 "
       ]
      },
      {
       "output_type": "stream",
       "stream": "stderr",
       "text": [
        "139 140 141 "
       ]
      },
      {
       "output_type": "stream",
       "stream": "stderr",
       "text": [
        "142 143 144 145 146 "
       ]
      },
      {
       "output_type": "stream",
       "stream": "stderr",
       "text": [
        "147 148 "
       ]
      },
      {
       "output_type": "stream",
       "stream": "stderr",
       "text": [
        "149 150 "
       ]
      },
      {
       "output_type": "stream",
       "stream": "stderr",
       "text": [
        "151 152 "
       ]
      },
      {
       "output_type": "stream",
       "stream": "stderr",
       "text": [
        "153 154 "
       ]
      },
      {
       "output_type": "stream",
       "stream": "stderr",
       "text": [
        "155 156 157 "
       ]
      },
      {
       "output_type": "stream",
       "stream": "stderr",
       "text": [
        "158 159 "
       ]
      },
      {
       "output_type": "stream",
       "stream": "stderr",
       "text": [
        "160 161 162 163 "
       ]
      },
      {
       "output_type": "stream",
       "stream": "stderr",
       "text": [
        "164 165 "
       ]
      },
      {
       "output_type": "stream",
       "stream": "stderr",
       "text": [
        "166 167 168 "
       ]
      },
      {
       "output_type": "stream",
       "stream": "stderr",
       "text": [
        "169 170 "
       ]
      },
      {
       "output_type": "stream",
       "stream": "stderr",
       "text": [
        "171 172 "
       ]
      },
      {
       "output_type": "stream",
       "stream": "stderr",
       "text": [
        "173 174 175 "
       ]
      },
      {
       "output_type": "stream",
       "stream": "stderr",
       "text": [
        "176 177 "
       ]
      },
      {
       "output_type": "stream",
       "stream": "stderr",
       "text": [
        "178 179 180 "
       ]
      },
      {
       "output_type": "stream",
       "stream": "stderr",
       "text": [
        "181 182 183 "
       ]
      },
      {
       "output_type": "stream",
       "stream": "stderr",
       "text": [
        "184 185 "
       ]
      },
      {
       "output_type": "stream",
       "stream": "stderr",
       "text": [
        "186 187 "
       ]
      },
      {
       "output_type": "stream",
       "stream": "stderr",
       "text": [
        "188 189 190 "
       ]
      },
      {
       "output_type": "stream",
       "stream": "stderr",
       "text": [
        "191 192 193 "
       ]
      },
      {
       "output_type": "stream",
       "stream": "stderr",
       "text": [
        "194 195 "
       ]
      },
      {
       "output_type": "stream",
       "stream": "stderr",
       "text": [
        "196 197 198 199 "
       ]
      },
      {
       "output_type": "stream",
       "stream": "stderr",
       "text": [
        "200 201 "
       ]
      },
      {
       "output_type": "stream",
       "stream": "stderr",
       "text": [
        "202 203 204 "
       ]
      },
      {
       "output_type": "stream",
       "stream": "stderr",
       "text": [
        "205 206 "
       ]
      },
      {
       "output_type": "stream",
       "stream": "stderr",
       "text": [
        "207 208 "
       ]
      },
      {
       "output_type": "stream",
       "stream": "stderr",
       "text": [
        "209 210 211 "
       ]
      },
      {
       "output_type": "stream",
       "stream": "stderr",
       "text": [
        "212 213 "
       ]
      },
      {
       "output_type": "stream",
       "stream": "stderr",
       "text": [
        "214 215 216 "
       ]
      },
      {
       "output_type": "stream",
       "stream": "stderr",
       "text": [
        "217 218 "
       ]
      },
      {
       "output_type": "stream",
       "stream": "stderr",
       "text": [
        "219 220 "
       ]
      },
      {
       "output_type": "stream",
       "stream": "stderr",
       "text": [
        "221 222 "
       ]
      },
      {
       "output_type": "stream",
       "stream": "stderr",
       "text": [
        "223 224 225 "
       ]
      },
      {
       "output_type": "stream",
       "stream": "stderr",
       "text": [
        "226 227 228 "
       ]
      },
      {
       "output_type": "stream",
       "stream": "stderr",
       "text": [
        "229 230 "
       ]
      },
      {
       "output_type": "stream",
       "stream": "stderr",
       "text": [
        "231 232 233 234 "
       ]
      },
      {
       "output_type": "stream",
       "stream": "stderr",
       "text": [
        "235 236 "
       ]
      },
      {
       "output_type": "stream",
       "stream": "stderr",
       "text": [
        "237 238 239 "
       ]
      },
      {
       "output_type": "stream",
       "stream": "stderr",
       "text": [
        "240 241 "
       ]
      },
      {
       "output_type": "stream",
       "stream": "stderr",
       "text": [
        "242 243 "
       ]
      },
      {
       "output_type": "stream",
       "stream": "stderr",
       "text": [
        "244 245 246 "
       ]
      },
      {
       "output_type": "stream",
       "stream": "stderr",
       "text": [
        "247 248 "
       ]
      },
      {
       "output_type": "stream",
       "stream": "stderr",
       "text": [
        "249 250 251 "
       ]
      },
      {
       "output_type": "stream",
       "stream": "stderr",
       "text": [
        "252 253 "
       ]
      },
      {
       "output_type": "stream",
       "stream": "stderr",
       "text": [
        "254 255 "
       ]
      },
      {
       "output_type": "stream",
       "stream": "stderr",
       "text": [
        "256 257 "
       ]
      },
      {
       "output_type": "stream",
       "stream": "stderr",
       "text": [
        "258 259 260 "
       ]
      },
      {
       "output_type": "stream",
       "stream": "stderr",
       "text": [
        "261 262 263 "
       ]
      },
      {
       "output_type": "stream",
       "stream": "stderr",
       "text": [
        "264 265 "
       ]
      },
      {
       "output_type": "stream",
       "stream": "stderr",
       "text": [
        "266 267 268 269 "
       ]
      },
      {
       "output_type": "stream",
       "stream": "stderr",
       "text": [
        "270 271 "
       ]
      },
      {
       "output_type": "stream",
       "stream": "stderr",
       "text": [
        "272 273 274 "
       ]
      },
      {
       "output_type": "stream",
       "stream": "stderr",
       "text": [
        "275 276 "
       ]
      },
      {
       "output_type": "stream",
       "stream": "stderr",
       "text": [
        "277 278 "
       ]
      },
      {
       "output_type": "stream",
       "stream": "stderr",
       "text": [
        "279 280 281 "
       ]
      },
      {
       "output_type": "stream",
       "stream": "stderr",
       "text": [
        "282 283 "
       ]
      },
      {
       "output_type": "stream",
       "stream": "stderr",
       "text": [
        "284 285 286 "
       ]
      },
      {
       "output_type": "stream",
       "stream": "stderr",
       "text": [
        "287 288 289 "
       ]
      },
      {
       "output_type": "stream",
       "stream": "stderr",
       "text": [
        "290 291 "
       ]
      },
      {
       "output_type": "stream",
       "stream": "stderr",
       "text": [
        "292 293 "
       ]
      },
      {
       "output_type": "stream",
       "stream": "stderr",
       "text": [
        "294 295 296 "
       ]
      },
      {
       "output_type": "stream",
       "stream": "stderr",
       "text": [
        "297 298 299 "
       ]
      },
      {
       "output_type": "stream",
       "stream": "stderr",
       "text": [
        "300 301 "
       ]
      },
      {
       "output_type": "stream",
       "stream": "stderr",
       "text": [
        "302 303 304 305 "
       ]
      },
      {
       "output_type": "stream",
       "stream": "stderr",
       "text": [
        "306 307 "
       ]
      },
      {
       "output_type": "stream",
       "stream": "stderr",
       "text": [
        "308 309 310 "
       ]
      },
      {
       "output_type": "stream",
       "stream": "stderr",
       "text": [
        "311 312 "
       ]
      },
      {
       "output_type": "stream",
       "stream": "stderr",
       "text": [
        "313 314 "
       ]
      },
      {
       "output_type": "stream",
       "stream": "stderr",
       "text": [
        "315 316 317 "
       ]
      },
      {
       "output_type": "stream",
       "stream": "stderr",
       "text": [
        "318 319 "
       ]
      },
      {
       "output_type": "stream",
       "stream": "stderr",
       "text": [
        "320 321 322 "
       ]
      },
      {
       "output_type": "stream",
       "stream": "stderr",
       "text": [
        "323 324 "
       ]
      },
      {
       "output_type": "stream",
       "stream": "stderr",
       "text": [
        "325 326 "
       ]
      },
      {
       "output_type": "stream",
       "stream": "stderr",
       "text": [
        "327 328 "
       ]
      },
      {
       "output_type": "stream",
       "stream": "stderr",
       "text": [
        "329 330 331 "
       ]
      },
      {
       "output_type": "stream",
       "stream": "stderr",
       "text": [
        "332 333 334 "
       ]
      },
      {
       "output_type": "stream",
       "stream": "stderr",
       "text": [
        "335 336 "
       ]
      },
      {
       "output_type": "stream",
       "stream": "stderr",
       "text": [
        "337 338 339 340 "
       ]
      },
      {
       "output_type": "stream",
       "stream": "stderr",
       "text": [
        "341 342 "
       ]
      },
      {
       "output_type": "stream",
       "stream": "stderr",
       "text": [
        "343 344 345 "
       ]
      },
      {
       "output_type": "stream",
       "stream": "stderr",
       "text": [
        "346 347 "
       ]
      },
      {
       "output_type": "stream",
       "stream": "stderr",
       "text": [
        "348 349 "
       ]
      },
      {
       "output_type": "stream",
       "stream": "stderr",
       "text": [
        "350 351 352 "
       ]
      },
      {
       "output_type": "stream",
       "stream": "stderr",
       "text": [
        "353 354 "
       ]
      },
      {
       "output_type": "stream",
       "stream": "stderr",
       "text": [
        "355 356 "
       ]
      },
      {
       "output_type": "stream",
       "stream": "stderr",
       "text": [
        "357 358 359 "
       ]
      },
      {
       "output_type": "stream",
       "stream": "stderr",
       "text": [
        "360 361 "
       ]
      },
      {
       "output_type": "stream",
       "stream": "stderr",
       "text": [
        "362 363 "
       ]
      },
      {
       "output_type": "stream",
       "stream": "stderr",
       "text": [
        "364 365 366 "
       ]
      },
      {
       "output_type": "stream",
       "stream": "stderr",
       "text": [
        "367 368 369 "
       ]
      },
      {
       "output_type": "stream",
       "stream": "stderr",
       "text": [
        "370 371 "
       ]
      },
      {
       "output_type": "stream",
       "stream": "stderr",
       "text": [
        "372 373 374 375 "
       ]
      },
      {
       "output_type": "stream",
       "stream": "stderr",
       "text": [
        "376 377 "
       ]
      },
      {
       "output_type": "stream",
       "stream": "stderr",
       "text": [
        "378 379 380 "
       ]
      },
      {
       "output_type": "stream",
       "stream": "stderr",
       "text": [
        "381 382 "
       ]
      },
      {
       "output_type": "stream",
       "stream": "stderr",
       "text": [
        "383 384 "
       ]
      },
      {
       "output_type": "stream",
       "stream": "stderr",
       "text": [
        "385 386 387 "
       ]
      },
      {
       "output_type": "stream",
       "stream": "stderr",
       "text": [
        "388 389 "
       ]
      },
      {
       "output_type": "stream",
       "stream": "stderr",
       "text": [
        "390 391 392 "
       ]
      },
      {
       "output_type": "stream",
       "stream": "stderr",
       "text": [
        "393 394 395 "
       ]
      },
      {
       "output_type": "stream",
       "stream": "stderr",
       "text": [
        "396 397 398 "
       ]
      },
      {
       "output_type": "stream",
       "stream": "stderr",
       "text": [
        "399 400 "
       ]
      },
      {
       "output_type": "stream",
       "stream": "stderr",
       "text": [
        "401 402 "
       ]
      },
      {
       "output_type": "stream",
       "stream": "stderr",
       "text": [
        "403 404 405 "
       ]
      },
      {
       "output_type": "stream",
       "stream": "stderr",
       "text": [
        "406 407 408 "
       ]
      },
      {
       "output_type": "stream",
       "stream": "stderr",
       "text": [
        "409 410 "
       ]
      },
      {
       "output_type": "stream",
       "stream": "stderr",
       "text": [
        "411 412 413 414 "
       ]
      },
      {
       "output_type": "stream",
       "stream": "stderr",
       "text": [
        "415 416 "
       ]
      },
      {
       "output_type": "stream",
       "stream": "stderr",
       "text": [
        "417 418 419 "
       ]
      },
      {
       "output_type": "stream",
       "stream": "stderr",
       "text": [
        "420 421 "
       ]
      },
      {
       "output_type": "stream",
       "stream": "stderr",
       "text": [
        "422 423 "
       ]
      },
      {
       "output_type": "stream",
       "stream": "stderr",
       "text": [
        "424 425 426 "
       ]
      },
      {
       "output_type": "stream",
       "stream": "stderr",
       "text": [
        "427 428 "
       ]
      },
      {
       "output_type": "stream",
       "stream": "stderr",
       "text": [
        "429 430 431 "
       ]
      },
      {
       "output_type": "stream",
       "stream": "stderr",
       "text": [
        "432 433 "
       ]
      },
      {
       "output_type": "stream",
       "stream": "stderr",
       "text": [
        "434 435 "
       ]
      },
      {
       "output_type": "stream",
       "stream": "stderr",
       "text": [
        "436 437 "
       ]
      },
      {
       "output_type": "stream",
       "stream": "stderr",
       "text": [
        "438 439 440 "
       ]
      },
      {
       "output_type": "stream",
       "stream": "stderr",
       "text": [
        "441 442 443 "
       ]
      },
      {
       "output_type": "stream",
       "stream": "stderr",
       "text": [
        "444 445 "
       ]
      },
      {
       "output_type": "stream",
       "stream": "stderr",
       "text": [
        "446 447 448 449 "
       ]
      },
      {
       "output_type": "stream",
       "stream": "stderr",
       "text": [
        "450 451 "
       ]
      },
      {
       "output_type": "stream",
       "stream": "stderr",
       "text": [
        "452 453 454 "
       ]
      },
      {
       "output_type": "stream",
       "stream": "stderr",
       "text": [
        "455 456 "
       ]
      },
      {
       "output_type": "stream",
       "stream": "stderr",
       "text": [
        "457 458 "
       ]
      },
      {
       "output_type": "stream",
       "stream": "stderr",
       "text": [
        "459 460 461 "
       ]
      },
      {
       "output_type": "stream",
       "stream": "stderr",
       "text": [
        "462 463 "
       ]
      },
      {
       "output_type": "stream",
       "stream": "stderr",
       "text": [
        "464 465 466 "
       ]
      },
      {
       "output_type": "stream",
       "stream": "stderr",
       "text": [
        "467 468 "
       ]
      },
      {
       "output_type": "stream",
       "stream": "stderr",
       "text": [
        "469 470 "
       ]
      },
      {
       "output_type": "stream",
       "stream": "stderr",
       "text": [
        "471 472 "
       ]
      },
      {
       "output_type": "stream",
       "stream": "stderr",
       "text": [
        "473 474 475 "
       ]
      },
      {
       "output_type": "stream",
       "stream": "stderr",
       "text": [
        "476 477 478 "
       ]
      },
      {
       "output_type": "stream",
       "stream": "stderr",
       "text": [
        "479 480 "
       ]
      },
      {
       "output_type": "stream",
       "stream": "stderr",
       "text": [
        "481 482 483 484 "
       ]
      },
      {
       "output_type": "stream",
       "stream": "stderr",
       "text": [
        "485 486 "
       ]
      },
      {
       "output_type": "stream",
       "stream": "stderr",
       "text": [
        "487 488 489 "
       ]
      },
      {
       "output_type": "stream",
       "stream": "stderr",
       "text": [
        "490 491 "
       ]
      },
      {
       "output_type": "stream",
       "stream": "stderr",
       "text": [
        "492 493 "
       ]
      },
      {
       "output_type": "stream",
       "stream": "stderr",
       "text": [
        "494 495 496 "
       ]
      },
      {
       "output_type": "stream",
       "stream": "stderr",
       "text": [
        "497 498 "
       ]
      },
      {
       "output_type": "stream",
       "stream": "stderr",
       "text": [
        "499 500 501 "
       ]
      },
      {
       "output_type": "stream",
       "stream": "stderr",
       "text": [
        "502 503 "
       ]
      },
      {
       "output_type": "stream",
       "stream": "stderr",
       "text": [
        "504 505 "
       ]
      },
      {
       "output_type": "stream",
       "stream": "stderr",
       "text": [
        "506 507 "
       ]
      },
      {
       "output_type": "stream",
       "stream": "stderr",
       "text": [
        "508 509 510 "
       ]
      },
      {
       "output_type": "stream",
       "stream": "stderr",
       "text": [
        "511 512 513 "
       ]
      },
      {
       "output_type": "stream",
       "stream": "stderr",
       "text": [
        "514 515 "
       ]
      },
      {
       "output_type": "stream",
       "stream": "stderr",
       "text": [
        "516 517 518 519 "
       ]
      },
      {
       "output_type": "stream",
       "stream": "stderr",
       "text": [
        "520 521 "
       ]
      },
      {
       "output_type": "stream",
       "stream": "stderr",
       "text": [
        "522 523 524 "
       ]
      },
      {
       "output_type": "stream",
       "stream": "stderr",
       "text": [
        "525 526 "
       ]
      },
      {
       "output_type": "stream",
       "stream": "stderr",
       "text": [
        "527 528 "
       ]
      },
      {
       "output_type": "stream",
       "stream": "stderr",
       "text": [
        "529 530 531 "
       ]
      },
      {
       "output_type": "stream",
       "stream": "stderr",
       "text": [
        "532 533 "
       ]
      },
      {
       "output_type": "stream",
       "stream": "stderr",
       "text": [
        "534 535 536 "
       ]
      },
      {
       "output_type": "stream",
       "stream": "stderr",
       "text": [
        "537 538 "
       ]
      },
      {
       "output_type": "stream",
       "stream": "stderr",
       "text": [
        "539 540 "
       ]
      },
      {
       "output_type": "stream",
       "stream": "stderr",
       "text": [
        "541 542 "
       ]
      },
      {
       "output_type": "stream",
       "stream": "stderr",
       "text": [
        "543 544 545 "
       ]
      },
      {
       "output_type": "stream",
       "stream": "stderr",
       "text": [
        "546 547 548 "
       ]
      },
      {
       "output_type": "stream",
       "stream": "stderr",
       "text": [
        "549 550 "
       ]
      },
      {
       "output_type": "stream",
       "stream": "stderr",
       "text": [
        "551 552 553 554 "
       ]
      },
      {
       "output_type": "stream",
       "stream": "stderr",
       "text": [
        "555 556 "
       ]
      },
      {
       "output_type": "stream",
       "stream": "stderr",
       "text": [
        "557 558 559 "
       ]
      },
      {
       "output_type": "stream",
       "stream": "stderr",
       "text": [
        "560 561 "
       ]
      },
      {
       "output_type": "stream",
       "stream": "stderr",
       "text": [
        "562 563 "
       ]
      },
      {
       "output_type": "stream",
       "stream": "stderr",
       "text": [
        "564 565 566 "
       ]
      },
      {
       "output_type": "stream",
       "stream": "stderr",
       "text": [
        "567 568 "
       ]
      },
      {
       "output_type": "stream",
       "stream": "stderr",
       "text": [
        "569 570 571 "
       ]
      },
      {
       "output_type": "stream",
       "stream": "stderr",
       "text": [
        "572 573 "
       ]
      },
      {
       "output_type": "stream",
       "stream": "stderr",
       "text": [
        "574 575 "
       ]
      },
      {
       "output_type": "stream",
       "stream": "stderr",
       "text": [
        "576 577 "
       ]
      },
      {
       "output_type": "stream",
       "stream": "stderr",
       "text": [
        "578 579 580 "
       ]
      },
      {
       "output_type": "stream",
       "stream": "stderr",
       "text": [
        "581 582 583 "
       ]
      },
      {
       "output_type": "stream",
       "stream": "stderr",
       "text": [
        "584 585 "
       ]
      },
      {
       "output_type": "stream",
       "stream": "stderr",
       "text": [
        "586 587 588 589 "
       ]
      },
      {
       "output_type": "stream",
       "stream": "stderr",
       "text": [
        "590 591 "
       ]
      },
      {
       "output_type": "stream",
       "stream": "stderr",
       "text": [
        "592 593 594 "
       ]
      },
      {
       "output_type": "stream",
       "stream": "stderr",
       "text": [
        "595 596 "
       ]
      },
      {
       "output_type": "stream",
       "stream": "stderr",
       "text": [
        "597 598 "
       ]
      },
      {
       "output_type": "stream",
       "stream": "stderr",
       "text": [
        "599 600 601 "
       ]
      },
      {
       "output_type": "stream",
       "stream": "stderr",
       "text": [
        "602 603 "
       ]
      },
      {
       "output_type": "stream",
       "stream": "stderr",
       "text": [
        "604 605 606 "
       ]
      },
      {
       "output_type": "stream",
       "stream": "stderr",
       "text": [
        "607 608 "
       ]
      },
      {
       "output_type": "stream",
       "stream": "stderr",
       "text": [
        "609 610 "
       ]
      },
      {
       "output_type": "stream",
       "stream": "stderr",
       "text": [
        "611 612 "
       ]
      },
      {
       "output_type": "stream",
       "stream": "stderr",
       "text": [
        "613 614 615 "
       ]
      },
      {
       "output_type": "stream",
       "stream": "stderr",
       "text": [
        "616 617 618 "
       ]
      },
      {
       "output_type": "stream",
       "stream": "stderr",
       "text": [
        "619 620 "
       ]
      },
      {
       "output_type": "stream",
       "stream": "stderr",
       "text": [
        "621 622 623 624 "
       ]
      },
      {
       "output_type": "stream",
       "stream": "stderr",
       "text": [
        "625 626 "
       ]
      },
      {
       "output_type": "stream",
       "stream": "stderr",
       "text": [
        "627 628 629 "
       ]
      },
      {
       "output_type": "stream",
       "stream": "stderr",
       "text": [
        "630 631 "
       ]
      },
      {
       "output_type": "stream",
       "stream": "stderr",
       "text": [
        "632 633 "
       ]
      },
      {
       "output_type": "stream",
       "stream": "stderr",
       "text": [
        "634 635 636 "
       ]
      },
      {
       "output_type": "stream",
       "stream": "stderr",
       "text": [
        "637 638 "
       ]
      },
      {
       "output_type": "stream",
       "stream": "stderr",
       "text": [
        "639 640 641 "
       ]
      },
      {
       "output_type": "stream",
       "stream": "stderr",
       "text": [
        "642 643 644 645 "
       ]
      },
      {
       "output_type": "stream",
       "stream": "stderr",
       "text": [
        "646 647 "
       ]
      },
      {
       "output_type": "stream",
       "stream": "stderr",
       "text": [
        "648 649 "
       ]
      },
      {
       "output_type": "stream",
       "stream": "stderr",
       "text": [
        "650 651 652 "
       ]
      },
      {
       "output_type": "stream",
       "stream": "stderr",
       "text": [
        "653 654 655 "
       ]
      },
      {
       "output_type": "stream",
       "stream": "stderr",
       "text": [
        "656 657 "
       ]
      },
      {
       "output_type": "stream",
       "stream": "stderr",
       "text": [
        "658 659 660 661 "
       ]
      },
      {
       "output_type": "stream",
       "stream": "stderr",
       "text": [
        "662 663 "
       ]
      },
      {
       "output_type": "stream",
       "stream": "stderr",
       "text": [
        "664 665 666 "
       ]
      },
      {
       "output_type": "stream",
       "stream": "stderr",
       "text": [
        "667 668 "
       ]
      },
      {
       "output_type": "stream",
       "stream": "stderr",
       "text": [
        "669 670 "
       ]
      },
      {
       "output_type": "stream",
       "stream": "stderr",
       "text": [
        "671 672 673 "
       ]
      },
      {
       "output_type": "stream",
       "stream": "stderr",
       "text": [
        "674 675 "
       ]
      },
      {
       "output_type": "stream",
       "stream": "stderr",
       "text": [
        "676 677 "
       ]
      }
     ],
     "prompt_number": 168
    },
    {
     "cell_type": "code",
     "collapsed": false,
     "input": [
      "print times_locations[0]\n",
      "print pickups[0]"
     ],
     "language": "python",
     "metadata": {},
     "outputs": [
      {
       "output_type": "stream",
       "stream": "stdout",
       "text": [
        "['0', datetime.datetime(2012, 5, 11, 20, 0), datetime.datetime(2012, 5, 11, 22, 0), 42.343365, -71.057114]\n",
        "[datetime.datetime(2012, 5, 7, 14, 54), -71.107178, 42.335685]\n"
       ]
      }
     ],
     "prompt_number": 158
    },
    {
     "cell_type": "code",
     "collapsed": false,
     "input": [
      "def calculate_square_dist( lon1, lat1, lon2, lat2 ):\n",
      "    return ( lon1 - lon2 )**2 + ( lat1 - lat2 )**2 \n",
      "\n",
      "#((pickup.lat - location.lat)^2 + (pickup.lon - location.lon)^2)^0.5 <  and\n",
      "#     (pickup.time >= timespan.start and pickup.time <= timespan.end)\n",
      "    "
     ],
     "language": "python",
     "metadata": {},
     "outputs": [],
     "prompt_number": 23
    },
    {
     "cell_type": "code",
     "collapsed": false,
     "input": [
      "DIST_THRESHOLD = 0.00224946357\n",
      "SQ_DIST_THRESHOLD = DIST_THRESHOLD**2"
     ],
     "language": "python",
     "metadata": {},
     "outputs": [],
     "prompt_number": 83
    },
    {
     "cell_type": "code",
     "collapsed": false,
     "input": [
      "# get day\n",
      "import collections\n",
      "pickups_dict = {}\n",
      "\n",
      "pickups_guess = {}\n",
      "for entry in times_locations: \n",
      "    day = entry[1].date()\n",
      "    if day in pickups_dict:\n",
      "        pass\n",
      "    else:\n",
      "        pickups_dict[day] = [ i for i in pickups if i[0].date() == day ]\n",
      "    \n",
      "    \n",
      "    hours = [ i[0].hour for i in pickups_dict[day] ]\n",
      "    hours_count = collections.Counter( hours )\n",
      "    \n",
      "    \n",
      "    close_pickups = [ i for i in pickups_dict[day] if calculate_square_dist( i[1], i[2], entry[4], entry[3] ) <= SQ_DIST_THRESHOLD ]\n",
      "\n",
      "    start_hour = entry[1].hour\n",
      "    end_hour = entry[2].hour - 1\n",
      "    total_pickups_in_interval = hours_count[start_hour] + hours_count[end_hour]\n",
      "    fraction_of_pickups = float( total_pickups_in_interval ) / len( hours )\n",
      "    \n",
      "    float_estimate = len(close_pickups) * fraction_of_pickups\n",
      "    pickups_guess[entry[0]] = int( round( float_estimate, 0 ) )"
     ],
     "language": "python",
     "metadata": {},
     "outputs": [],
     "prompt_number": 182
    },
    {
     "cell_type": "code",
     "collapsed": false,
     "input": [
      "# get day of week\n",
      "import sys\n",
      "import collections\n",
      "pickups_dict = {}\n",
      "\n",
      "pickups_guess = {}\n",
      "for entry in times_locations: \n",
      "    sys.stderr.write( \"%s \" % entry[0] )\n",
      "    target_property = entry[1].date() + datetime.timedelta( days=7 )\n",
      "    if target_property in pickups_dict:\n",
      "        pass\n",
      "    else:\n",
      "        satisfying_pickups = [ i for i in pickups if i[0].date() == target_property ]\n",
      "        if len( satisfying_pickups ) > 100000:\n",
      "            pickups_dict[target_property] = random.sample( satisfying_pickups, 100000 )\n",
      "        else:\n",
      "            pickups_dict[target_property] = satisfying_pickups\n",
      "    \n",
      "    hours = [ i[0].hour for i in pickups_dict[target_property] ]\n",
      "    hours_count = collections.Counter( hours )\n",
      "    \n",
      "    \n",
      "    close_pickups = [ i for i in pickups_dict[target_property] if calculate_square_dist( i[1], i[2], entry[4], entry[3] ) <= SQ_DIST_THRESHOLD ]\n",
      "\n",
      "    start_hour = entry[1].hour\n",
      "    end_hour = entry[2].hour - 1\n",
      "    total_pickups_in_interval = hours_count[start_hour] + hours_count[end_hour]\n",
      "    fraction_of_pickups = float( total_pickups_in_interval ) / len( hours )\n",
      "    \n",
      "    float_estimate = len(close_pickups) * fraction_of_pickups\n",
      "    pickups_guess[entry[0]] = int( round( float_estimate, 0 ) )"
     ],
     "language": "python",
     "metadata": {},
     "outputs": [
      {
       "output_type": "stream",
       "stream": "stderr",
       "text": [
        "0 1 "
       ]
      },
      {
       "output_type": "stream",
       "stream": "stderr",
       "text": [
        "2 3 4 "
       ]
      },
      {
       "output_type": "stream",
       "stream": "stderr",
       "text": [
        "5 6 7 "
       ]
      },
      {
       "output_type": "stream",
       "stream": "stderr",
       "text": [
        "8 9 10 "
       ]
      },
      {
       "output_type": "stream",
       "stream": "stderr",
       "text": [
        "11 12 13 "
       ]
      },
      {
       "output_type": "stream",
       "stream": "stderr",
       "text": [
        "14 15 16 "
       ]
      },
      {
       "output_type": "stream",
       "stream": "stderr",
       "text": [
        "17 18 19 "
       ]
      },
      {
       "output_type": "stream",
       "stream": "stderr",
       "text": [
        "20 21 22 "
       ]
      },
      {
       "output_type": "stream",
       "stream": "stderr",
       "text": [
        "23 24 25 "
       ]
      },
      {
       "output_type": "stream",
       "stream": "stderr",
       "text": [
        "26 27 28 "
       ]
      },
      {
       "output_type": "stream",
       "stream": "stderr",
       "text": [
        "29 30 31 "
       ]
      },
      {
       "output_type": "stream",
       "stream": "stderr",
       "text": [
        "32 33 34 "
       ]
      },
      {
       "output_type": "stream",
       "stream": "stderr",
       "text": [
        "35 36 "
       ]
      },
      {
       "output_type": "stream",
       "stream": "stderr",
       "text": [
        "37 38 39 "
       ]
      },
      {
       "output_type": "stream",
       "stream": "stderr",
       "text": [
        "40 41 42 "
       ]
      },
      {
       "output_type": "stream",
       "stream": "stderr",
       "text": [
        "43 44 45 "
       ]
      },
      {
       "output_type": "stream",
       "stream": "stderr",
       "text": [
        "46 47 48 "
       ]
      },
      {
       "output_type": "stream",
       "stream": "stderr",
       "text": [
        "49 50 51 "
       ]
      },
      {
       "output_type": "stream",
       "stream": "stderr",
       "text": [
        "52 53 54 "
       ]
      },
      {
       "output_type": "stream",
       "stream": "stderr",
       "text": [
        "55 56 57 "
       ]
      },
      {
       "output_type": "stream",
       "stream": "stderr",
       "text": [
        "58 59 60 "
       ]
      },
      {
       "output_type": "stream",
       "stream": "stderr",
       "text": [
        "61 62 63 "
       ]
      },
      {
       "output_type": "stream",
       "stream": "stderr",
       "text": [
        "64 65 66 "
       ]
      },
      {
       "output_type": "stream",
       "stream": "stderr",
       "text": [
        "67 68 69 "
       ]
      },
      {
       "output_type": "stream",
       "stream": "stderr",
       "text": [
        "70 71 "
       ]
      },
      {
       "output_type": "stream",
       "stream": "stderr",
       "text": [
        "72 73 74 75 "
       ]
      },
      {
       "output_type": "stream",
       "stream": "stderr",
       "text": [
        "76 77 78 "
       ]
      },
      {
       "output_type": "stream",
       "stream": "stderr",
       "text": [
        "79 80 81 82 "
       ]
      },
      {
       "output_type": "stream",
       "stream": "stderr",
       "text": [
        "83 84 85 86 "
       ]
      },
      {
       "output_type": "stream",
       "stream": "stderr",
       "text": [
        "87 88 89 "
       ]
      },
      {
       "output_type": "stream",
       "stream": "stderr",
       "text": [
        "90 91 92 "
       ]
      },
      {
       "output_type": "stream",
       "stream": "stderr",
       "text": [
        "93 94 95 96 "
       ]
      },
      {
       "output_type": "stream",
       "stream": "stderr",
       "text": [
        "97 98 99 100 "
       ]
      },
      {
       "output_type": "stream",
       "stream": "stderr",
       "text": [
        "101 102 103 "
       ]
      },
      {
       "output_type": "stream",
       "stream": "stderr",
       "text": [
        "104 105 106 "
       ]
      },
      {
       "output_type": "stream",
       "stream": "stderr",
       "text": [
        "107 108 109 "
       ]
      },
      {
       "output_type": "stream",
       "stream": "stderr",
       "text": [
        "110 111 112 "
       ]
      },
      {
       "output_type": "stream",
       "stream": "stderr",
       "text": [
        "113 114 115 "
       ]
      },
      {
       "output_type": "stream",
       "stream": "stderr",
       "text": [
        "116 117 118 "
       ]
      },
      {
       "output_type": "stream",
       "stream": "stderr",
       "text": [
        "119 120 121 "
       ]
      },
      {
       "output_type": "stream",
       "stream": "stderr",
       "text": [
        "122 123 124 "
       ]
      },
      {
       "output_type": "stream",
       "stream": "stderr",
       "text": [
        "125 126 127 "
       ]
      },
      {
       "output_type": "stream",
       "stream": "stderr",
       "text": [
        "128 129 130 "
       ]
      },
      {
       "output_type": "stream",
       "stream": "stderr",
       "text": [
        "131 132 133 "
       ]
      },
      {
       "output_type": "stream",
       "stream": "stderr",
       "text": [
        "134 135 136 "
       ]
      },
      {
       "output_type": "stream",
       "stream": "stderr",
       "text": [
        "137 138 139 "
       ]
      },
      {
       "output_type": "stream",
       "stream": "stderr",
       "text": [
        "140 141 "
       ]
      },
      {
       "output_type": "stream",
       "stream": "stderr",
       "text": [
        "142 143 144 "
       ]
      },
      {
       "output_type": "stream",
       "stream": "stderr",
       "text": [
        "145 146 147 148 "
       ]
      },
      {
       "output_type": "stream",
       "stream": "stderr",
       "text": [
        "149 150 151 152 "
       ]
      },
      {
       "output_type": "stream",
       "stream": "stderr",
       "text": [
        "153 154 155 "
       ]
      },
      {
       "output_type": "stream",
       "stream": "stderr",
       "text": [
        "156 157 158 159 "
       ]
      },
      {
       "output_type": "stream",
       "stream": "stderr",
       "text": [
        "160 161 162 163 "
       ]
      },
      {
       "output_type": "stream",
       "stream": "stderr",
       "text": [
        "164 165 166 "
       ]
      },
      {
       "output_type": "stream",
       "stream": "stderr",
       "text": [
        "167 168 169 170 "
       ]
      },
      {
       "output_type": "stream",
       "stream": "stderr",
       "text": [
        "171 172 173 "
       ]
      },
      {
       "output_type": "stream",
       "stream": "stderr",
       "text": [
        "174 175 176 "
       ]
      },
      {
       "output_type": "stream",
       "stream": "stderr",
       "text": [
        "177 178 179 180 "
       ]
      },
      {
       "output_type": "stream",
       "stream": "stderr",
       "text": [
        "181 182 183 "
       ]
      },
      {
       "output_type": "stream",
       "stream": "stderr",
       "text": [
        "184 185 186 "
       ]
      },
      {
       "output_type": "stream",
       "stream": "stderr",
       "text": [
        "187 188 189 "
       ]
      },
      {
       "output_type": "stream",
       "stream": "stderr",
       "text": [
        "190 191 192 "
       ]
      },
      {
       "output_type": "stream",
       "stream": "stderr",
       "text": [
        "193 194 195 "
       ]
      },
      {
       "output_type": "stream",
       "stream": "stderr",
       "text": [
        "196 197 198 "
       ]
      },
      {
       "output_type": "stream",
       "stream": "stderr",
       "text": [
        "199 200 201 "
       ]
      },
      {
       "output_type": "stream",
       "stream": "stderr",
       "text": [
        "202 203 204 "
       ]
      },
      {
       "output_type": "stream",
       "stream": "stderr",
       "text": [
        "205 206 207 "
       ]
      },
      {
       "output_type": "stream",
       "stream": "stderr",
       "text": [
        "208 209 210 "
       ]
      },
      {
       "output_type": "stream",
       "stream": "stderr",
       "text": [
        "211 212 213 "
       ]
      },
      {
       "output_type": "stream",
       "stream": "stderr",
       "text": [
        "214 215 216 "
       ]
      },
      {
       "output_type": "stream",
       "stream": "stderr",
       "text": [
        "217 218 219 220 "
       ]
      },
      {
       "output_type": "stream",
       "stream": "stderr",
       "text": [
        "221 222 223 224 "
       ]
      },
      {
       "output_type": "stream",
       "stream": "stderr",
       "text": [
        "225 226 227 228 "
       ]
      },
      {
       "output_type": "stream",
       "stream": "stderr",
       "text": [
        "229 230 231 232 "
       ]
      },
      {
       "output_type": "stream",
       "stream": "stderr",
       "text": [
        "233 234 235 "
       ]
      },
      {
       "output_type": "stream",
       "stream": "stderr",
       "text": [
        "236 237 238 "
       ]
      },
      {
       "output_type": "stream",
       "stream": "stderr",
       "text": [
        "239 240 241 242 "
       ]
      },
      {
       "output_type": "stream",
       "stream": "stderr",
       "text": [
        "243 244 245 "
       ]
      },
      {
       "output_type": "stream",
       "stream": "stderr",
       "text": [
        "246 247 248 "
       ]
      },
      {
       "output_type": "stream",
       "stream": "stderr",
       "text": [
        "249 250 251 "
       ]
      },
      {
       "output_type": "stream",
       "stream": "stderr",
       "text": [
        "252 253 254 "
       ]
      },
      {
       "output_type": "stream",
       "stream": "stderr",
       "text": [
        "255 256 257 "
       ]
      },
      {
       "output_type": "stream",
       "stream": "stderr",
       "text": [
        "258 259 260 "
       ]
      },
      {
       "output_type": "stream",
       "stream": "stderr",
       "text": [
        "261 262 263 "
       ]
      },
      {
       "output_type": "stream",
       "stream": "stderr",
       "text": [
        "264 265 266 "
       ]
      },
      {
       "output_type": "stream",
       "stream": "stderr",
       "text": [
        "267 268 269 "
       ]
      },
      {
       "output_type": "stream",
       "stream": "stderr",
       "text": [
        "270 271 272 "
       ]
      },
      {
       "output_type": "stream",
       "stream": "stderr",
       "text": [
        "273 274 275 "
       ]
      },
      {
       "output_type": "stream",
       "stream": "stderr",
       "text": [
        "276 277 278 "
       ]
      },
      {
       "output_type": "stream",
       "stream": "stderr",
       "text": [
        "279 280 281 "
       ]
      },
      {
       "output_type": "stream",
       "stream": "stderr",
       "text": [
        "282 283 284 "
       ]
      },
      {
       "output_type": "stream",
       "stream": "stderr",
       "text": [
        "285 286 "
       ]
      },
      {
       "output_type": "stream",
       "stream": "stderr",
       "text": [
        "287 288 289 290 "
       ]
      },
      {
       "output_type": "stream",
       "stream": "stderr",
       "text": [
        "291 292 293 294 "
       ]
      },
      {
       "output_type": "stream",
       "stream": "stderr",
       "text": [
        "295 296 297 298 "
       ]
      },
      {
       "output_type": "stream",
       "stream": "stderr",
       "text": [
        "299 300 301 302 "
       ]
      },
      {
       "output_type": "stream",
       "stream": "stderr",
       "text": [
        "303 304 305 306 "
       ]
      },
      {
       "output_type": "stream",
       "stream": "stderr",
       "text": [
        "307 308 309 "
       ]
      },
      {
       "output_type": "stream",
       "stream": "stderr",
       "text": [
        "310 311 312 313 "
       ]
      },
      {
       "output_type": "stream",
       "stream": "stderr",
       "text": [
        "314 315 316 317 318 "
       ]
      },
      {
       "output_type": "stream",
       "stream": "stderr",
       "text": [
        "319 320 321 322 "
       ]
      },
      {
       "output_type": "stream",
       "stream": "stderr",
       "text": [
        "323 324 325 "
       ]
      },
      {
       "output_type": "stream",
       "stream": "stderr",
       "text": [
        "326 327 328 "
       ]
      },
      {
       "output_type": "stream",
       "stream": "stderr",
       "text": [
        "329 330 331 "
       ]
      },
      {
       "output_type": "stream",
       "stream": "stderr",
       "text": [
        "332 333 334 "
       ]
      },
      {
       "output_type": "stream",
       "stream": "stderr",
       "text": [
        "335 336 337 "
       ]
      },
      {
       "output_type": "stream",
       "stream": "stderr",
       "text": [
        "338 339 340 "
       ]
      },
      {
       "output_type": "stream",
       "stream": "stderr",
       "text": [
        "341 342 343 "
       ]
      },
      {
       "output_type": "stream",
       "stream": "stderr",
       "text": [
        "344 345 346 "
       ]
      },
      {
       "output_type": "stream",
       "stream": "stderr",
       "text": [
        "347 348 349 "
       ]
      },
      {
       "output_type": "stream",
       "stream": "stderr",
       "text": [
        "350 351 352 "
       ]
      },
      {
       "output_type": "stream",
       "stream": "stderr",
       "text": [
        "353 354 355 "
       ]
      },
      {
       "output_type": "stream",
       "stream": "stderr",
       "text": [
        "356 357 358 "
       ]
      },
      {
       "output_type": "stream",
       "stream": "stderr",
       "text": [
        "359 360 361 "
       ]
      },
      {
       "output_type": "stream",
       "stream": "stderr",
       "text": [
        "362 363 364 "
       ]
      },
      {
       "output_type": "stream",
       "stream": "stderr",
       "text": [
        "365 366 367 "
       ]
      },
      {
       "output_type": "stream",
       "stream": "stderr",
       "text": [
        "368 369 370 "
       ]
      },
      {
       "output_type": "stream",
       "stream": "stderr",
       "text": [
        "371 372 373 "
       ]
      },
      {
       "output_type": "stream",
       "stream": "stderr",
       "text": [
        "374 375 376 "
       ]
      },
      {
       "output_type": "stream",
       "stream": "stderr",
       "text": [
        "377 378 379 "
       ]
      },
      {
       "output_type": "stream",
       "stream": "stderr",
       "text": [
        "380 381 382 "
       ]
      },
      {
       "output_type": "stream",
       "stream": "stderr",
       "text": [
        "383 384 385 "
       ]
      },
      {
       "output_type": "stream",
       "stream": "stderr",
       "text": [
        "386 387 388 "
       ]
      },
      {
       "output_type": "stream",
       "stream": "stderr",
       "text": [
        "389 390 391 "
       ]
      },
      {
       "output_type": "stream",
       "stream": "stderr",
       "text": [
        "392 393 394 "
       ]
      },
      {
       "output_type": "stream",
       "stream": "stderr",
       "text": [
        "395 396 "
       ]
      },
      {
       "output_type": "stream",
       "stream": "stderr",
       "text": [
        "397 398 399 "
       ]
      },
      {
       "output_type": "stream",
       "stream": "stderr",
       "text": [
        "400 401 402 403 "
       ]
      },
      {
       "output_type": "stream",
       "stream": "stderr",
       "text": [
        "404 405 406 "
       ]
      },
      {
       "output_type": "stream",
       "stream": "stderr",
       "text": [
        "407 408 409 "
       ]
      },
      {
       "output_type": "stream",
       "stream": "stderr",
       "text": [
        "410 411 412 "
       ]
      },
      {
       "output_type": "stream",
       "stream": "stderr",
       "text": [
        "413 414 415 "
       ]
      },
      {
       "output_type": "stream",
       "stream": "stderr",
       "text": [
        "416 417 418 "
       ]
      },
      {
       "output_type": "stream",
       "stream": "stderr",
       "text": [
        "419 420 421 "
       ]
      },
      {
       "output_type": "stream",
       "stream": "stderr",
       "text": [
        "422 423 424 "
       ]
      },
      {
       "output_type": "stream",
       "stream": "stderr",
       "text": [
        "425 426 427 428 "
       ]
      },
      {
       "output_type": "stream",
       "stream": "stderr",
       "text": [
        "429 430 431 "
       ]
      },
      {
       "output_type": "stream",
       "stream": "stderr",
       "text": [
        "432 433 434 "
       ]
      },
      {
       "output_type": "stream",
       "stream": "stderr",
       "text": [
        "435 436 437 "
       ]
      },
      {
       "output_type": "stream",
       "stream": "stderr",
       "text": [
        "438 439 440 "
       ]
      },
      {
       "output_type": "stream",
       "stream": "stderr",
       "text": [
        "441 442 443 "
       ]
      },
      {
       "output_type": "stream",
       "stream": "stderr",
       "text": [
        "444 445 446 "
       ]
      },
      {
       "output_type": "stream",
       "stream": "stderr",
       "text": [
        "447 448 449 "
       ]
      },
      {
       "output_type": "stream",
       "stream": "stderr",
       "text": [
        "450 451 452 "
       ]
      },
      {
       "output_type": "stream",
       "stream": "stderr",
       "text": [
        "453 454 455 "
       ]
      },
      {
       "output_type": "stream",
       "stream": "stderr",
       "text": [
        "456 457 "
       ]
      },
      {
       "output_type": "stream",
       "stream": "stderr",
       "text": [
        "458 459 460 "
       ]
      },
      {
       "output_type": "stream",
       "stream": "stderr",
       "text": [
        "461 462 463 "
       ]
      },
      {
       "output_type": "stream",
       "stream": "stderr",
       "text": [
        "464 465 466 "
       ]
      },
      {
       "output_type": "stream",
       "stream": "stderr",
       "text": [
        "467 468 469 "
       ]
      },
      {
       "output_type": "stream",
       "stream": "stderr",
       "text": [
        "470 471 472 "
       ]
      },
      {
       "output_type": "stream",
       "stream": "stderr",
       "text": [
        "473 474 475 476 "
       ]
      },
      {
       "output_type": "stream",
       "stream": "stderr",
       "text": [
        "477 478 479 "
       ]
      },
      {
       "output_type": "stream",
       "stream": "stderr",
       "text": [
        "480 481 482 483 "
       ]
      },
      {
       "output_type": "stream",
       "stream": "stderr",
       "text": [
        "484 485 486 "
       ]
      },
      {
       "output_type": "stream",
       "stream": "stderr",
       "text": [
        "487 488 489 "
       ]
      },
      {
       "output_type": "stream",
       "stream": "stderr",
       "text": [
        "490 491 492 "
       ]
      },
      {
       "output_type": "stream",
       "stream": "stderr",
       "text": [
        "493 494 495 "
       ]
      },
      {
       "output_type": "stream",
       "stream": "stderr",
       "text": [
        "496 497 498 "
       ]
      },
      {
       "output_type": "stream",
       "stream": "stderr",
       "text": [
        "499 500 501 "
       ]
      },
      {
       "output_type": "stream",
       "stream": "stderr",
       "text": [
        "502 503 504 "
       ]
      },
      {
       "output_type": "stream",
       "stream": "stderr",
       "text": [
        "505 506 507 "
       ]
      },
      {
       "output_type": "stream",
       "stream": "stderr",
       "text": [
        "508 509 510 "
       ]
      },
      {
       "output_type": "stream",
       "stream": "stderr",
       "text": [
        "511 512 513 "
       ]
      },
      {
       "output_type": "stream",
       "stream": "stderr",
       "text": [
        "514 515 516 "
       ]
      },
      {
       "output_type": "stream",
       "stream": "stderr",
       "text": [
        "517 518 519 "
       ]
      },
      {
       "output_type": "stream",
       "stream": "stderr",
       "text": [
        "520 521 522 "
       ]
      },
      {
       "output_type": "stream",
       "stream": "stderr",
       "text": [
        "523 524 525 "
       ]
      },
      {
       "output_type": "stream",
       "stream": "stderr",
       "text": [
        "526 527 528 "
       ]
      },
      {
       "output_type": "stream",
       "stream": "stderr",
       "text": [
        "529 530 531 "
       ]
      },
      {
       "output_type": "stream",
       "stream": "stderr",
       "text": [
        "532 533 534 "
       ]
      },
      {
       "output_type": "stream",
       "stream": "stderr",
       "text": [
        "535 536 537 "
       ]
      },
      {
       "output_type": "stream",
       "stream": "stderr",
       "text": [
        "538 539 540 "
       ]
      },
      {
       "output_type": "stream",
       "stream": "stderr",
       "text": [
        "541 542 543 "
       ]
      },
      {
       "output_type": "stream",
       "stream": "stderr",
       "text": [
        "544 545 546 "
       ]
      },
      {
       "output_type": "stream",
       "stream": "stderr",
       "text": [
        "547 548 549 "
       ]
      },
      {
       "output_type": "stream",
       "stream": "stderr",
       "text": [
        "550 551 552 "
       ]
      },
      {
       "output_type": "stream",
       "stream": "stderr",
       "text": [
        "553 554 555 "
       ]
      },
      {
       "output_type": "stream",
       "stream": "stderr",
       "text": [
        "556 557 558 "
       ]
      },
      {
       "output_type": "stream",
       "stream": "stderr",
       "text": [
        "559 560 561 "
       ]
      },
      {
       "output_type": "stream",
       "stream": "stderr",
       "text": [
        "562 563 564 "
       ]
      },
      {
       "output_type": "stream",
       "stream": "stderr",
       "text": [
        "565 566 "
       ]
      },
      {
       "output_type": "stream",
       "stream": "stderr",
       "text": [
        "567 568 569 "
       ]
      },
      {
       "output_type": "stream",
       "stream": "stderr",
       "text": [
        "570 571 "
       ]
      },
      {
       "output_type": "stream",
       "stream": "stderr",
       "text": [
        "572 573 574 "
       ]
      },
      {
       "output_type": "stream",
       "stream": "stderr",
       "text": [
        "575 576 577 "
       ]
      },
      {
       "output_type": "stream",
       "stream": "stderr",
       "text": [
        "578 579 580 "
       ]
      },
      {
       "output_type": "stream",
       "stream": "stderr",
       "text": [
        "581 582 583 "
       ]
      },
      {
       "output_type": "stream",
       "stream": "stderr",
       "text": [
        "584 585 586 "
       ]
      },
      {
       "output_type": "stream",
       "stream": "stderr",
       "text": [
        "587 588 589 "
       ]
      },
      {
       "output_type": "stream",
       "stream": "stderr",
       "text": [
        "590 591 592 "
       ]
      },
      {
       "output_type": "stream",
       "stream": "stderr",
       "text": [
        "593 594 595 "
       ]
      },
      {
       "output_type": "stream",
       "stream": "stderr",
       "text": [
        "596 597 598 "
       ]
      },
      {
       "output_type": "stream",
       "stream": "stderr",
       "text": [
        "599 600 "
       ]
      },
      {
       "output_type": "stream",
       "stream": "stderr",
       "text": [
        "601 602 603 "
       ]
      },
      {
       "output_type": "stream",
       "stream": "stderr",
       "text": [
        "604 605 606 "
       ]
      },
      {
       "output_type": "stream",
       "stream": "stderr",
       "text": [
        "607 608 609 "
       ]
      },
      {
       "output_type": "stream",
       "stream": "stderr",
       "text": [
        "610 611 612 "
       ]
      },
      {
       "output_type": "stream",
       "stream": "stderr",
       "text": [
        "613 614 615 "
       ]
      },
      {
       "output_type": "stream",
       "stream": "stderr",
       "text": [
        "616 617 618 "
       ]
      },
      {
       "output_type": "stream",
       "stream": "stderr",
       "text": [
        "619 620 621 "
       ]
      },
      {
       "output_type": "stream",
       "stream": "stderr",
       "text": [
        "622 623 624 "
       ]
      },
      {
       "output_type": "stream",
       "stream": "stderr",
       "text": [
        "625 626 627 "
       ]
      },
      {
       "output_type": "stream",
       "stream": "stderr",
       "text": [
        "628 629 630 "
       ]
      },
      {
       "output_type": "stream",
       "stream": "stderr",
       "text": [
        "631 632 633 "
       ]
      },
      {
       "output_type": "stream",
       "stream": "stderr",
       "text": [
        "634 635 636 "
       ]
      },
      {
       "output_type": "stream",
       "stream": "stderr",
       "text": [
        "637 638 639 "
       ]
      },
      {
       "output_type": "stream",
       "stream": "stderr",
       "text": [
        "640 641 "
       ]
      },
      {
       "output_type": "stream",
       "stream": "stderr",
       "text": [
        "642 643 "
       ]
      },
      {
       "output_type": "stream",
       "stream": "stderr",
       "text": [
        "644 645 646 "
       ]
      },
      {
       "output_type": "stream",
       "stream": "stderr",
       "text": [
        "647 648 649 "
       ]
      },
      {
       "output_type": "stream",
       "stream": "stderr",
       "text": [
        "650 651 652 "
       ]
      },
      {
       "output_type": "stream",
       "stream": "stderr",
       "text": [
        "653 654 655 "
       ]
      },
      {
       "output_type": "stream",
       "stream": "stderr",
       "text": [
        "656 657 658 "
       ]
      },
      {
       "output_type": "stream",
       "stream": "stderr",
       "text": [
        "659 660 661 "
       ]
      },
      {
       "output_type": "stream",
       "stream": "stderr",
       "text": [
        "662 663 664 "
       ]
      },
      {
       "output_type": "stream",
       "stream": "stderr",
       "text": [
        "665 666 667 "
       ]
      },
      {
       "output_type": "stream",
       "stream": "stderr",
       "text": [
        "668 669 670 "
       ]
      },
      {
       "output_type": "stream",
       "stream": "stderr",
       "text": [
        "671 672 673 "
       ]
      },
      {
       "output_type": "stream",
       "stream": "stderr",
       "text": [
        "674 675 676 "
       ]
      },
      {
       "output_type": "stream",
       "stream": "stderr",
       "text": [
        "677 "
       ]
      }
     ],
     "prompt_number": 127
    },
    {
     "cell_type": "code",
     "collapsed": false,
     "input": [
      "val = ( 1/0.001918 - 1 )**2 / 678\n",
      "print val"
     ],
     "language": "python",
     "metadata": {},
     "outputs": [
      {
       "output_type": "stream",
       "stream": "stdout",
       "text": [
        "399.397688553\n"
       ]
      }
     ],
     "prompt_number": 181
    },
    {
     "cell_type": "code",
     "collapsed": false,
     "input": [
      "t_ids = [ int(i) for i in pickups_guess.keys() ]\n",
      "t_ids.sort()\n",
      "\n",
      "write = True\n",
      "output_file = '../submissions/012.txt' \n",
      "import os\n",
      "\n",
      "if write: \n",
      "    pass\n",
      "else:\n",
      "    output_file = 'tmp.txt'\n",
      "\n",
      "with open( output_file, 'w' ) as f:\n",
      "    for t_id in t_ids:\n",
      "        output_string = \"%s %s\" % ( t_id, max(  int( round( pickups_guess[str(t_id)]*2, 0 )), 0 ) )\n",
      "        print output_string\n",
      "        if write:\n",
      "            f.write( output_string + \"\\n\" )\n",
      "        else:\n",
      "            pass"
     ],
     "language": "python",
     "metadata": {},
     "outputs": [
      {
       "output_type": "stream",
       "stream": "stdout",
       "text": [
        "0 6\n",
        "1 6\n",
        "2 94\n",
        "3 32\n",
        "4 56\n",
        "5 36\n",
        "6 116\n",
        "7 88\n",
        "8 0\n",
        "9 102\n",
        "10 8\n",
        "11 6\n",
        "12 24\n",
        "13 52\n",
        "14 22\n",
        "15 84\n",
        "16 2\n",
        "17 0\n",
        "18 78\n",
        "19 114\n",
        "20 76\n",
        "21 72\n",
        "22 4\n",
        "23 108\n",
        "24 16\n",
        "25 76\n",
        "26 78\n",
        "27 56\n",
        "28 144\n",
        "29 0\n",
        "30 140\n",
        "31 18\n",
        "32 20\n",
        "33 4\n",
        "34 12\n",
        "35 2\n",
        "36 0\n",
        "37 36\n",
        "38 16\n",
        "39 42\n",
        "40 38\n",
        "41 92\n",
        "42 40\n",
        "43 0\n",
        "44 34\n",
        "45 2\n",
        "46 2\n",
        "47 8\n",
        "48 16\n",
        "49 10\n",
        "50 46\n",
        "51 2\n",
        "52 0\n",
        "53 42\n",
        "54 46\n",
        "55 28\n",
        "56 32\n",
        "57 2\n",
        "58 40\n",
        "59 6\n",
        "60 28\n",
        "61 26\n",
        "62 50\n",
        "63 8\n",
        "64 0\n",
        "65 58\n",
        "66 10\n",
        "67 10\n",
        "68 2\n",
        "69 4\n",
        "70 6\n",
        "71 0\n",
        "72 72\n",
        "73 26\n",
        "74 34\n",
        "75 50\n",
        "76 98\n",
        "77 64\n",
        "78 0\n",
        "79 70\n",
        "80 4\n",
        "81 2\n",
        "82 16\n",
        "83 42\n",
        "84 22\n",
        "85 72\n",
        "86 2\n",
        "87 0\n",
        "88 60\n",
        "89 74\n",
        "90 64\n",
        "91 54\n",
        "92 6\n",
        "93 76\n",
        "94 18\n",
        "95 62\n",
        "96 52\n",
        "97 32\n",
        "98 34\n",
        "99 0\n",
        "100 122\n",
        "101 16\n",
        "102 22\n",
        "103 2\n",
        "104 12\n",
        "105 4\n",
        "106 0\n",
        "107 44\n",
        "108 22\n",
        "109 38\n",
        "110 32\n",
        "111 94\n",
        "112 78\n",
        "113 0\n",
        "114 44\n",
        "115 6\n",
        "116 8\n",
        "117 12\n",
        "118 32\n",
        "119 18\n",
        "120 80\n",
        "121 2\n",
        "122 0\n",
        "123 60\n",
        "124 50\n",
        "125 52\n",
        "126 40\n",
        "127 4\n",
        "128 48\n",
        "129 12\n",
        "130 36\n",
        "131 50\n",
        "132 56\n",
        "133 46\n",
        "134 0\n",
        "135 108\n",
        "136 14\n",
        "137 14\n",
        "138 2\n",
        "139 8\n",
        "140 6\n",
        "141 120\n",
        "142 10\n",
        "143 8\n",
        "144 0\n",
        "145 0\n",
        "146 12\n",
        "147 4\n",
        "148 6\n",
        "149 8\n",
        "150 20\n",
        "151 20\n",
        "152 0\n",
        "153 12\n",
        "154 2\n",
        "155 2\n",
        "156 4\n",
        "157 8\n",
        "158 4\n",
        "159 20\n",
        "160 0\n",
        "161 0\n",
        "162 14\n",
        "163 12\n",
        "164 14\n",
        "165 10\n",
        "166 2\n",
        "167 12\n",
        "168 4\n",
        "169 10\n",
        "170 10\n",
        "171 10\n",
        "172 12\n",
        "173 0\n",
        "174 22\n",
        "175 4\n",
        "176 2\n",
        "177 2\n",
        "178 2\n",
        "179 4\n",
        "180 6\n",
        "181 2\n",
        "182 68\n",
        "183 24\n",
        "184 42\n",
        "185 34\n",
        "186 106\n",
        "187 78\n",
        "188 0\n",
        "189 74\n",
        "190 4\n",
        "191 6\n",
        "192 22\n",
        "193 44\n",
        "194 20\n",
        "195 76\n",
        "196 2\n",
        "197 0\n",
        "198 68\n",
        "199 82\n",
        "200 64\n",
        "201 56\n",
        "202 6\n",
        "203 76\n",
        "204 16\n",
        "205 56\n",
        "206 92\n",
        "207 66\n",
        "208 28\n",
        "209 0\n",
        "210 116\n",
        "211 16\n",
        "212 16\n",
        "213 6\n",
        "214 16\n",
        "215 4\n",
        "216 0\n",
        "217 70\n",
        "218 22\n",
        "219 30\n",
        "220 50\n",
        "221 122\n",
        "222 62\n",
        "223 0\n",
        "224 66\n",
        "225 4\n",
        "226 4\n",
        "227 30\n",
        "228 38\n",
        "229 10\n",
        "230 78\n",
        "231 2\n",
        "232 0\n",
        "233 56\n",
        "234 80\n",
        "235 56\n",
        "236 54\n",
        "237 4\n",
        "238 74\n",
        "239 12\n",
        "240 58\n",
        "241 40\n",
        "242 30\n",
        "243 84\n",
        "244 0\n",
        "245 74\n",
        "246 14\n",
        "247 12\n",
        "248 4\n",
        "249 10\n",
        "250 2\n",
        "251 0\n",
        "252 52\n",
        "253 14\n",
        "254 22\n",
        "255 10\n",
        "256 38\n",
        "257 54\n",
        "258 0\n",
        "259 58\n",
        "260 4\n",
        "261 4\n",
        "262 20\n",
        "263 28\n",
        "264 24\n",
        "265 24\n",
        "266 2\n",
        "267 0\n",
        "268 38\n",
        "269 74\n",
        "270 30\n",
        "271 48\n",
        "272 14\n",
        "273 60\n",
        "274 14\n",
        "275 44\n",
        "276 62\n",
        "277 30\n",
        "278 10\n",
        "279 0\n",
        "280 72\n",
        "281 30\n",
        "282 14\n",
        "283 6\n",
        "284 16\n",
        "285 12\n",
        "286 0\n",
        "287 0\n",
        "288 2\n",
        "289 2\n",
        "290 2\n",
        "291 2\n",
        "292 4\n",
        "293 2\n",
        "294 0\n",
        "295 2\n",
        "296 0\n",
        "297 0\n",
        "298 0\n",
        "299 0\n",
        "300 0\n",
        "301 2\n",
        "302 0\n",
        "303 0\n",
        "304 2\n",
        "305 2\n",
        "306 0\n",
        "307 2\n",
        "308 0\n",
        "309 2\n",
        "310 0\n",
        "311 2\n",
        "312 2\n",
        "313 0\n",
        "314 0\n",
        "315 0\n",
        "316 4\n",
        "317 0\n",
        "318 0\n",
        "319 0\n",
        "320 0\n",
        "321 2\n",
        "322 0\n",
        "323 52\n",
        "324 14\n",
        "325 14\n",
        "326 18\n",
        "327 38\n",
        "328 48\n",
        "329 0\n",
        "330 60\n",
        "331 2\n",
        "332 2\n",
        "333 10\n",
        "334 18\n",
        "335 20\n",
        "336 18\n",
        "337 0\n",
        "338 0\n",
        "339 30\n",
        "340 70\n",
        "341 22\n",
        "342 34\n",
        "343 6\n",
        "344 62\n",
        "345 10\n",
        "346 44\n",
        "347 56\n",
        "348 34\n",
        "349 8\n",
        "350 0\n",
        "351 60\n",
        "352 22\n",
        "353 12\n",
        "354 4\n",
        "355 16\n",
        "356 2\n",
        "357 0\n",
        "358 70\n",
        "359 18\n",
        "360 20\n",
        "361 24\n",
        "362 52\n",
        "363 66\n",
        "364 0\n",
        "365 82\n",
        "366 2\n",
        "367 4\n",
        "368 14\n",
        "369 24\n",
        "370 28\n",
        "371 24\n",
        "372 0\n",
        "373 0\n",
        "374 42\n",
        "375 96\n",
        "376 30\n",
        "377 46\n",
        "378 10\n",
        "379 86\n",
        "380 12\n",
        "381 60\n",
        "382 78\n",
        "383 48\n",
        "384 10\n",
        "385 0\n",
        "386 82\n",
        "387 30\n",
        "388 18\n",
        "389 6\n",
        "390 22\n",
        "391 6\n",
        "392 176\n",
        "393 12\n",
        "394 84\n",
        "395 0\n",
        "396 0\n",
        "397 18\n",
        "398 8\n",
        "399 8\n",
        "400 12\n",
        "401 32\n",
        "402 24\n",
        "403 0\n",
        "404 18\n",
        "405 2\n",
        "406 2\n",
        "407 4\n",
        "408 10\n",
        "409 4\n",
        "410 30\n",
        "411 2\n",
        "412 0\n",
        "413 20\n",
        "414 18\n",
        "415 20\n",
        "416 16\n",
        "417 2\n",
        "418 20\n",
        "419 4\n",
        "420 14\n",
        "421 14\n",
        "422 6\n",
        "423 16\n",
        "424 0\n",
        "425 36\n",
        "426 6\n",
        "427 6\n",
        "428 2\n",
        "429 2\n",
        "430 2\n",
        "431 0\n",
        "432 20\n",
        "433 8\n",
        "434 10\n",
        "435 12\n",
        "436 32\n",
        "437 22\n",
        "438 0\n",
        "439 22\n",
        "440 2\n",
        "441 0\n",
        "442 6\n",
        "443 14\n",
        "444 6\n",
        "445 20\n",
        "446 0\n",
        "447 0\n",
        "448 20\n",
        "449 26\n",
        "450 18\n",
        "451 20\n",
        "452 2\n",
        "453 22\n",
        "454 4\n",
        "455 16\n",
        "456 18\n",
        "457 10\n",
        "458 6\n",
        "459 0\n",
        "460 36\n",
        "461 6\n",
        "462 6\n",
        "463 2\n",
        "464 4\n",
        "465 2\n",
        "466 0\n",
        "467 30\n",
        "468 10\n",
        "469 10\n",
        "470 26\n",
        "471 74\n",
        "472 32\n",
        "473 0\n",
        "474 30\n",
        "475 2\n",
        "476 2\n",
        "477 10\n",
        "478 16\n",
        "479 8\n",
        "480 24\n",
        "481 2\n",
        "482 0\n",
        "483 30\n",
        "484 34\n",
        "485 22\n",
        "486 24\n",
        "487 2\n",
        "488 32\n",
        "489 4\n",
        "490 24\n",
        "491 22\n",
        "492 10\n",
        "493 32\n",
        "494 0\n",
        "495 40\n",
        "496 10\n",
        "497 6\n",
        "498 0\n",
        "499 2\n",
        "500 6\n",
        "501 0\n",
        "502 52\n",
        "503 22\n",
        "504 24\n",
        "505 36\n",
        "506 84\n",
        "507 66\n",
        "508 0\n",
        "509 52\n",
        "510 2\n",
        "511 2\n",
        "512 8\n",
        "513 38\n",
        "514 22\n",
        "515 74\n",
        "516 2\n",
        "517 0\n",
        "518 62\n",
        "519 66\n",
        "520 50\n",
        "521 52\n",
        "522 4\n",
        "523 58\n",
        "524 12\n",
        "525 40\n",
        "526 54\n",
        "527 24\n",
        "528 14\n",
        "529 0\n",
        "530 88\n",
        "531 18\n",
        "532 14\n",
        "533 4\n",
        "534 4\n",
        "535 6\n",
        "536 0\n",
        "537 52\n",
        "538 20\n",
        "539 24\n",
        "540 36\n",
        "541 82\n",
        "542 64\n",
        "543 0\n",
        "544 50\n",
        "545 2\n",
        "546 2\n",
        "547 8\n",
        "548 38\n",
        "549 20\n",
        "550 72\n",
        "551 2\n",
        "552 0\n",
        "553 60\n",
        "554 64\n",
        "555 48\n",
        "556 50\n",
        "557 4\n",
        "558 56\n",
        "559 12\n",
        "560 40\n",
        "561 52\n",
        "562 24\n",
        "563 14\n",
        "564 0\n",
        "565 84\n",
        "566 18\n",
        "567 14\n",
        "568 4\n",
        "569 4\n",
        "570 6\n",
        "571 0\n",
        "572 56\n",
        "573 18\n",
        "574 40\n",
        "575 16\n",
        "576 48\n",
        "577 58\n",
        "578 0\n",
        "579 68\n",
        "580 2\n",
        "581 4\n",
        "582 16\n",
        "583 34\n",
        "584 32\n",
        "585 26\n",
        "586 2\n",
        "587 0\n",
        "588 58\n",
        "589 86\n",
        "590 40\n",
        "591 64\n",
        "592 4\n",
        "593 72\n",
        "594 14\n",
        "595 48\n",
        "596 64\n",
        "597 48\n",
        "598 12\n",
        "599 0\n",
        "600 106\n",
        "601 30\n",
        "602 26\n",
        "603 6\n",
        "604 10\n",
        "605 4\n",
        "606 0\n",
        "607 56\n",
        "608 26\n",
        "609 40\n",
        "610 42\n",
        "611 98\n",
        "612 74\n",
        "613 0\n",
        "614 54\n",
        "615 6\n",
        "616 4\n",
        "617 14\n",
        "618 34\n",
        "619 16\n",
        "620 80\n",
        "621 2\n",
        "622 0\n",
        "623 68\n",
        "624 62\n",
        "625 62\n",
        "626 48\n",
        "627 6\n",
        "628 58\n",
        "629 18\n",
        "630 44\n",
        "631 44\n",
        "632 22\n",
        "633 42\n",
        "634 0\n",
        "635 104\n",
        "636 18\n",
        "637 20\n",
        "638 2\n",
        "639 4\n",
        "640 16\n",
        "641 118\n",
        "642 8\n",
        "643 2\n",
        "644 108\n",
        "645 32\n",
        "646 56\n",
        "647 60\n",
        "648 154\n",
        "649 96\n",
        "650 0\n",
        "651 102\n",
        "652 12\n",
        "653 8\n",
        "654 32\n",
        "655 56\n",
        "656 20\n",
        "657 120\n",
        "658 6\n",
        "659 0\n",
        "660 92\n",
        "661 106\n",
        "662 100\n",
        "663 86\n",
        "664 2\n",
        "665 112\n",
        "666 22\n",
        "667 86\n",
        "668 66\n",
        "669 28\n",
        "670 92\n",
        "671 0\n",
        "672 166\n",
        "673 12\n",
        "674 20\n",
        "675 6\n",
        "676 4\n",
        "677 16\n"
       ]
      }
     ],
     "prompt_number": 189
    },
    {
     "cell_type": "code",
     "collapsed": false,
     "input": [
      "print sum( pickups_guess.values() )"
     ],
     "language": "python",
     "metadata": {},
     "outputs": [
      {
       "output_type": "stream",
       "stream": "stdout",
       "text": [
        "16980\n"
       ]
      }
     ],
     "prompt_number": 172
    },
    {
     "cell_type": "code",
     "collapsed": false,
     "input": [
      "import random\n",
      "downsampled_pickups = random.sample( pickups, 10000 )\n",
      "lons = [ i[1] for i in downsampled_pickups ]\n",
      "lats = [ i[2] for i in downsampled_pickups ]"
     ],
     "language": "python",
     "metadata": {},
     "outputs": [],
     "prompt_number": 53
    },
    {
     "cell_type": "code",
     "collapsed": false,
     "input": [
      "plt.Figure()\n",
      "figsize( 8, 8 )\n",
      "scatter( lons, lats, s=2, alpha=0.2 )\n",
      "plt.show()"
     ],
     "language": "python",
     "metadata": {},
     "outputs": [
      {
       "metadata": {},
       "output_type": "display_data",
       "png": "[encoded data removed]",
       "text": [
        "<matplotlib.figure.Figure at 0x138ac0710>"
       ]
      }
     ],
     "prompt_number": 81
    },
    {
     "cell_type": "code",
     "collapsed": false,
     "input": [
      "plt.Figure()\n",
      "figsize( 8, 8 )\n",
      "scatter( lons, lats, s=2, alpha=0.2 )\n",
      "plt.show()"
     ],
     "language": "python",
     "metadata": {},
     "outputs": []
    },
    {
     "cell_type": "code",
     "collapsed": false,
     "input": [
      "x = pickups_dict.iteritems().next()\n",
      "times = [ i[0].hour for i in x[1] ]"
     ],
     "language": "python",
     "metadata": {},
     "outputs": [],
     "prompt_number": 101
    }
   ],
   "metadata": {}
  }
 ]
}